{
 "cells": [
  {
   "cell_type": "markdown",
   "id": "e885a3cd",
   "metadata": {},
   "source": [
    "4.10.1 "
   ]
  },
  {
   "cell_type": "markdown",
   "id": "d6814df1",
   "metadata": {},
   "source": [
    "In this data their are first and last names that present PPI risks. However, since their are no home or email adresses and the data spans the whole U.S. their is no signifcant risk of traceback. As such, our analysis will proceed without further measures."
   ]
  },
  {
   "cell_type": "markdown",
   "id": "4806a102",
   "metadata": {},
   "source": [
    "## Outline"
   ]
  },
  {
   "cell_type": "markdown",
   "id": "2ce00e38",
   "metadata": {},
   "source": [
    "1. Outline"
   ]
  },
  {
   "cell_type": "markdown",
   "id": "eee4f47c",
   "metadata": {},
   "source": [
    "2. Import"
   ]
  },
  {
   "cell_type": "markdown",
   "id": "c679d654",
   "metadata": {},
   "source": [
    "3. Excel Crosstab"
   ]
  },
  {
   "cell_type": "markdown",
   "id": "8302051a",
   "metadata": {},
   "source": [
    "4. Asessing Spend by Region"
   ]
  },
  {
   "cell_type": "markdown",
   "id": "2d07a924",
   "metadata": {},
   "source": [
    "    4.1 Flagging States to Regions"
   ]
  },
  {
   "cell_type": "markdown",
   "id": "ef63bb70",
   "metadata": {},
   "source": [
    "5. Creating a Sample from POC"
   ]
  },
  {
   "cell_type": "markdown",
   "id": "73d275ea",
   "metadata": {},
   "source": [
    "    5.1 Asigning region to POC data frame"
   ]
  },
  {
   "cell_type": "markdown",
   "id": "88f01927",
   "metadata": {},
   "source": [
    "    5.2 Determing Spending Habits between Divisions"
   ]
  },
  {
   "cell_type": "markdown",
   "id": "cfedfb35",
   "metadata": {},
   "source": [
    "6. Order Frequncey flag"
   ]
  },
  {
   "cell_type": "markdown",
   "id": "5a25d619",
   "metadata": {},
   "source": [
    "7. Export"
   ]
  },
  {
   "cell_type": "markdown",
   "id": "cba00448",
   "metadata": {},
   "source": [
    "## Import"
   ]
  },
  {
   "cell_type": "code",
   "execution_count": 1,
   "id": "d9b65fa2",
   "metadata": {},
   "outputs": [],
   "source": [
    "import pandas as pd\n",
    "import numpy as np\n",
    "import os\n",
    "import matplotlib.pyplot as plt\n",
    "import seaborn as sns\n",
    "import scipy"
   ]
  },
  {
   "cell_type": "code",
   "execution_count": 2,
   "id": "68b8a10c",
   "metadata": {},
   "outputs": [],
   "source": [
    "poc = pd.read_pickle ('/Users/christinarandall/Documents/Career Foundry Projects/Achievment 4/Data/Prepared Data/poc.pkl')"
   ]
  },
  {
   "cell_type": "code",
   "execution_count": 3,
   "id": "a5e30fe7",
   "metadata": {},
   "outputs": [
    {
     "data": {
      "text/html": [
       "<div>\n",
       "<style scoped>\n",
       "    .dataframe tbody tr th:only-of-type {\n",
       "        vertical-align: middle;\n",
       "    }\n",
       "\n",
       "    .dataframe tbody tr th {\n",
       "        vertical-align: top;\n",
       "    }\n",
       "\n",
       "    .dataframe thead th {\n",
       "        text-align: right;\n",
       "    }\n",
       "</style>\n",
       "<table border=\"1\" class=\"dataframe\">\n",
       "  <thead>\n",
       "    <tr style=\"text-align: right;\">\n",
       "      <th></th>\n",
       "      <th>order_id</th>\n",
       "      <th>user_id</th>\n",
       "      <th>order_number</th>\n",
       "      <th>order_dow</th>\n",
       "      <th>order_hour_of_day</th>\n",
       "      <th>days_since_prior_order</th>\n",
       "      <th>product_id</th>\n",
       "      <th>reordered</th>\n",
       "      <th>product_name</th>\n",
       "      <th>aisle_id</th>\n",
       "      <th>...</th>\n",
       "      <th>order_freq</th>\n",
       "      <th>order_freq_flag</th>\n",
       "      <th>first_name</th>\n",
       "      <th>last_name</th>\n",
       "      <th>gender</th>\n",
       "      <th>state</th>\n",
       "      <th>age</th>\n",
       "      <th>n_dependants</th>\n",
       "      <th>martial_status</th>\n",
       "      <th>income</th>\n",
       "    </tr>\n",
       "  </thead>\n",
       "  <tbody>\n",
       "    <tr>\n",
       "      <th>0</th>\n",
       "      <td>2539329</td>\n",
       "      <td>1</td>\n",
       "      <td>1</td>\n",
       "      <td>2</td>\n",
       "      <td>8</td>\n",
       "      <td>NaN</td>\n",
       "      <td>196.0</td>\n",
       "      <td>0.0</td>\n",
       "      <td>Soda</td>\n",
       "      <td>77</td>\n",
       "      <td>...</td>\n",
       "      <td>20.5</td>\n",
       "      <td>Non-frequent customer</td>\n",
       "      <td>Linda</td>\n",
       "      <td>Nguyen</td>\n",
       "      <td>Female</td>\n",
       "      <td>Alabama</td>\n",
       "      <td>31</td>\n",
       "      <td>3</td>\n",
       "      <td>married</td>\n",
       "      <td>40423</td>\n",
       "    </tr>\n",
       "    <tr>\n",
       "      <th>1</th>\n",
       "      <td>2398795</td>\n",
       "      <td>1</td>\n",
       "      <td>2</td>\n",
       "      <td>3</td>\n",
       "      <td>7</td>\n",
       "      <td>15.0</td>\n",
       "      <td>196.0</td>\n",
       "      <td>1.0</td>\n",
       "      <td>Soda</td>\n",
       "      <td>77</td>\n",
       "      <td>...</td>\n",
       "      <td>20.5</td>\n",
       "      <td>Non-frequent customer</td>\n",
       "      <td>Linda</td>\n",
       "      <td>Nguyen</td>\n",
       "      <td>Female</td>\n",
       "      <td>Alabama</td>\n",
       "      <td>31</td>\n",
       "      <td>3</td>\n",
       "      <td>married</td>\n",
       "      <td>40423</td>\n",
       "    </tr>\n",
       "    <tr>\n",
       "      <th>2</th>\n",
       "      <td>473747</td>\n",
       "      <td>1</td>\n",
       "      <td>3</td>\n",
       "      <td>3</td>\n",
       "      <td>12</td>\n",
       "      <td>21.0</td>\n",
       "      <td>196.0</td>\n",
       "      <td>1.0</td>\n",
       "      <td>Soda</td>\n",
       "      <td>77</td>\n",
       "      <td>...</td>\n",
       "      <td>20.5</td>\n",
       "      <td>Non-frequent customer</td>\n",
       "      <td>Linda</td>\n",
       "      <td>Nguyen</td>\n",
       "      <td>Female</td>\n",
       "      <td>Alabama</td>\n",
       "      <td>31</td>\n",
       "      <td>3</td>\n",
       "      <td>married</td>\n",
       "      <td>40423</td>\n",
       "    </tr>\n",
       "  </tbody>\n",
       "</table>\n",
       "<p>3 rows × 28 columns</p>\n",
       "</div>"
      ],
      "text/plain": [
       "   order_id  user_id  order_number  order_dow  order_hour_of_day  \\\n",
       "0   2539329        1             1          2                  8   \n",
       "1   2398795        1             2          3                  7   \n",
       "2    473747        1             3          3                 12   \n",
       "\n",
       "   days_since_prior_order  product_id  reordered product_name  aisle_id  ...  \\\n",
       "0                     NaN       196.0        0.0         Soda        77  ...   \n",
       "1                    15.0       196.0        1.0         Soda        77  ...   \n",
       "2                    21.0       196.0        1.0         Soda        77  ...   \n",
       "\n",
       "   order_freq        order_freq_flag first_name last_name  gender    state  \\\n",
       "0        20.5  Non-frequent customer      Linda    Nguyen  Female  Alabama   \n",
       "1        20.5  Non-frequent customer      Linda    Nguyen  Female  Alabama   \n",
       "2        20.5  Non-frequent customer      Linda    Nguyen  Female  Alabama   \n",
       "\n",
       "  age n_dependants  martial_status income  \n",
       "0  31            3         married  40423  \n",
       "1  31            3         married  40423  \n",
       "2  31            3         married  40423  \n",
       "\n",
       "[3 rows x 28 columns]"
      ]
     },
     "execution_count": 3,
     "metadata": {},
     "output_type": "execute_result"
    }
   ],
   "source": [
    "poc.head(3)"
   ]
  },
  {
   "cell_type": "markdown",
   "id": "c91b6950",
   "metadata": {},
   "source": [
    "## Excel Crosstab"
   ]
  },
  {
   "cell_type": "code",
   "execution_count": 4,
   "id": "20ba8460",
   "metadata": {},
   "outputs": [],
   "source": [
    "crosstab = pd.crosstab(poc['days_since_prior_order'], poc['order_number'], dropna = False)"
   ]
  },
  {
   "cell_type": "code",
   "execution_count": 5,
   "id": "cc1b2827",
   "metadata": {},
   "outputs": [],
   "source": [
    "crosstab.to_clipboard()"
   ]
  },
  {
   "cell_type": "markdown",
   "id": "10b16fa6",
   "metadata": {},
   "source": [
    "## Assessing Spend by Region"
   ]
  },
  {
   "cell_type": "markdown",
   "id": "b1ab4312",
   "metadata": {},
   "source": [
    "### Flagging states to regions"
   ]
  },
  {
   "cell_type": "code",
   "execution_count": 4,
   "id": "d2670746",
   "metadata": {},
   "outputs": [],
   "source": [
    "def region(row):\n",
    "    if row['state'] in ['Maine', 'New Hampshire', 'Vermont', 'Massachusetts', 'Rhode Island', 'Connecticut', 'New York', 'Pennsylvania', 'New Jersey']:\n",
    "        return '1'\n",
    "    elif row['state'] in ['Wisconsin', 'Michigan', 'Illinois', 'Indiana', 'Ohio', 'North Dakota', 'South Dakota', 'Nebraska', 'Kansas', 'Minnesota', 'Iowa', 'Missouri']:\n",
    "        return '2'\n",
    "    elif row['state'] in ['Delaware', 'Maryland','District of Columbia','Virginia','West Virginia','North Carolina','South Carolina','Georgia','Florida','Kentucky','Tennessee','Mississippi','Alabama','Oklahoma','Texas','Arkansas','Louisiana']:\n",
    "        return '3'\n",
    "    elif row['state'] in ['Idaho','Montana','Wyoming','Nevada','Utah','Colorado','Arizona','New Mexico','Alaska','Washington','Oregon','California','Hawaii']:\n",
    "        return '4'\n",
    "    else:\n",
    "        return 'Not enough data'\n"
   ]
  },
  {
   "cell_type": "code",
   "execution_count": 5,
   "id": "52c5e1fe",
   "metadata": {},
   "outputs": [
    {
     "data": {
      "text/plain": [
       "(30629741, 28)"
      ]
     },
     "execution_count": 5,
     "metadata": {},
     "output_type": "execute_result"
    }
   ],
   "source": [
    "poc.shape"
   ]
  },
  {
   "cell_type": "markdown",
   "id": "c431ceac",
   "metadata": {},
   "source": [
    "## Using Loc to Asign Regions"
   ]
  },
  {
   "cell_type": "code",
   "execution_count": 6,
   "id": "ba46e1a3",
   "metadata": {},
   "outputs": [],
   "source": [
    "#Flagging States Using Loc\n",
    "state_region = {\n",
    "    'Maine': 1, 'New Hampshire': 1, 'Vermont': 1, 'Massachusetts': 1, 'Rhode Island': 1, 'Connecticut': 1, 'New York': 1, 'Pennsylvania': 1, 'New Jersey': 1,\n",
    "    'Wisconsin': 2, 'Michigan': 2, 'Illinois': 2, 'Indiana': 2, 'Ohio': 2, 'North Dakota': 2, 'South Dakota': 2, 'Nebraska': 2, 'Kansas': 2, 'Minnesota': 2, 'Iowa': 2, 'Missouri': 2,\n",
    "    'Delaware': 3, 'Maryland': 3, 'District of Columbia': 3, 'Virginia': 3, 'West Virginia': 3, 'North Carolina': 3, 'South Carolina': 3, 'Georgia': 3, 'Florida': 3, 'Kentucky': 3, 'Tennessee': 3, 'Mississippi': 3, 'Alabama': 3, 'Oklahoma': 3, 'Texas': 3, 'Arkansas': 3, 'Louisiana': 3,\n",
    "    'Idaho': 4, 'Montana': 4, 'Wyoming': 4, 'Nevada': 4, 'Utah': 4, 'Colorado': 4, 'Arizona': 4, 'New Mexico': 4, 'Alaska': 4, 'Washington': 4, 'Oregon': 4, 'California': 4, 'Hawaii': 4}\n"
   ]
  },
  {
   "cell_type": "code",
   "execution_count": 7,
   "id": "5a8ab313",
   "metadata": {},
   "outputs": [],
   "source": [
    "poc.loc[:, 'region'] = poc['state'].map(state_region).fillna('Not enough data')"
   ]
  },
  {
   "cell_type": "code",
   "execution_count": 8,
   "id": "3cfa9ad6",
   "metadata": {},
   "outputs": [
    {
     "data": {
      "text/html": [
       "<div>\n",
       "<style scoped>\n",
       "    .dataframe tbody tr th:only-of-type {\n",
       "        vertical-align: middle;\n",
       "    }\n",
       "\n",
       "    .dataframe tbody tr th {\n",
       "        vertical-align: top;\n",
       "    }\n",
       "\n",
       "    .dataframe thead th {\n",
       "        text-align: right;\n",
       "    }\n",
       "</style>\n",
       "<table border=\"1\" class=\"dataframe\">\n",
       "  <thead>\n",
       "    <tr style=\"text-align: right;\">\n",
       "      <th></th>\n",
       "      <th>order_id</th>\n",
       "      <th>user_id</th>\n",
       "      <th>order_number</th>\n",
       "      <th>order_dow</th>\n",
       "      <th>order_hour_of_day</th>\n",
       "      <th>days_since_prior_order</th>\n",
       "      <th>product_id</th>\n",
       "      <th>reordered</th>\n",
       "      <th>product_name</th>\n",
       "      <th>aisle_id</th>\n",
       "      <th>...</th>\n",
       "      <th>order_freq_flag</th>\n",
       "      <th>first_name</th>\n",
       "      <th>last_name</th>\n",
       "      <th>gender</th>\n",
       "      <th>state</th>\n",
       "      <th>age</th>\n",
       "      <th>n_dependants</th>\n",
       "      <th>martial_status</th>\n",
       "      <th>income</th>\n",
       "      <th>region</th>\n",
       "    </tr>\n",
       "  </thead>\n",
       "  <tbody>\n",
       "    <tr>\n",
       "      <th>0</th>\n",
       "      <td>2539329</td>\n",
       "      <td>1</td>\n",
       "      <td>1</td>\n",
       "      <td>2</td>\n",
       "      <td>8</td>\n",
       "      <td>NaN</td>\n",
       "      <td>196.0</td>\n",
       "      <td>0.0</td>\n",
       "      <td>Soda</td>\n",
       "      <td>77</td>\n",
       "      <td>...</td>\n",
       "      <td>Non-frequent customer</td>\n",
       "      <td>Linda</td>\n",
       "      <td>Nguyen</td>\n",
       "      <td>Female</td>\n",
       "      <td>Alabama</td>\n",
       "      <td>31</td>\n",
       "      <td>3</td>\n",
       "      <td>married</td>\n",
       "      <td>40423</td>\n",
       "      <td>3</td>\n",
       "    </tr>\n",
       "    <tr>\n",
       "      <th>1</th>\n",
       "      <td>2398795</td>\n",
       "      <td>1</td>\n",
       "      <td>2</td>\n",
       "      <td>3</td>\n",
       "      <td>7</td>\n",
       "      <td>15.0</td>\n",
       "      <td>196.0</td>\n",
       "      <td>1.0</td>\n",
       "      <td>Soda</td>\n",
       "      <td>77</td>\n",
       "      <td>...</td>\n",
       "      <td>Non-frequent customer</td>\n",
       "      <td>Linda</td>\n",
       "      <td>Nguyen</td>\n",
       "      <td>Female</td>\n",
       "      <td>Alabama</td>\n",
       "      <td>31</td>\n",
       "      <td>3</td>\n",
       "      <td>married</td>\n",
       "      <td>40423</td>\n",
       "      <td>3</td>\n",
       "    </tr>\n",
       "  </tbody>\n",
       "</table>\n",
       "<p>2 rows × 29 columns</p>\n",
       "</div>"
      ],
      "text/plain": [
       "   order_id  user_id  order_number  order_dow  order_hour_of_day  \\\n",
       "0   2539329        1             1          2                  8   \n",
       "1   2398795        1             2          3                  7   \n",
       "\n",
       "   days_since_prior_order  product_id  reordered product_name  aisle_id  ...  \\\n",
       "0                     NaN       196.0        0.0         Soda        77  ...   \n",
       "1                    15.0       196.0        1.0         Soda        77  ...   \n",
       "\n",
       "         order_freq_flag  first_name last_name  gender    state age  \\\n",
       "0  Non-frequent customer       Linda    Nguyen  Female  Alabama  31   \n",
       "1  Non-frequent customer       Linda    Nguyen  Female  Alabama  31   \n",
       "\n",
       "  n_dependants martial_status  income region  \n",
       "0            3        married   40423      3  \n",
       "1            3        married   40423      3  \n",
       "\n",
       "[2 rows x 29 columns]"
      ]
     },
     "execution_count": 8,
     "metadata": {},
     "output_type": "execute_result"
    }
   ],
   "source": [
    "poc.head(2)"
   ]
  },
  {
   "cell_type": "markdown",
   "id": "54329f26",
   "metadata": {},
   "source": [
    "### Determing Spending Habits between Regions"
   ]
  },
  {
   "cell_type": "code",
   "execution_count": 12,
   "id": "750ac30b",
   "metadata": {},
   "outputs": [],
   "source": [
    "#Bar Chart"
   ]
  },
  {
   "cell_type": "code",
   "execution_count": 13,
   "id": "8ed89f30",
   "metadata": {},
   "outputs": [
    {
     "data": {
      "image/png": "[encoded data removed]",
      "text/plain": [
       "<Figure size 640x480 with 1 Axes>"
      ]
     },
     "metadata": {},
     "output_type": "display_data"
    }
   ],
   "source": [
    "poc_bar = poc['region'].value_counts().sort_index().plot.bar(color = ['teal', 'seagreen', 'cadetblue', 'mediumseagreen'])\n",
    "plt.title('Order Counts by Region', fontweight = 'bold')\n",
    "plt.xticks(rotation=0, ha='right')\n",
    "plt.show()"
   ]
  },
  {
   "cell_type": "code",
   "execution_count": 14,
   "id": "c1552366",
   "metadata": {},
   "outputs": [],
   "source": [
    "#line chart"
   ]
  },
  {
   "cell_type": "code",
   "execution_count": 15,
   "id": "8d7d78af",
   "metadata": {
    "scrolled": true
   },
   "outputs": [
    {
     "data": {
      "text/plain": [
       "Text(0.5, 1.0, 'Income by Region')"
      ]
     },
     "execution_count": 15,
     "metadata": {},
     "output_type": "execute_result"
    },
    {
     "data": {
      "image/png": "[encoded data removed]",
      "text/plain": [
       "<Figure size 640x480 with 1 Axes>"
      ]
     },
     "metadata": {},
     "output_type": "display_data"
    }
   ],
   "source": [
    "poc_med = poc.groupby('region').median('income').reset_index()\n",
    "poc_line = sns.lineplot(data=poc_med, x='region', y='income')\n",
    "plt.title('Income by Region', fontweight = 'bold')\n"
   ]
  },
  {
   "cell_type": "code",
   "execution_count": 16,
   "id": "58d3de09",
   "metadata": {
    "scrolled": true
   },
   "outputs": [],
   "source": [
    "poc_means = poc.groupby('region').mean('income')"
   ]
  },
  {
   "cell_type": "code",
   "execution_count": 17,
   "id": "01346d7e",
   "metadata": {},
   "outputs": [
    {
     "data": {
      "text/html": [
       "<div>\n",
       "<style scoped>\n",
       "    .dataframe tbody tr th:only-of-type {\n",
       "        vertical-align: middle;\n",
       "    }\n",
       "\n",
       "    .dataframe tbody tr th {\n",
       "        vertical-align: top;\n",
       "    }\n",
       "\n",
       "    .dataframe thead th {\n",
       "        text-align: right;\n",
       "    }\n",
       "</style>\n",
       "<table border=\"1\" class=\"dataframe\">\n",
       "  <thead>\n",
       "    <tr style=\"text-align: right;\">\n",
       "      <th></th>\n",
       "      <th>order_id</th>\n",
       "      <th>user_id</th>\n",
       "      <th>order_number</th>\n",
       "      <th>order_dow</th>\n",
       "      <th>order_hour_of_day</th>\n",
       "      <th>days_since_prior_order</th>\n",
       "      <th>product_id</th>\n",
       "      <th>reordered</th>\n",
       "      <th>aisle_id</th>\n",
       "      <th>department_id</th>\n",
       "      <th>prices</th>\n",
       "      <th>order_freq</th>\n",
       "      <th>age</th>\n",
       "      <th>n_dependants</th>\n",
       "      <th>income</th>\n",
       "    </tr>\n",
       "    <tr>\n",
       "      <th>region</th>\n",
       "      <th></th>\n",
       "      <th></th>\n",
       "      <th></th>\n",
       "      <th></th>\n",
       "      <th></th>\n",
       "      <th></th>\n",
       "      <th></th>\n",
       "      <th></th>\n",
       "      <th></th>\n",
       "      <th></th>\n",
       "      <th></th>\n",
       "      <th></th>\n",
       "      <th></th>\n",
       "      <th></th>\n",
       "      <th></th>\n",
       "    </tr>\n",
       "  </thead>\n",
       "  <tbody>\n",
       "    <tr>\n",
       "      <th>1</th>\n",
       "      <td>1.708722e+06</td>\n",
       "      <td>102776.378521</td>\n",
       "      <td>17.241567</td>\n",
       "      <td>2.733039</td>\n",
       "      <td>13.425826</td>\n",
       "      <td>11.074020</td>\n",
       "      <td>25596.589892</td>\n",
       "      <td>0.590789</td>\n",
       "      <td>71.234692</td>\n",
       "      <td>9.931685</td>\n",
       "      <td>11.594699</td>\n",
       "      <td>10.373893</td>\n",
       "      <td>49.648471</td>\n",
       "      <td>1.505338</td>\n",
       "      <td>99665.801343</td>\n",
       "    </tr>\n",
       "    <tr>\n",
       "      <th>2</th>\n",
       "      <td>1.712949e+06</td>\n",
       "      <td>103228.731330</td>\n",
       "      <td>16.916136</td>\n",
       "      <td>2.737709</td>\n",
       "      <td>13.443428</td>\n",
       "      <td>11.188121</td>\n",
       "      <td>25615.093135</td>\n",
       "      <td>0.586962</td>\n",
       "      <td>71.184423</td>\n",
       "      <td>9.912393</td>\n",
       "      <td>12.814354</td>\n",
       "      <td>10.463537</td>\n",
       "      <td>49.465295</td>\n",
       "      <td>1.488324</td>\n",
       "      <td>100283.882847</td>\n",
       "    </tr>\n",
       "    <tr>\n",
       "      <th>3</th>\n",
       "      <td>1.710342e+06</td>\n",
       "      <td>102687.106569</td>\n",
       "      <td>17.106050</td>\n",
       "      <td>2.741394</td>\n",
       "      <td>13.417406</td>\n",
       "      <td>11.116169</td>\n",
       "      <td>25606.887726</td>\n",
       "      <td>0.589682</td>\n",
       "      <td>71.216610</td>\n",
       "      <td>9.907838</td>\n",
       "      <td>12.043691</td>\n",
       "      <td>10.405956</td>\n",
       "      <td>49.329435</td>\n",
       "      <td>1.505423</td>\n",
       "      <td>98971.136272</td>\n",
       "    </tr>\n",
       "    <tr>\n",
       "      <th>4</th>\n",
       "      <td>1.710637e+06</td>\n",
       "      <td>103275.187531</td>\n",
       "      <td>17.255927</td>\n",
       "      <td>2.737592</td>\n",
       "      <td>13.418388</td>\n",
       "      <td>11.057400</td>\n",
       "      <td>25586.716948</td>\n",
       "      <td>0.590729</td>\n",
       "      <td>71.163198</td>\n",
       "      <td>9.926939</td>\n",
       "      <td>11.152004</td>\n",
       "      <td>10.372334</td>\n",
       "      <td>49.547422</td>\n",
       "      <td>1.506638</td>\n",
       "      <td>99198.365313</td>\n",
       "    </tr>\n",
       "  </tbody>\n",
       "</table>\n",
       "</div>"
      ],
      "text/plain": [
       "            order_id        user_id  order_number  order_dow  \\\n",
       "region                                                         \n",
       "1       1.708722e+06  102776.378521     17.241567   2.733039   \n",
       "2       1.712949e+06  103228.731330     16.916136   2.737709   \n",
       "3       1.710342e+06  102687.106569     17.106050   2.741394   \n",
       "4       1.710637e+06  103275.187531     17.255927   2.737592   \n",
       "\n",
       "        order_hour_of_day  days_since_prior_order    product_id  reordered  \\\n",
       "region                                                                       \n",
       "1               13.425826               11.074020  25596.589892   0.590789   \n",
       "2               13.443428               11.188121  25615.093135   0.586962   \n",
       "3               13.417406               11.116169  25606.887726   0.589682   \n",
       "4               13.418388               11.057400  25586.716948   0.590729   \n",
       "\n",
       "         aisle_id  department_id     prices  order_freq        age  \\\n",
       "region                                                               \n",
       "1       71.234692       9.931685  11.594699   10.373893  49.648471   \n",
       "2       71.184423       9.912393  12.814354   10.463537  49.465295   \n",
       "3       71.216610       9.907838  12.043691   10.405956  49.329435   \n",
       "4       71.163198       9.926939  11.152004   10.372334  49.547422   \n",
       "\n",
       "        n_dependants         income  \n",
       "region                               \n",
       "1           1.505338   99665.801343  \n",
       "2           1.488324  100283.882847  \n",
       "3           1.505423   98971.136272  \n",
       "4           1.506638   99198.365313  "
      ]
     },
     "execution_count": 17,
     "metadata": {},
     "output_type": "execute_result"
    }
   ],
   "source": [
    "poc_means.head(5)"
   ]
  },
  {
   "cell_type": "code",
   "execution_count": 18,
   "id": "ddf45cdb",
   "metadata": {},
   "outputs": [
    {
     "data": {
      "image/png": "[encoded data removed]",
      "text/plain": [
       "<Figure size 640x480 with 1 Axes>"
      ]
     },
     "metadata": {},
     "output_type": "display_data"
    }
   ],
   "source": [
    "poc_bar5 = poc_means['income'].sort_index().plot.bar(color=['teal', 'seagreen', 'cadetblue', 'mediumseagreen'])\n",
    "plt.title('Median Income by Region', fontweight='bold')\n",
    "plt.xticks(rotation=0, ha='right')\n",
    "plt.show()"
   ]
  },
  {
   "cell_type": "markdown",
   "id": "ef272863",
   "metadata": {},
   "source": [
    "Line Chart; Spend flag vs Region Flag"
   ]
  },
  {
   "cell_type": "code",
   "execution_count": 19,
   "id": "fa85477c",
   "metadata": {},
   "outputs": [
    {
     "data": {
      "text/plain": [
       "Index(['order_id', 'user_id', 'order_number', 'order_dow', 'order_hour_of_day',\n",
       "       'days_since_prior_order', 'product_id', 'reordered', 'product_name',\n",
       "       'aisle_id', 'department_id', 'prices', 'price_range_loc', 'busiest_day',\n",
       "       'busiest_days_2', 'order_amount', 'loyalty_flag', 'spend_flag',\n",
       "       'order_freq', 'order_freq_flag', 'first_name', 'last_name', 'gender',\n",
       "       'state', 'age', 'n_dependants', 'martial_status', 'income', 'region'],\n",
       "      dtype='object')"
      ]
     },
     "execution_count": 19,
     "metadata": {},
     "output_type": "execute_result"
    }
   ],
   "source": [
    "poc.columns"
   ]
  },
  {
   "cell_type": "code",
   "execution_count": 10,
   "id": "571f7a18",
   "metadata": {},
   "outputs": [],
   "source": [
    "#bar chart; region vs spend_flag"
   ]
  },
  {
   "cell_type": "code",
   "execution_count": 11,
   "id": "7170bf16",
   "metadata": {
    "scrolled": true
   },
   "outputs": [],
   "source": [
    "poc_spendflag = poc.groupby('region')['spend_flag'].value_counts()"
   ]
  },
  {
   "cell_type": "code",
   "execution_count": 12,
   "id": "bfd37a38",
   "metadata": {},
   "outputs": [
    {
     "data": {
      "text/plain": [
       "region  spend_flag  \n",
       "1       Low spender      5320605\n",
       "        High spender      101420\n",
       "2       Low spender      7027107\n",
       "        High spender      149817\n",
       "3       Low spender     10002459\n",
       "        High spender      196523\n",
       "4       Low spender      7684007\n",
       "        High spender      147803\n",
       "Name: spend_flag, dtype: int64"
      ]
     },
     "execution_count": 12,
     "metadata": {},
     "output_type": "execute_result"
    }
   ],
   "source": [
    "poc_spendflag"
   ]
  },
  {
   "cell_type": "code",
   "execution_count": 13,
   "id": "a021f032",
   "metadata": {},
   "outputs": [
    {
     "data": {
      "image/png": "[encoded data removed]",
      "text/plain": [
       "<Figure size 640x480 with 1 Axes>"
      ]
     },
     "metadata": {},
     "output_type": "display_data"
    }
   ],
   "source": [
    "poc_bar2 = poc_spendflag.sort_index().plot.bar(color=['teal', 'teal', 'seagreen', 'seagreen', 'cadetblue', 'cadetblue', 'mediumseagreen', 'mediumseagreen'])\n",
    "plt.title('Spend Flag Counts by Region', fontweight='bold')\n",
    "plt.xticks(rotation=45, ha='right')\n",
    "plt.show()"
   ]
  },
  {
   "cell_type": "markdown",
   "id": "d66a9287",
   "metadata": {},
   "source": [
    "## Order Frequncey flag"
   ]
  },
  {
   "cell_type": "code",
   "execution_count": 24,
   "id": "5e16f92d",
   "metadata": {},
   "outputs": [
    {
     "data": {
      "text/plain": [
       "10.405175366186636"
      ]
     },
     "execution_count": 24,
     "metadata": {},
     "output_type": "execute_result"
    }
   ],
   "source": [
    "poc['order_freq'].mean()"
   ]
  },
  {
   "cell_type": "code",
   "execution_count": 25,
   "id": "1c91c73c",
   "metadata": {},
   "outputs": [],
   "source": [
    "poc['high_freq'] = poc['order_freq'] > 5"
   ]
  },
  {
   "cell_type": "code",
   "execution_count": 26,
   "id": "246f9db3",
   "metadata": {},
   "outputs": [
    {
     "data": {
      "text/html": [
       "<div>\n",
       "<style scoped>\n",
       "    .dataframe tbody tr th:only-of-type {\n",
       "        vertical-align: middle;\n",
       "    }\n",
       "\n",
       "    .dataframe tbody tr th {\n",
       "        vertical-align: top;\n",
       "    }\n",
       "\n",
       "    .dataframe thead th {\n",
       "        text-align: right;\n",
       "    }\n",
       "</style>\n",
       "<table border=\"1\" class=\"dataframe\">\n",
       "  <thead>\n",
       "    <tr style=\"text-align: right;\">\n",
       "      <th></th>\n",
       "      <th>order_id</th>\n",
       "      <th>user_id</th>\n",
       "      <th>order_number</th>\n",
       "      <th>order_dow</th>\n",
       "      <th>order_hour_of_day</th>\n",
       "      <th>days_since_prior_order</th>\n",
       "      <th>product_id</th>\n",
       "      <th>reordered</th>\n",
       "      <th>product_name</th>\n",
       "      <th>aisle_id</th>\n",
       "      <th>...</th>\n",
       "      <th>first_name</th>\n",
       "      <th>last_name</th>\n",
       "      <th>gender</th>\n",
       "      <th>state</th>\n",
       "      <th>age</th>\n",
       "      <th>n_dependants</th>\n",
       "      <th>martial_status</th>\n",
       "      <th>income</th>\n",
       "      <th>region</th>\n",
       "      <th>high_freq</th>\n",
       "    </tr>\n",
       "  </thead>\n",
       "  <tbody>\n",
       "    <tr>\n",
       "      <th>0</th>\n",
       "      <td>2539329</td>\n",
       "      <td>1</td>\n",
       "      <td>1</td>\n",
       "      <td>2</td>\n",
       "      <td>8</td>\n",
       "      <td>NaN</td>\n",
       "      <td>196.0</td>\n",
       "      <td>0.0</td>\n",
       "      <td>Soda</td>\n",
       "      <td>77</td>\n",
       "      <td>...</td>\n",
       "      <td>Linda</td>\n",
       "      <td>Nguyen</td>\n",
       "      <td>Female</td>\n",
       "      <td>Alabama</td>\n",
       "      <td>31</td>\n",
       "      <td>3</td>\n",
       "      <td>married</td>\n",
       "      <td>40423</td>\n",
       "      <td>3</td>\n",
       "      <td>True</td>\n",
       "    </tr>\n",
       "    <tr>\n",
       "      <th>1</th>\n",
       "      <td>2398795</td>\n",
       "      <td>1</td>\n",
       "      <td>2</td>\n",
       "      <td>3</td>\n",
       "      <td>7</td>\n",
       "      <td>15.0</td>\n",
       "      <td>196.0</td>\n",
       "      <td>1.0</td>\n",
       "      <td>Soda</td>\n",
       "      <td>77</td>\n",
       "      <td>...</td>\n",
       "      <td>Linda</td>\n",
       "      <td>Nguyen</td>\n",
       "      <td>Female</td>\n",
       "      <td>Alabama</td>\n",
       "      <td>31</td>\n",
       "      <td>3</td>\n",
       "      <td>married</td>\n",
       "      <td>40423</td>\n",
       "      <td>3</td>\n",
       "      <td>True</td>\n",
       "    </tr>\n",
       "  </tbody>\n",
       "</table>\n",
       "<p>2 rows × 30 columns</p>\n",
       "</div>"
      ],
      "text/plain": [
       "   order_id  user_id  order_number  order_dow  order_hour_of_day  \\\n",
       "0   2539329        1             1          2                  8   \n",
       "1   2398795        1             2          3                  7   \n",
       "\n",
       "   days_since_prior_order  product_id  reordered product_name  aisle_id  ...  \\\n",
       "0                     NaN       196.0        0.0         Soda        77  ...   \n",
       "1                    15.0       196.0        1.0         Soda        77  ...   \n",
       "\n",
       "   first_name  last_name  gender    state age n_dependants martial_status  \\\n",
       "0       Linda     Nguyen  Female  Alabama  31            3        married   \n",
       "1       Linda     Nguyen  Female  Alabama  31            3        married   \n",
       "\n",
       "  income  region high_freq  \n",
       "0  40423       3      True  \n",
       "1  40423       3      True  \n",
       "\n",
       "[2 rows x 30 columns]"
      ]
     },
     "execution_count": 26,
     "metadata": {},
     "output_type": "execute_result"
    }
   ],
   "source": [
    "poc.head(2)"
   ]
  },
  {
   "cell_type": "code",
   "execution_count": 27,
   "id": "4476a49f",
   "metadata": {},
   "outputs": [
    {
     "data": {
      "text/plain": [
       "True     23956510\n",
       "False     6673231\n",
       "Name: high_freq, dtype: int64"
      ]
     },
     "execution_count": 27,
     "metadata": {},
     "output_type": "execute_result"
    }
   ],
   "source": [
    "poc['high_freq'].value_counts()"
   ]
  },
  {
   "cell_type": "code",
   "execution_count": 28,
   "id": "c15a3ead",
   "metadata": {},
   "outputs": [],
   "source": [
    "poc_hf = poc[poc['high_freq']== True]"
   ]
  },
  {
   "cell_type": "code",
   "execution_count": 29,
   "id": "482745f2",
   "metadata": {},
   "outputs": [
    {
     "data": {
      "text/plain": [
       "True    23956510\n",
       "Name: high_freq, dtype: int64"
      ]
     },
     "execution_count": 29,
     "metadata": {},
     "output_type": "execute_result"
    }
   ],
   "source": [
    "poc_hf['high_freq'].value_counts()"
   ]
  },
  {
   "cell_type": "markdown",
   "id": "b39fba1b",
   "metadata": {},
   "source": [
    "## Export"
   ]
  },
  {
   "cell_type": "code",
   "execution_count": 9,
   "id": "e8047531",
   "metadata": {},
   "outputs": [],
   "source": [
    "#Poc DF with Region\n",
    "poc.to_pickle('/Users/christinarandall/Documents/Career Foundry Projects/Achievment 4/Data/Prepared Data/Poc DF with Region.pkl', )"
   ]
  },
  {
   "cell_type": "code",
   "execution_count": 31,
   "id": "a74e77f2",
   "metadata": {},
   "outputs": [],
   "source": [
    "#High Freq Customer Data Base from Poc\n",
    "poc_hf.to_pickle('/Users/christinarandall/Documents/Career Foundry Projects/Achievment 4/Data/Prepared Data/High Freq Customer Data Base from Poc.pkl', )"
   ]
  },
  {
   "cell_type": "code",
   "execution_count": 32,
   "id": "eb21fab5",
   "metadata": {},
   "outputs": [],
   "source": [
    "#Order Counts by Region; Bar Chart\n",
    "poc_bar.figure.savefig(os.path.join('/Users/christinarandall/Documents/Career Foundry Projects/Achievment 4/Data/Prepared Data/PNGs', 'Order Counts by Region; Bar Chart.png'))"
   ]
  },
  {
   "cell_type": "code",
   "execution_count": 33,
   "id": "0c90094e",
   "metadata": {},
   "outputs": [],
   "source": [
    "#Income by Region; Line Chart\n",
    "poc_line.figure.savefig(os.path.join('/Users/christinarandall/Documents/Career Foundry Projects/Achievment 4/Data/Prepared Data/PNGs', 'Income by Region; Line Chart.png'))"
   ]
  },
  {
   "cell_type": "code",
   "execution_count": 34,
   "id": "e1d3f63b",
   "metadata": {},
   "outputs": [],
   "source": [
    "#Income by Region; Bar Chart\n",
    "poc_bar5.figure.savefig(os.path.join('/Users/christinarandall/Documents/Career Foundry Projects/Achievment 4/Data/Prepared Data/PNGs', 'Income by Region; Bar Chart.png'))"
   ]
  },
  {
   "cell_type": "code",
   "execution_count": 14,
   "id": "7919026f",
   "metadata": {},
   "outputs": [],
   "source": [
    "#Spend Flag Count by Region; Bar Chart\n",
    "poc_bar2.figure.savefig(os.path.join('/Users/christinarandall/Documents/Career Foundry Projects/Achievment 4/Data/Prepared Data/PNGs', 'Spend Flag Counts by Region; Bar Chart.png'))"
   ]
  },
  {
   "cell_type": "code",
   "execution_count": null,
   "id": "786b6b0a",
   "metadata": {},
   "outputs": [],
   "source": []
  }
 ],
 "metadata": {
  "kernelspec": {
   "display_name": "Python 3 (ipykernel)",
   "language": "python",
   "name": "python3"
  },
  "language_info": {
   "codemirror_mode": {
    "name": "ipython",
    "version": 3
   },
   "file_extension": ".py",
   "mimetype": "text/x-python",
   "name": "python",
   "nbconvert_exporter": "python",
   "pygments_lexer": "ipython3",
   "version": "3.9.13"
  },
  "toc": {
   "base_numbering": 1,
   "nav_menu": {},
   "number_sections": true,
   "sideBar": true,
   "skip_h1_title": false,
   "title_cell": "Table of Contents",
   "title_sidebar": "Contents",
   "toc_cell": false,
   "toc_position": {},
   "toc_section_display": true,
   "toc_window_display": false
  }
 },
 "nbformat": 4,
 "nbformat_minor": 5
}
