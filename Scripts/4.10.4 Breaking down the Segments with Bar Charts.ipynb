{
 "cells": [
  {
   "cell_type": "markdown",
   "id": "7c6e505e",
   "metadata": {},
   "source": [
    "4.10.4"
   ]
  },
  {
   "cell_type": "markdown",
   "id": "15ff4c4f",
   "metadata": {},
   "source": [
    "## Outline"
   ]
  },
  {
   "cell_type": "markdown",
   "id": "ac334e3d",
   "metadata": {},
   "source": [
    "1.  Outline\n",
    "2.  Import\n",
    "3.  Splitting the Data\n",
    "4.  Segment 0\n",
    "5.  Segment 1\n",
    "6.  Segment 2\n",
    "7.  Segment 3\n",
    "8.  Conjugated Charts\n",
    "9.  Finding all means and concating the df together\n",
    "10. Top 100 Products for Each Segment"
   ]
  },
  {
   "cell_type": "markdown",
   "id": "01e56a8d",
   "metadata": {},
   "source": [
    "## Import"
   ]
  },
  {
   "cell_type": "code",
   "execution_count": 2,
   "id": "d326aa01",
   "metadata": {},
   "outputs": [],
   "source": [
    "import pandas as pd\n",
    "import numpy as np\n",
    "import os\n",
    "import matplotlib.pyplot as plt\n",
    "import seaborn as sns\n",
    "import scipy"
   ]
  },
  {
   "cell_type": "code",
   "execution_count": 4,
   "id": "fe95b550",
   "metadata": {},
   "outputs": [],
   "source": [
    "#poc segmented data\n",
    "df = pd.read_pickle ('/Users/christinarandall/Documents/Career Foundry Projects/Achievment 4/Data/Prepared Data/POC Df with Segments; pkl.pkl')"
   ]
  },
  {
   "cell_type": "markdown",
   "id": "b970a732",
   "metadata": {},
   "source": [
    "## Splitting the Data"
   ]
  },
  {
   "cell_type": "code",
   "execution_count": 3,
   "id": "53df7696",
   "metadata": {},
   "outputs": [
    {
     "data": {
      "text/plain": [
       "0"
      ]
     },
     "execution_count": 3,
     "metadata": {},
     "output_type": "execute_result"
    }
   ],
   "source": [
    "df['Segment'].min()"
   ]
  },
  {
   "cell_type": "code",
   "execution_count": 4,
   "id": "3fd00593",
   "metadata": {},
   "outputs": [],
   "source": [
    "df0 = df[df['Segment'] == 0]"
   ]
  },
  {
   "cell_type": "code",
   "execution_count": 5,
   "id": "4f8ea360",
   "metadata": {},
   "outputs": [],
   "source": [
    "df1 = df[df['Segment'] == 1]\n",
    "df2 = df[df['Segment'] == 2]\n",
    "df3 = df[df['Segment'] == 3]"
   ]
  },
  {
   "cell_type": "code",
   "execution_count": 6,
   "id": "9cf507ed",
   "metadata": {},
   "outputs": [],
   "source": [
    "#finding the column index numbers to get means for"
   ]
  },
  {
   "cell_type": "code",
   "execution_count": 7,
   "id": "74f84373",
   "metadata": {
    "scrolled": true
   },
   "outputs": [
    {
     "data": {
      "text/plain": [
       "335    Most Orders\n",
       "336    Most Orders\n",
       "Name: order_amount, dtype: object"
      ]
     },
     "execution_count": 7,
     "metadata": {},
     "output_type": "execute_result"
    }
   ],
   "source": [
    "df2['order_amount'].head(2)"
   ]
  },
  {
   "cell_type": "code",
   "execution_count": 8,
   "id": "2240a9dd",
   "metadata": {
    "scrolled": false
   },
   "outputs": [
    {
     "data": {
      "text/plain": [
       "Index(['order_id', 'user_id', 'order_number', 'order_dow', 'order_hour_of_day',\n",
       "       'days_since_prior_order', 'product_id', 'reordered', 'product_name',\n",
       "       'aisle_id', 'department_id', 'prices', 'price_range_loc', 'busiest_day',\n",
       "       'busiest_days_2', 'order_amount', 'loyalty_flag', 'spend_flag',\n",
       "       'order_freq', 'order_freq_flag', 'first_name', 'last_name', 'gender',\n",
       "       'state', 'age', 'n_dependants', 'martial_status', 'income', 'Segment'],\n",
       "      dtype='object')"
      ]
     },
     "execution_count": 8,
     "metadata": {},
     "output_type": "execute_result"
    }
   ],
   "source": [
    "df2.columns"
   ]
  },
  {
   "cell_type": "code",
   "execution_count": 9,
   "id": "79c2e6bf",
   "metadata": {},
   "outputs": [
    {
     "name": "stdout",
     "output_type": "stream",
     "text": [
      "Column Index Numbers:  [3, 4, 5, 11, 24, 25, 27]\n"
     ]
    }
   ],
   "source": [
    "column_index_numbers = [df.columns.get_loc(col) for col in [ 'order_dow', 'order_hour_of_day',\n",
    "                                                             'days_since_prior_order',\n",
    "                                                             'prices',\n",
    "                                                             'age', 'n_dependants', 'income']]\n",
    "\n",
    "print(\"Column Index Numbers: \", column_index_numbers)"
   ]
  },
  {
   "cell_type": "markdown",
   "id": "2f997033",
   "metadata": {},
   "source": [
    "## Segment 0"
   ]
  },
  {
   "cell_type": "code",
   "execution_count": 10,
   "id": "8d89f4b0",
   "metadata": {},
   "outputs": [
    {
     "name": "stdout",
     "output_type": "stream",
     "text": [
      "61.0\n",
      "81\n",
      "18\n",
      "147847.0\n",
      "249904\n",
      "124857\n"
     ]
    }
   ],
   "source": [
    "#finding df0 parameters\n",
    "print (df0['age'].median())\n",
    "print (df0['age'].max())\n",
    "print (df0['age'].min())\n",
    "print (df0['income'].median())\n",
    "print (df0['income'].max())\n",
    "print (df0['income'].min())"
   ]
  },
  {
   "cell_type": "code",
   "execution_count": 11,
   "id": "b3003f7b",
   "metadata": {},
   "outputs": [],
   "source": [
    "df0_means = np.mean(df0.iloc[:, column_index_numbers], axis=0)"
   ]
  },
  {
   "cell_type": "code",
   "execution_count": 12,
   "id": "fbcfa895",
   "metadata": {
    "scrolled": true
   },
   "outputs": [
    {
     "data": {
      "text/plain": [
       "order_dow                      2.739441\n",
       "order_hour_of_day             13.469846\n",
       "days_since_prior_order        11.045153\n",
       "prices                        16.043300\n",
       "age                           60.609597\n",
       "n_dependants                   1.494974\n",
       "income                    148449.727468\n",
       "dtype: float64"
      ]
     },
     "execution_count": 12,
     "metadata": {},
     "output_type": "execute_result"
    }
   ],
   "source": [
    "df0_means"
   ]
  },
  {
   "cell_type": "markdown",
   "id": "9feeaf65",
   "metadata": {},
   "source": [
    "## Segment 1"
   ]
  },
  {
   "cell_type": "code",
   "execution_count": 13,
   "id": "9053018b",
   "metadata": {
    "scrolled": true
   },
   "outputs": [
    {
     "name": "stdout",
     "output_type": "stream",
     "text": [
      "34.0\n",
      "81\n",
      "18\n",
      "58286.0\n",
      "79066\n",
      "25903\n"
     ]
    }
   ],
   "source": [
    "#finding df1 parameters\n",
    "print (df1['age'].median())\n",
    "print (df1['age'].max())\n",
    "print (df1['age'].min())\n",
    "print (df1['income'].median())\n",
    "print (df1['income'].max())\n",
    "print (df1['income'].min())"
   ]
  },
  {
   "cell_type": "code",
   "execution_count": 14,
   "id": "0c4c7184",
   "metadata": {},
   "outputs": [],
   "source": [
    "df1_means = np.mean(df1.iloc[:, column_index_numbers], axis=0)"
   ]
  },
  {
   "cell_type": "markdown",
   "id": "985230f5",
   "metadata": {},
   "source": [
    "## Segment 2"
   ]
  },
  {
   "cell_type": "code",
   "execution_count": 15,
   "id": "126f446c",
   "metadata": {},
   "outputs": [
    {
     "name": "stdout",
     "output_type": "stream",
     "text": [
      "52.0\n",
      "81\n",
      "18\n",
      "99923.0\n",
      "124856\n",
      "79067\n"
     ]
    }
   ],
   "source": [
    "#finding df2 parameters\n",
    "print (df2['age'].median())\n",
    "print (df2['age'].max())\n",
    "print (df2['age'].min())\n",
    "print (df2['income'].median())\n",
    "print (df2['income'].max())\n",
    "print (df2['income'].min())"
   ]
  },
  {
   "cell_type": "code",
   "execution_count": 16,
   "id": "8990f4db",
   "metadata": {},
   "outputs": [],
   "source": [
    "df2_means = np.mean(df2.iloc[:, column_index_numbers], axis=0)"
   ]
  },
  {
   "cell_type": "markdown",
   "id": "d4850fde",
   "metadata": {},
   "source": [
    "## Segment 3"
   ]
  },
  {
   "cell_type": "code",
   "execution_count": 17,
   "id": "6e74f7d3",
   "metadata": {},
   "outputs": [
    {
     "name": "stdout",
     "output_type": "stream",
     "text": [
      "55.0\n",
      "81\n",
      "18\n",
      "320962.0\n",
      "593901\n",
      "250190\n"
     ]
    }
   ],
   "source": [
    "#finding df3 parameters\n",
    "print (df3['age'].median())\n",
    "print (df3['age'].max())\n",
    "print (df3['age'].min())\n",
    "print (df3['income'].median())\n",
    "print (df3['income'].max())\n",
    "print (df3['income'].min())"
   ]
  },
  {
   "cell_type": "code",
   "execution_count": 18,
   "id": "03204da0",
   "metadata": {},
   "outputs": [],
   "source": [
    "df3_means = np.mean(df3.iloc[:, column_index_numbers], axis=0)"
   ]
  },
  {
   "cell_type": "markdown",
   "id": "905b2bcc",
   "metadata": {},
   "source": [
    "## Conjugated Charts"
   ]
  },
  {
   "cell_type": "code",
   "execution_count": 19,
   "id": "6ef662f9",
   "metadata": {
    "scrolled": true
   },
   "outputs": [],
   "source": [
    "import matplotlib as mpl\n",
    "cmap = mpl.colormaps['rainbow']"
   ]
  },
  {
   "cell_type": "code",
   "execution_count": 20,
   "id": "7eaec85a",
   "metadata": {},
   "outputs": [
    {
     "data": {
      "image/png": "[encoded data removed]",
      "text/plain": [
       "<Figure size 1000x600 with 1 Axes>"
      ]
     },
     "metadata": {},
     "output_type": "display_data"
    }
   ],
   "source": [
    "from matplotlib.cm import get_cmap\n",
    "\n",
    "# Create subplots with 1 row and 1 column\n",
    "fig, ax = plt.subplots(1, 1, figsize=(10, 6))\n",
    "\n",
    "cmap = get_cmap('tab20c')\n",
    "\n",
    "# Plot bar chart for each segment on the same axes with tab20c colors\n",
    "df0['n_dependants'].value_counts().sort_index().plot.bar(ax=ax, color=cmap(0), position=0, width=0.15)\n",
    "df1['n_dependants'].value_counts().sort_index().plot.bar(ax=ax, color=cmap(4), position=1, width=0.15)\n",
    "df2['n_dependants'].value_counts().sort_index().plot.bar(ax=ax, color=cmap(8), position=2, width=0.15)\n",
    "df3['n_dependants'].value_counts().sort_index().plot.bar(ax=ax, color=cmap(12), position=3, width=0.15)\n",
    "\n",
    "# Set x-axis label, y-axis label, and title\n",
    "ax.set_xlabel('n_dependants')\n",
    "ax.set_ylabel('Count')\n",
    "ax.set_title('Counts of n_dependants for Each Segment')\n",
    "\n",
    "# Set x-ticks and x-tick labels\n",
    "ax.set_xticks(range(4))\n",
    "ax.set_xticklabels(df0['n_dependants'].value_counts().sort_index().index)\n",
    "\n",
    "ax.legend(['Segment 0', 'Segment 1', 'Segment 2', 'Segment 3'])\n",
    "plt.show()\n"
   ]
  },
  {
   "cell_type": "code",
   "execution_count": 21,
   "id": "21d5c233",
   "metadata": {},
   "outputs": [
    {
     "data": {
      "image/png": "[encoded data removed]",
      "text/plain": [
       "<Figure size 1000x600 with 1 Axes>"
      ]
     },
     "metadata": {},
     "output_type": "display_data"
    }
   ],
   "source": [
    "from matplotlib.cm import get_cmap\n",
    "\n",
    "# Create subplots with 1 row and 1 column\n",
    "fig, ax = plt.subplots(1, 1, figsize=(10, 6))\n",
    "\n",
    "cmap = get_cmap('tab20c')\n",
    "\n",
    "# Plot bar chart for each segment on the same axes with tab20c colors\n",
    "df0['martial_status'].value_counts().sort_index().plot.bar(ax=ax, color=cmap(0), position=0, width=0.15)\n",
    "df1['martial_status'].value_counts().sort_index().plot.bar(ax=ax, color=cmap(4), position=1, width=0.15)\n",
    "df2['martial_status'].value_counts().sort_index().plot.bar(ax=ax, color=cmap(8), position=2, width=0.15)\n",
    "df3['martial_status'].value_counts().sort_index().plot.bar(ax=ax, color=cmap(12), position=3, width=0.15)\n",
    "\n",
    "# Set x-axis label, y-axis label, and title\n",
    "ax.set_xlabel('Marital Status')\n",
    "ax.set_ylabel('Count')\n",
    "ax.set_title('Counts of Marital Status for Each Segment')\n",
    "\n",
    "# Set x-ticks and x-tick labels\n",
    "ax.set_xticks(range(4))\n",
    "ax.set_xticklabels(df0['martial_status'].value_counts().sort_index().index)\n",
    "\n",
    "ax.legend(['Segment 0', 'Segment 1', 'Segment 2', 'Segment 3'])\n",
    "plt.show()"
   ]
  },
  {
   "cell_type": "markdown",
   "id": "f63e683c",
   "metadata": {},
   "source": [
    "## Top 100 Products for Each Segment"
   ]
  },
  {
   "cell_type": "code",
   "execution_count": 22,
   "id": "0902974c",
   "metadata": {
    "scrolled": true
   },
   "outputs": [
    {
     "data": {
      "text/plain": [
       "335                   Soda\n",
       "336    Organic Half & Half\n",
       "Name: product_name, dtype: object"
      ]
     },
     "execution_count": 22,
     "metadata": {},
     "output_type": "execute_result"
    }
   ],
   "source": [
    "df2['product_name'].head(2)"
   ]
  },
  {
   "cell_type": "code",
   "execution_count": 23,
   "id": "860d62af",
   "metadata": {
    "scrolled": false
   },
   "outputs": [
    {
     "data": {
      "text/plain": [
       "Index(['order_id', 'user_id', 'order_number', 'order_dow', 'order_hour_of_day',\n",
       "       'days_since_prior_order', 'product_id', 'reordered', 'product_name',\n",
       "       'aisle_id', 'department_id', 'prices', 'price_range_loc', 'busiest_day',\n",
       "       'busiest_days_2', 'order_amount', 'loyalty_flag', 'spend_flag',\n",
       "       'order_freq', 'order_freq_flag', 'first_name', 'last_name', 'gender',\n",
       "       'state', 'age', 'n_dependants', 'martial_status', 'income', 'Segment'],\n",
       "      dtype='object')"
      ]
     },
     "execution_count": 23,
     "metadata": {},
     "output_type": "execute_result"
    }
   ],
   "source": [
    "df2.columns"
   ]
  },
  {
   "cell_type": "code",
   "execution_count": 24,
   "id": "8908098e",
   "metadata": {},
   "outputs": [
    {
     "name": "stdout",
     "output_type": "stream",
     "text": [
      "Column Index Numbers:  [3, 4, 5, 11, 24, 25, 27]\n"
     ]
    }
   ],
   "source": [
    "column_index_numbers = [df.columns.get_loc(col) for col in [ 'order_dow', 'order_hour_of_day',\n",
    "                                                             'days_since_prior_order',\n",
    "                                                             'prices',\n",
    "                                                             'age', 'n_dependants', 'income']]\n",
    "\n",
    "print(\"Column Index Numbers: \", column_index_numbers)"
   ]
  },
  {
   "cell_type": "code",
   "execution_count": 25,
   "id": "fd8fc329",
   "metadata": {},
   "outputs": [],
   "source": [
    "df0_means = np.mean(df0.iloc[:, column_index_numbers], axis=0)"
   ]
  },
  {
   "cell_type": "markdown",
   "id": "c0181408",
   "metadata": {},
   "source": [
    "### df0"
   ]
  },
  {
   "cell_type": "code",
   "execution_count": 26,
   "id": "c7e235e1",
   "metadata": {},
   "outputs": [],
   "source": [
    "df0u = df0.groupby('product_name', as_index=False).agg(product_name_count=('product_name', 'count'))"
   ]
  },
  {
   "cell_type": "code",
   "execution_count": 27,
   "id": "bd99e48d",
   "metadata": {},
   "outputs": [],
   "source": [
    "df0u = df0u.sort_values('product_name_count', ascending=False)"
   ]
  },
  {
   "cell_type": "code",
   "execution_count": 28,
   "id": "70122d71",
   "metadata": {
    "scrolled": true
   },
   "outputs": [],
   "source": [
    "t0_100 = df0u.head(100)"
   ]
  },
  {
   "cell_type": "markdown",
   "id": "19e006e9",
   "metadata": {},
   "source": [
    "### df1"
   ]
  },
  {
   "cell_type": "code",
   "execution_count": 29,
   "id": "f79571a3",
   "metadata": {},
   "outputs": [],
   "source": [
    "df1u = df1.groupby('product_name', as_index=False).agg(product_name_count=('product_name', 'count'))"
   ]
  },
  {
   "cell_type": "code",
   "execution_count": 30,
   "id": "279c4af1",
   "metadata": {},
   "outputs": [],
   "source": [
    "df1u = df1u.sort_values('product_name_count', ascending=False)"
   ]
  },
  {
   "cell_type": "code",
   "execution_count": 31,
   "id": "e1adaf10",
   "metadata": {
    "scrolled": true
   },
   "outputs": [],
   "source": [
    "t1_100 = df1u.head(100)"
   ]
  },
  {
   "cell_type": "markdown",
   "id": "070ee57d",
   "metadata": {},
   "source": [
    "### df2"
   ]
  },
  {
   "cell_type": "code",
   "execution_count": 32,
   "id": "9079ed4b",
   "metadata": {},
   "outputs": [],
   "source": [
    "df2_means = np.mean(df2.iloc[:, column_index_numbers], axis=0)"
   ]
  },
  {
   "cell_type": "code",
   "execution_count": 33,
   "id": "04f7b688",
   "metadata": {},
   "outputs": [],
   "source": [
    "df2u = df2.groupby('product_name', as_index=False).agg(product_name_count=('product_name', 'count'))"
   ]
  },
  {
   "cell_type": "code",
   "execution_count": 34,
   "id": "bc1ebf52",
   "metadata": {},
   "outputs": [],
   "source": [
    "df2u = df2u.sort_values('product_name_count', ascending=False)"
   ]
  },
  {
   "cell_type": "code",
   "execution_count": 35,
   "id": "724b6735",
   "metadata": {
    "scrolled": true
   },
   "outputs": [],
   "source": [
    "t2_100 = df2u.head(100)"
   ]
  },
  {
   "cell_type": "markdown",
   "id": "8f461bae",
   "metadata": {},
   "source": [
    "### df3"
   ]
  },
  {
   "cell_type": "code",
   "execution_count": 36,
   "id": "96fd0f76",
   "metadata": {},
   "outputs": [],
   "source": [
    "df3_means = np.mean(df3.iloc[:, column_index_numbers], axis=0)"
   ]
  },
  {
   "cell_type": "code",
   "execution_count": 37,
   "id": "5d7e06f4",
   "metadata": {},
   "outputs": [],
   "source": [
    "df3u = df3.groupby('product_name', as_index=False).agg(product_name_count=('product_name', 'count'))"
   ]
  },
  {
   "cell_type": "code",
   "execution_count": 38,
   "id": "72c309d8",
   "metadata": {},
   "outputs": [],
   "source": [
    "df3u = df3u.sort_values('product_name_count', ascending=False)"
   ]
  },
  {
   "cell_type": "code",
   "execution_count": 39,
   "id": "dd0bdd13",
   "metadata": {
    "scrolled": true
   },
   "outputs": [],
   "source": [
    "t3_100 = df3u.head(100)"
   ]
  },
  {
   "cell_type": "markdown",
   "id": "cc2de62f",
   "metadata": {},
   "source": [
    "### Concatting the top 100 products"
   ]
  },
  {
   "cell_type": "code",
   "execution_count": 40,
   "id": "2c39376e",
   "metadata": {},
   "outputs": [],
   "source": [
    "# Concatenate DataFrames horizontally along columns axis and select 'product_name' column\n",
    "top_100 = pd.concat([df['product_name'] for df in [t0_100, t1_100, t2_100, t3_100]], axis=1)\n"
   ]
  },
  {
   "cell_type": "code",
   "execution_count": 41,
   "id": "24609e26",
   "metadata": {},
   "outputs": [
    {
     "data": {
      "text/html": [
       "<div>\n",
       "<style scoped>\n",
       "    .dataframe tbody tr th:only-of-type {\n",
       "        vertical-align: middle;\n",
       "    }\n",
       "\n",
       "    .dataframe tbody tr th {\n",
       "        vertical-align: top;\n",
       "    }\n",
       "\n",
       "    .dataframe thead th {\n",
       "        text-align: right;\n",
       "    }\n",
       "</style>\n",
       "<table border=\"1\" class=\"dataframe\">\n",
       "  <thead>\n",
       "    <tr style=\"text-align: right;\">\n",
       "      <th></th>\n",
       "      <th>product_name</th>\n",
       "      <th>product_name</th>\n",
       "      <th>product_name</th>\n",
       "      <th>product_name</th>\n",
       "    </tr>\n",
       "  </thead>\n",
       "  <tbody>\n",
       "    <tr>\n",
       "      <th>3439</th>\n",
       "      <td>Banana</td>\n",
       "      <td>NaN</td>\n",
       "      <td>NaN</td>\n",
       "      <td>NaN</td>\n",
       "    </tr>\n",
       "    <tr>\n",
       "      <th>3244</th>\n",
       "      <td>Bag of Organic Bananas</td>\n",
       "      <td>NaN</td>\n",
       "      <td>NaN</td>\n",
       "      <td>NaN</td>\n",
       "    </tr>\n",
       "    <tr>\n",
       "      <th>30231</th>\n",
       "      <td>Organic Strawberries</td>\n",
       "      <td>NaN</td>\n",
       "      <td>NaN</td>\n",
       "      <td>NaN</td>\n",
       "    </tr>\n",
       "    <tr>\n",
       "      <th>27251</th>\n",
       "      <td>Organic Baby Spinach</td>\n",
       "      <td>NaN</td>\n",
       "      <td>NaN</td>\n",
       "      <td>NaN</td>\n",
       "    </tr>\n",
       "    <tr>\n",
       "      <th>28653</th>\n",
       "      <td>Organic Hass Avocado</td>\n",
       "      <td>NaN</td>\n",
       "      <td>NaN</td>\n",
       "      <td>NaN</td>\n",
       "    </tr>\n",
       "    <tr>\n",
       "      <th>...</th>\n",
       "      <td>...</td>\n",
       "      <td>...</td>\n",
       "      <td>...</td>\n",
       "      <td>...</td>\n",
       "    </tr>\n",
       "    <tr>\n",
       "      <th>6681</th>\n",
       "      <td>NaN</td>\n",
       "      <td>NaN</td>\n",
       "      <td>NaN</td>\n",
       "      <td>Lemon Sparkling Water</td>\n",
       "    </tr>\n",
       "    <tr>\n",
       "      <th>10763</th>\n",
       "      <td>NaN</td>\n",
       "      <td>NaN</td>\n",
       "      <td>NaN</td>\n",
       "      <td>Purified Water</td>\n",
       "    </tr>\n",
       "    <tr>\n",
       "      <th>14066</th>\n",
       "      <td>NaN</td>\n",
       "      <td>NaN</td>\n",
       "      <td>NaN</td>\n",
       "      <td>White Corn Tortillas</td>\n",
       "    </tr>\n",
       "    <tr>\n",
       "      <th>13674</th>\n",
       "      <td>NaN</td>\n",
       "      <td>NaN</td>\n",
       "      <td>NaN</td>\n",
       "      <td>Vanilla Almond Breeze Almond Milk</td>\n",
       "    </tr>\n",
       "    <tr>\n",
       "      <th>8669</th>\n",
       "      <td>NaN</td>\n",
       "      <td>NaN</td>\n",
       "      <td>NaN</td>\n",
       "      <td>Organic Fat-Free Milk</td>\n",
       "    </tr>\n",
       "  </tbody>\n",
       "</table>\n",
       "<p>397 rows × 4 columns</p>\n",
       "</div>"
      ],
      "text/plain": [
       "                 product_name product_name product_name  \\\n",
       "3439                   Banana          NaN          NaN   \n",
       "3244   Bag of Organic Bananas          NaN          NaN   \n",
       "30231    Organic Strawberries          NaN          NaN   \n",
       "27251    Organic Baby Spinach          NaN          NaN   \n",
       "28653    Organic Hass Avocado          NaN          NaN   \n",
       "...                       ...          ...          ...   \n",
       "6681                      NaN          NaN          NaN   \n",
       "10763                     NaN          NaN          NaN   \n",
       "14066                     NaN          NaN          NaN   \n",
       "13674                     NaN          NaN          NaN   \n",
       "8669                      NaN          NaN          NaN   \n",
       "\n",
       "                            product_name  \n",
       "3439                                 NaN  \n",
       "3244                                 NaN  \n",
       "30231                                NaN  \n",
       "27251                                NaN  \n",
       "28653                                NaN  \n",
       "...                                  ...  \n",
       "6681               Lemon Sparkling Water  \n",
       "10763                     Purified Water  \n",
       "14066               White Corn Tortillas  \n",
       "13674  Vanilla Almond Breeze Almond Milk  \n",
       "8669               Organic Fat-Free Milk  \n",
       "\n",
       "[397 rows x 4 columns]"
      ]
     },
     "execution_count": 41,
     "metadata": {},
     "output_type": "execute_result"
    }
   ],
   "source": [
    "top_100"
   ]
  },
  {
   "cell_type": "code",
   "execution_count": null,
   "id": "2dfcada5",
   "metadata": {},
   "outputs": [],
   "source": []
  },
  {
   "cell_type": "code",
   "execution_count": null,
   "id": "3471cb33",
   "metadata": {},
   "outputs": [],
   "source": []
  },
  {
   "cell_type": "markdown",
   "id": "844ccbb0",
   "metadata": {},
   "source": [
    "## Export"
   ]
  },
  {
   "cell_type": "code",
   "execution_count": null,
   "id": "7c05dfa0",
   "metadata": {},
   "outputs": [],
   "source": []
  },
  {
   "cell_type": "code",
   "execution_count": 42,
   "id": "93bc7b24",
   "metadata": {},
   "outputs": [],
   "source": []
  },
  {
   "cell_type": "code",
   "execution_count": null,
   "id": "16e7368b",
   "metadata": {},
   "outputs": [],
   "source": []
  },
  {
   "cell_type": "code",
   "execution_count": null,
   "id": "5e2d7754",
   "metadata": {},
   "outputs": [],
   "source": []
  }
 ],
 "metadata": {
  "kernelspec": {
   "display_name": "Python 3 (ipykernel)",
   "language": "python",
   "name": "python3"
  },
  "language_info": {
   "codemirror_mode": {
    "name": "ipython",
    "version": 3
   },
   "file_extension": ".py",
   "mimetype": "text/x-python",
   "name": "python",
   "nbconvert_exporter": "python",
   "pygments_lexer": "ipython3",
   "version": "3.9.13"
  },
  "toc": {
   "base_numbering": 1,
   "nav_menu": {},
   "number_sections": true,
   "sideBar": true,
   "skip_h1_title": false,
   "title_cell": "Table of Contents",
   "title_sidebar": "Contents",
   "toc_cell": false,
   "toc_position": {},
   "toc_section_display": true,
   "toc_window_display": false
  }
 },
 "nbformat": 4,
 "nbformat_minor": 5
}
