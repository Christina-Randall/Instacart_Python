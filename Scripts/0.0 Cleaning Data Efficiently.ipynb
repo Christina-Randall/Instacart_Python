{
 "cells": [
  {
   "cell_type": "markdown",
   "id": "e79dc3ea",
   "metadata": {},
   "source": [
    "0.0 Cleaning Data Efficiently"
   ]
  },
  {
   "cell_type": "markdown",
   "id": "59cecbc6",
   "metadata": {},
   "source": [
    "Cleaning data by chaining instead of single line code is visually simpler and easier to follow. Below is an example of this (noted as #effcient cleaning example) and is how I will do future cleans on data bases. Unfortunatley, this project was done prior to this method."
   ]
  },
  {
   "cell_type": "markdown",
   "id": "2be88a88",
   "metadata": {},
   "source": [
    "The second part shows one way on how to generate unique colums only from a data frame. While it was not needed in the data frame used, I have put it in here for my own refrence."
   ]
  },
  {
   "cell_type": "markdown",
   "id": "fc895357",
   "metadata": {},
   "source": [
    "# Import"
   ]
  },
  {
   "cell_type": "code",
   "execution_count": 1,
   "id": "77d26e4d",
   "metadata": {},
   "outputs": [],
   "source": [
    "import pandas as pd\n",
    "import numpy as np\n",
    "import os\n",
    "import matplotlib.pyplot as plt\n",
    "import seaborn as sns\n",
    "import scipy"
   ]
  },
  {
   "cell_type": "code",
   "execution_count": 2,
   "id": "b53ad50e",
   "metadata": {},
   "outputs": [],
   "source": [
    "df = pd.read_csv ('/Users/christinarandall/Documents/Career Foundry Projects/Achievment 4/Data/Orginal Data/customers.csv')"
   ]
  },
  {
   "cell_type": "code",
   "execution_count": 3,
   "id": "fb0ef650",
   "metadata": {},
   "outputs": [
    {
     "data": {
      "text/html": [
       "<div>\n",
       "<style scoped>\n",
       "    .dataframe tbody tr th:only-of-type {\n",
       "        vertical-align: middle;\n",
       "    }\n",
       "\n",
       "    .dataframe tbody tr th {\n",
       "        vertical-align: top;\n",
       "    }\n",
       "\n",
       "    .dataframe thead th {\n",
       "        text-align: right;\n",
       "    }\n",
       "</style>\n",
       "<table border=\"1\" class=\"dataframe\">\n",
       "  <thead>\n",
       "    <tr style=\"text-align: right;\">\n",
       "      <th></th>\n",
       "      <th>user_id</th>\n",
       "      <th>First Name</th>\n",
       "      <th>Surnam</th>\n",
       "      <th>Gender</th>\n",
       "      <th>STATE</th>\n",
       "      <th>Age</th>\n",
       "      <th>date_joined</th>\n",
       "      <th>n_dependants</th>\n",
       "      <th>fam_status</th>\n",
       "      <th>income</th>\n",
       "    </tr>\n",
       "  </thead>\n",
       "  <tbody>\n",
       "    <tr>\n",
       "      <th>0</th>\n",
       "      <td>26711</td>\n",
       "      <td>Deborah</td>\n",
       "      <td>Esquivel</td>\n",
       "      <td>Female</td>\n",
       "      <td>Missouri</td>\n",
       "      <td>48</td>\n",
       "      <td>1/1/2017</td>\n",
       "      <td>3</td>\n",
       "      <td>married</td>\n",
       "      <td>165665</td>\n",
       "    </tr>\n",
       "    <tr>\n",
       "      <th>1</th>\n",
       "      <td>33890</td>\n",
       "      <td>Patricia</td>\n",
       "      <td>Hart</td>\n",
       "      <td>Female</td>\n",
       "      <td>New Mexico</td>\n",
       "      <td>36</td>\n",
       "      <td>1/1/2017</td>\n",
       "      <td>0</td>\n",
       "      <td>single</td>\n",
       "      <td>59285</td>\n",
       "    </tr>\n",
       "    <tr>\n",
       "      <th>2</th>\n",
       "      <td>65803</td>\n",
       "      <td>Kenneth</td>\n",
       "      <td>Farley</td>\n",
       "      <td>Male</td>\n",
       "      <td>Idaho</td>\n",
       "      <td>35</td>\n",
       "      <td>1/1/2017</td>\n",
       "      <td>2</td>\n",
       "      <td>married</td>\n",
       "      <td>99568</td>\n",
       "    </tr>\n",
       "  </tbody>\n",
       "</table>\n",
       "</div>"
      ],
      "text/plain": [
       "   user_id First Name    Surnam  Gender       STATE  Age date_joined  \\\n",
       "0    26711    Deborah  Esquivel  Female    Missouri   48    1/1/2017   \n",
       "1    33890   Patricia      Hart  Female  New Mexico   36    1/1/2017   \n",
       "2    65803    Kenneth    Farley    Male       Idaho   35    1/1/2017   \n",
       "\n",
       "   n_dependants fam_status  income  \n",
       "0             3    married  165665  \n",
       "1             0     single   59285  \n",
       "2             2    married   99568  "
      ]
     },
     "execution_count": 3,
     "metadata": {},
     "output_type": "execute_result"
    }
   ],
   "source": [
    "df.head(3)"
   ]
  },
  {
   "cell_type": "code",
   "execution_count": 4,
   "id": "80a12d65",
   "metadata": {
    "scrolled": true
   },
   "outputs": [
    {
     "data": {
      "text/plain": [
       "user_id          int64\n",
       "First Name      object\n",
       "Surnam          object\n",
       "Gender          object\n",
       "STATE           object\n",
       "Age              int64\n",
       "date_joined     object\n",
       "n_dependants     int64\n",
       "fam_status      object\n",
       "income           int64\n",
       "dtype: object"
      ]
     },
     "execution_count": 4,
     "metadata": {},
     "output_type": "execute_result"
    }
   ],
   "source": [
    "df.dtypes"
   ]
  },
  {
   "cell_type": "markdown",
   "id": "49a5f819",
   "metadata": {},
   "source": [
    "# Cleaning the data"
   ]
  },
  {
   "cell_type": "code",
   "execution_count": 5,
   "id": "c9dbfc91",
   "metadata": {},
   "outputs": [],
   "source": [
    "#effcient cleaning example\n",
    "cleaned_df = (df\n",
    "              .rename(columns=lambda c: c.replace(' ', '_'))\n",
    "              .rename(columns=str.lower)\n",
    "              .rename(columns={'surnam': 'last_name', 'fam_status': 'martial_status'})\n",
    "              .assign(user_id=lambda df_: df_['user_id'].astype('int64'),\n",
    "                      n_dependants=lambda df_: df_['n_dependants'].astype('int8'),\n",
    "                      age=lambda df_: df_['age'].astype('int8'),\n",
    "                      income=lambda df_: df_['income'].astype('int64'),\n",
    "                      first_name=lambda df_: df_['first_name'].astype(str),\n",
    "                      last_name=lambda df_: df_['last_name'].astype(str),\n",
    "                      gender=lambda df_: df_['gender'].astype(str),\n",
    "                      state=lambda df_: df_['state'].astype(str),\n",
    "                      martial_status=lambda df_: df_['martial_status'].astype(str))\n",
    "              .assign(date_joined=pd.to_datetime(df['date_joined']))\n",
    "             )"
   ]
  },
  {
   "cell_type": "code",
   "execution_count": 6,
   "id": "43f95541",
   "metadata": {},
   "outputs": [
    {
     "data": {
      "text/html": [
       "<div>\n",
       "<style scoped>\n",
       "    .dataframe tbody tr th:only-of-type {\n",
       "        vertical-align: middle;\n",
       "    }\n",
       "\n",
       "    .dataframe tbody tr th {\n",
       "        vertical-align: top;\n",
       "    }\n",
       "\n",
       "    .dataframe thead th {\n",
       "        text-align: right;\n",
       "    }\n",
       "</style>\n",
       "<table border=\"1\" class=\"dataframe\">\n",
       "  <thead>\n",
       "    <tr style=\"text-align: right;\">\n",
       "      <th></th>\n",
       "      <th>user_id</th>\n",
       "      <th>first_name</th>\n",
       "      <th>last_name</th>\n",
       "      <th>gender</th>\n",
       "      <th>state</th>\n",
       "      <th>age</th>\n",
       "      <th>date_joined</th>\n",
       "      <th>n_dependants</th>\n",
       "      <th>martial_status</th>\n",
       "      <th>income</th>\n",
       "    </tr>\n",
       "  </thead>\n",
       "  <tbody>\n",
       "    <tr>\n",
       "      <th>0</th>\n",
       "      <td>26711</td>\n",
       "      <td>Deborah</td>\n",
       "      <td>Esquivel</td>\n",
       "      <td>Female</td>\n",
       "      <td>Missouri</td>\n",
       "      <td>48</td>\n",
       "      <td>2017-01-01</td>\n",
       "      <td>3</td>\n",
       "      <td>married</td>\n",
       "      <td>165665</td>\n",
       "    </tr>\n",
       "    <tr>\n",
       "      <th>1</th>\n",
       "      <td>33890</td>\n",
       "      <td>Patricia</td>\n",
       "      <td>Hart</td>\n",
       "      <td>Female</td>\n",
       "      <td>New Mexico</td>\n",
       "      <td>36</td>\n",
       "      <td>2017-01-01</td>\n",
       "      <td>0</td>\n",
       "      <td>single</td>\n",
       "      <td>59285</td>\n",
       "    </tr>\n",
       "    <tr>\n",
       "      <th>2</th>\n",
       "      <td>65803</td>\n",
       "      <td>Kenneth</td>\n",
       "      <td>Farley</td>\n",
       "      <td>Male</td>\n",
       "      <td>Idaho</td>\n",
       "      <td>35</td>\n",
       "      <td>2017-01-01</td>\n",
       "      <td>2</td>\n",
       "      <td>married</td>\n",
       "      <td>99568</td>\n",
       "    </tr>\n",
       "    <tr>\n",
       "      <th>3</th>\n",
       "      <td>125935</td>\n",
       "      <td>Michelle</td>\n",
       "      <td>Hicks</td>\n",
       "      <td>Female</td>\n",
       "      <td>Iowa</td>\n",
       "      <td>40</td>\n",
       "      <td>2017-01-01</td>\n",
       "      <td>0</td>\n",
       "      <td>single</td>\n",
       "      <td>42049</td>\n",
       "    </tr>\n",
       "    <tr>\n",
       "      <th>4</th>\n",
       "      <td>130797</td>\n",
       "      <td>Ann</td>\n",
       "      <td>Gilmore</td>\n",
       "      <td>Female</td>\n",
       "      <td>Maryland</td>\n",
       "      <td>26</td>\n",
       "      <td>2017-01-01</td>\n",
       "      <td>1</td>\n",
       "      <td>married</td>\n",
       "      <td>40374</td>\n",
       "    </tr>\n",
       "    <tr>\n",
       "      <th>5</th>\n",
       "      <td>133128</td>\n",
       "      <td>Cynthia</td>\n",
       "      <td>Noble</td>\n",
       "      <td>Female</td>\n",
       "      <td>Kentucky</td>\n",
       "      <td>43</td>\n",
       "      <td>2017-01-01</td>\n",
       "      <td>2</td>\n",
       "      <td>married</td>\n",
       "      <td>49643</td>\n",
       "    </tr>\n",
       "    <tr>\n",
       "      <th>6</th>\n",
       "      <td>152052</td>\n",
       "      <td>Chris</td>\n",
       "      <td>Walton</td>\n",
       "      <td>Male</td>\n",
       "      <td>Montana</td>\n",
       "      <td>20</td>\n",
       "      <td>2017-01-01</td>\n",
       "      <td>0</td>\n",
       "      <td>single</td>\n",
       "      <td>61746</td>\n",
       "    </tr>\n",
       "    <tr>\n",
       "      <th>7</th>\n",
       "      <td>168851</td>\n",
       "      <td>Joseph</td>\n",
       "      <td>Hickman</td>\n",
       "      <td>Male</td>\n",
       "      <td>South Carolina</td>\n",
       "      <td>30</td>\n",
       "      <td>2017-01-01</td>\n",
       "      <td>0</td>\n",
       "      <td>single</td>\n",
       "      <td>63712</td>\n",
       "    </tr>\n",
       "    <tr>\n",
       "      <th>8</th>\n",
       "      <td>69965</td>\n",
       "      <td>Jeremy</td>\n",
       "      <td>Vang</td>\n",
       "      <td>Male</td>\n",
       "      <td>Texas</td>\n",
       "      <td>47</td>\n",
       "      <td>2017-01-01</td>\n",
       "      <td>1</td>\n",
       "      <td>married</td>\n",
       "      <td>162432</td>\n",
       "    </tr>\n",
       "    <tr>\n",
       "      <th>9</th>\n",
       "      <td>82820</td>\n",
       "      <td>Shawn</td>\n",
       "      <td>Chung</td>\n",
       "      <td>Male</td>\n",
       "      <td>Virginia</td>\n",
       "      <td>26</td>\n",
       "      <td>2017-01-01</td>\n",
       "      <td>2</td>\n",
       "      <td>married</td>\n",
       "      <td>32072</td>\n",
       "    </tr>\n",
       "  </tbody>\n",
       "</table>\n",
       "</div>"
      ],
      "text/plain": [
       "   user_id first_name last_name  gender           state  age date_joined  \\\n",
       "0    26711    Deborah  Esquivel  Female        Missouri   48  2017-01-01   \n",
       "1    33890   Patricia      Hart  Female      New Mexico   36  2017-01-01   \n",
       "2    65803    Kenneth    Farley    Male           Idaho   35  2017-01-01   \n",
       "3   125935   Michelle     Hicks  Female            Iowa   40  2017-01-01   \n",
       "4   130797        Ann   Gilmore  Female        Maryland   26  2017-01-01   \n",
       "5   133128    Cynthia     Noble  Female        Kentucky   43  2017-01-01   \n",
       "6   152052      Chris    Walton    Male         Montana   20  2017-01-01   \n",
       "7   168851     Joseph   Hickman    Male  South Carolina   30  2017-01-01   \n",
       "8    69965     Jeremy      Vang    Male           Texas   47  2017-01-01   \n",
       "9    82820      Shawn     Chung    Male        Virginia   26  2017-01-01   \n",
       "\n",
       "   n_dependants martial_status  income  \n",
       "0             3        married  165665  \n",
       "1             0         single   59285  \n",
       "2             2        married   99568  \n",
       "3             0         single   42049  \n",
       "4             1        married   40374  \n",
       "5             2        married   49643  \n",
       "6             0         single   61746  \n",
       "7             0         single   63712  \n",
       "8             1        married  162432  \n",
       "9             2        married   32072  "
      ]
     },
     "execution_count": 6,
     "metadata": {},
     "output_type": "execute_result"
    }
   ],
   "source": [
    "cleaned_df.head(10)"
   ]
  },
  {
   "cell_type": "code",
   "execution_count": 7,
   "id": "e273c049",
   "metadata": {},
   "outputs": [
    {
     "data": {
      "text/plain": [
       "user_id                    int64\n",
       "first_name                object\n",
       "last_name                 object\n",
       "gender                    object\n",
       "state                     object\n",
       "age                         int8\n",
       "date_joined       datetime64[ns]\n",
       "n_dependants                int8\n",
       "martial_status            object\n",
       "income                     int64\n",
       "dtype: object"
      ]
     },
     "execution_count": 7,
     "metadata": {},
     "output_type": "execute_result"
    }
   ],
   "source": [
    "cleaned_df.dtypes"
   ]
  },
  {
   "cell_type": "code",
   "execution_count": 8,
   "id": "b979c320",
   "metadata": {},
   "outputs": [
    {
     "name": "stdout",
     "output_type": "stream",
     "text": [
      "<class 'pandas.core.frame.DataFrame'>\n",
      "RangeIndex: 206209 entries, 0 to 206208\n",
      "Data columns (total 10 columns):\n",
      " #   Column        Non-Null Count   Dtype \n",
      "---  ------        --------------   ----- \n",
      " 0   user_id       206209 non-null  int64 \n",
      " 1   First Name    194950 non-null  object\n",
      " 2   Surnam        206209 non-null  object\n",
      " 3   Gender        206209 non-null  object\n",
      " 4   STATE         206209 non-null  object\n",
      " 5   Age           206209 non-null  int64 \n",
      " 6   date_joined   206209 non-null  object\n",
      " 7   n_dependants  206209 non-null  int64 \n",
      " 8   fam_status    206209 non-null  object\n",
      " 9   income        206209 non-null  int64 \n",
      "dtypes: int64(4), object(6)\n",
      "memory usage: 15.7+ MB\n"
     ]
    }
   ],
   "source": [
    "df.info()"
   ]
  },
  {
   "cell_type": "code",
   "execution_count": 9,
   "id": "3a651553",
   "metadata": {
    "scrolled": true
   },
   "outputs": [
    {
     "name": "stdout",
     "output_type": "stream",
     "text": [
      "<class 'pandas.core.frame.DataFrame'>\n",
      "RangeIndex: 206209 entries, 0 to 206208\n",
      "Data columns (total 10 columns):\n",
      " #   Column          Non-Null Count   Dtype         \n",
      "---  ------          --------------   -----         \n",
      " 0   user_id         206209 non-null  int64         \n",
      " 1   first_name      206209 non-null  object        \n",
      " 2   last_name       206209 non-null  object        \n",
      " 3   gender          206209 non-null  object        \n",
      " 4   state           206209 non-null  object        \n",
      " 5   age             206209 non-null  int8          \n",
      " 6   date_joined     206209 non-null  datetime64[ns]\n",
      " 7   n_dependants    206209 non-null  int8          \n",
      " 8   martial_status  206209 non-null  object        \n",
      " 9   income          206209 non-null  int64         \n",
      "dtypes: datetime64[ns](1), int64(2), int8(2), object(5)\n",
      "memory usage: 13.0+ MB\n"
     ]
    }
   ],
   "source": [
    "#by cleaning and storing df correctly we saved 2.7 MB of memory. Now think of this on a larger scale.\n",
    "cleaned_df.info()"
   ]
  },
  {
   "cell_type": "markdown",
   "id": "0f6e001b",
   "metadata": {},
   "source": [
    "# Getting Unique Columns Only based on '.'"
   ]
  },
  {
   "cell_type": "code",
   "execution_count": 10,
   "id": "04e6fa4c",
   "metadata": {},
   "outputs": [],
   "source": [
    "#unique colums only\n",
    "def get_uniq_cols(df):\n",
    "    counter = collections.defaultdict(list)\n",
    "    for col in sorted (df.columns):\n",
    "        period_count = col.count('.')\n",
    "        if period_count >= 2:\n",
    "            part_end = 2\n",
    "        else:\n",
    "            part_end = 1 \n",
    "        parts = col.split('.')[:part_end]\n",
    "        counter['.'.join(parts)].append(col)\n",
    "    uniq_cols = []\n",
    "    for cols in counter.values():\n",
    "        if len(cols) == 1:\n",
    "            uniq_cols.extend(cols)\n",
    "    return uniq_cols"
   ]
  },
  {
   "cell_type": "code",
   "execution_count": 11,
   "id": "1ea14c12",
   "metadata": {},
   "outputs": [
    {
     "name": "stdout",
     "output_type": "stream",
     "text": [
      "   Column1 Column2  Column3  Column4.Subcolumn1 Column4.Subcolumn2  Column5\n",
      "0        1       A     True                 0.1                  X    Hello\n",
      "1        2       B    False                 0.2                  Y    World\n",
      "2        3       C     True                 0.3                  Z     Data\n",
      "3        4       D    False                 0.4                  X    Frame\n",
      "4        5       E     True                 0.5                  Y  Example\n"
     ]
    }
   ],
   "source": [
    "#example of unique colums only\n",
    "import pandas as pd\n",
    "import collections\n",
    "\n",
    "# Example data frame\n",
    "data = {\n",
    "    'Column1': [1, 2, 3, 4, 5],\n",
    "    'Column2': ['A', 'B', 'C', 'D', 'E'],\n",
    "    'Column3': [True, False, True, False, True],\n",
    "    'Column4.Subcolumn1': [0.1, 0.2, 0.3, 0.4, 0.5],\n",
    "    'Column4.Subcolumn2': ['X', 'Y', 'Z', 'X', 'Y'],\n",
    "    'Column5': ['Hello', 'World', 'Data', 'Frame', 'Example']\n",
    "}\n",
    "\n",
    "df = pd.DataFrame(data)\n",
    "\n",
    "print(df)"
   ]
  },
  {
   "cell_type": "code",
   "execution_count": 12,
   "id": "5b17f4b3",
   "metadata": {},
   "outputs": [
    {
     "name": "stdout",
     "output_type": "stream",
     "text": [
      "['Column1', 'Column2', 'Column3', 'Column5']\n"
     ]
    }
   ],
   "source": [
    "#note how their is no column4; it has been dropped\n",
    "uniq_cols = get_uniq_cols(df)\n",
    "print(uniq_cols)"
   ]
  }
 ],
 "metadata": {
  "kernelspec": {
   "display_name": "Python 3 (ipykernel)",
   "language": "python",
   "name": "python3"
  },
  "language_info": {
   "codemirror_mode": {
    "name": "ipython",
    "version": 3
   },
   "file_extension": ".py",
   "mimetype": "text/x-python",
   "name": "python",
   "nbconvert_exporter": "python",
   "pygments_lexer": "ipython3",
   "version": "3.9.13"
  },
  "toc": {
   "base_numbering": 1,
   "nav_menu": {},
   "number_sections": true,
   "sideBar": true,
   "skip_h1_title": false,
   "title_cell": "Table of Contents",
   "title_sidebar": "Contents",
   "toc_cell": false,
   "toc_position": {},
   "toc_section_display": true,
   "toc_window_display": false
  }
 },
 "nbformat": 4,
 "nbformat_minor": 5
}
