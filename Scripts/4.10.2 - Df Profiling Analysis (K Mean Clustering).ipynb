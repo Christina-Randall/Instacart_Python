{
 "cells": [
  {
   "cell_type": "markdown",
   "id": "3625fb77",
   "metadata": {},
   "source": [
    "4.10.2 Profiling Analysis"
   ]
  },
  {
   "cell_type": "markdown",
   "id": "119f47f5",
   "metadata": {},
   "source": [
    "This notebook completes a k mean clustering analysis for the entire poc data frame. It also walks through the logic of how it was arrived to."
   ]
  },
  {
   "cell_type": "markdown",
   "id": "3c8a03f3",
   "metadata": {},
   "source": [
    "## Outline"
   ]
  },
  {
   "cell_type": "markdown",
   "id": "cf2557b0",
   "metadata": {},
   "source": [
    "1. Outline"
   ]
  },
  {
   "cell_type": "markdown",
   "id": "ff0fa337",
   "metadata": {},
   "source": [
    "2. Import"
   ]
  },
  {
   "cell_type": "markdown",
   "id": "16e8eb25",
   "metadata": {},
   "source": [
    "3. Profiling Exploration"
   ]
  },
  {
   "cell_type": "markdown",
   "id": "b4684f82",
   "metadata": {},
   "source": [
    "    3.1  Variables to Profile Options"
   ]
  },
  {
   "cell_type": "markdown",
   "id": "4f2d57a2",
   "metadata": {},
   "source": [
    "    3.2  Income histogram Exploration"
   ]
  },
  {
   "cell_type": "markdown",
   "id": "50463b37",
   "metadata": {},
   "source": [
    "4. Conducting K Mean Clustering"
   ]
  },
  {
   "cell_type": "markdown",
   "id": "10bff434",
   "metadata": {},
   "source": [
    "5. Exploring Clusters"
   ]
  },
  {
   "cell_type": "markdown",
   "id": "fc2e79ac",
   "metadata": {},
   "source": [
    "6. Export"
   ]
  },
  {
   "cell_type": "markdown",
   "id": "036b8b92",
   "metadata": {},
   "source": [
    "## Import"
   ]
  },
  {
   "cell_type": "code",
   "execution_count": 2,
   "id": "d9f12681",
   "metadata": {},
   "outputs": [],
   "source": [
    "import pandas as pd\n",
    "import numpy as np\n",
    "import os\n",
    "import matplotlib.pyplot as plt\n",
    "import seaborn as sns\n",
    "import scipy"
   ]
  },
  {
   "cell_type": "code",
   "execution_count": 3,
   "id": "40ecf3f3",
   "metadata": {},
   "outputs": [],
   "source": [
    "poc1 = pd.read_pickle ('/Users/christinarandall/Documents/Career Foundry Projects/Achievment 4/Data/Prepared Data/Poc DF with Region.pkl')"
   ]
  },
  {
   "cell_type": "code",
   "execution_count": 4,
   "id": "c2c64708",
   "metadata": {},
   "outputs": [
    {
     "data": {
      "text/html": [
       "<div>\n",
       "<style scoped>\n",
       "    .dataframe tbody tr th:only-of-type {\n",
       "        vertical-align: middle;\n",
       "    }\n",
       "\n",
       "    .dataframe tbody tr th {\n",
       "        vertical-align: top;\n",
       "    }\n",
       "\n",
       "    .dataframe thead th {\n",
       "        text-align: right;\n",
       "    }\n",
       "</style>\n",
       "<table border=\"1\" class=\"dataframe\">\n",
       "  <thead>\n",
       "    <tr style=\"text-align: right;\">\n",
       "      <th></th>\n",
       "      <th>order_id</th>\n",
       "      <th>user_id</th>\n",
       "      <th>order_number</th>\n",
       "      <th>order_dow</th>\n",
       "      <th>order_hour_of_day</th>\n",
       "      <th>days_since_prior_order</th>\n",
       "      <th>product_id</th>\n",
       "      <th>reordered</th>\n",
       "      <th>product_name</th>\n",
       "      <th>aisle_id</th>\n",
       "      <th>...</th>\n",
       "      <th>order_freq_flag</th>\n",
       "      <th>first_name</th>\n",
       "      <th>last_name</th>\n",
       "      <th>gender</th>\n",
       "      <th>state</th>\n",
       "      <th>age</th>\n",
       "      <th>n_dependants</th>\n",
       "      <th>martial_status</th>\n",
       "      <th>income</th>\n",
       "      <th>region</th>\n",
       "    </tr>\n",
       "  </thead>\n",
       "  <tbody>\n",
       "    <tr>\n",
       "      <th>0</th>\n",
       "      <td>2539329</td>\n",
       "      <td>1</td>\n",
       "      <td>1</td>\n",
       "      <td>2</td>\n",
       "      <td>8</td>\n",
       "      <td>NaN</td>\n",
       "      <td>196.0</td>\n",
       "      <td>0.0</td>\n",
       "      <td>Soda</td>\n",
       "      <td>77</td>\n",
       "      <td>...</td>\n",
       "      <td>Non-frequent customer</td>\n",
       "      <td>Linda</td>\n",
       "      <td>Nguyen</td>\n",
       "      <td>Female</td>\n",
       "      <td>Alabama</td>\n",
       "      <td>31</td>\n",
       "      <td>3</td>\n",
       "      <td>married</td>\n",
       "      <td>40423</td>\n",
       "      <td>3</td>\n",
       "    </tr>\n",
       "    <tr>\n",
       "      <th>1</th>\n",
       "      <td>2398795</td>\n",
       "      <td>1</td>\n",
       "      <td>2</td>\n",
       "      <td>3</td>\n",
       "      <td>7</td>\n",
       "      <td>15.0</td>\n",
       "      <td>196.0</td>\n",
       "      <td>1.0</td>\n",
       "      <td>Soda</td>\n",
       "      <td>77</td>\n",
       "      <td>...</td>\n",
       "      <td>Non-frequent customer</td>\n",
       "      <td>Linda</td>\n",
       "      <td>Nguyen</td>\n",
       "      <td>Female</td>\n",
       "      <td>Alabama</td>\n",
       "      <td>31</td>\n",
       "      <td>3</td>\n",
       "      <td>married</td>\n",
       "      <td>40423</td>\n",
       "      <td>3</td>\n",
       "    </tr>\n",
       "  </tbody>\n",
       "</table>\n",
       "<p>2 rows × 29 columns</p>\n",
       "</div>"
      ],
      "text/plain": [
       "   order_id  user_id  order_number  order_dow  order_hour_of_day  \\\n",
       "0   2539329        1             1          2                  8   \n",
       "1   2398795        1             2          3                  7   \n",
       "\n",
       "   days_since_prior_order  product_id  reordered product_name  aisle_id  ...  \\\n",
       "0                     NaN       196.0        0.0         Soda        77  ...   \n",
       "1                    15.0       196.0        1.0         Soda        77  ...   \n",
       "\n",
       "         order_freq_flag  first_name last_name  gender    state age  \\\n",
       "0  Non-frequent customer       Linda    Nguyen  Female  Alabama  31   \n",
       "1  Non-frequent customer       Linda    Nguyen  Female  Alabama  31   \n",
       "\n",
       "  n_dependants martial_status  income region  \n",
       "0            3        married   40423      3  \n",
       "1            3        married   40423      3  \n",
       "\n",
       "[2 rows x 29 columns]"
      ]
     },
     "execution_count": 4,
     "metadata": {},
     "output_type": "execute_result"
    }
   ],
   "source": [
    "poc1.head(2)"
   ]
  },
  {
   "cell_type": "markdown",
   "id": "cbdae5a9",
   "metadata": {},
   "source": [
    "Below is for K means clustering using machine learning"
   ]
  },
  {
   "cell_type": "code",
   "execution_count": 5,
   "id": "e5142cb0",
   "metadata": {},
   "outputs": [],
   "source": [
    "import matplotlib.pyplot as plt\n",
    "from sklearn.datasets import make_blobs\n",
    "from sklearn.cluster import KMeans\n",
    "from sklearn.metrics import silhouette_score\n",
    "from sklearn.preprocessing import StandardScaler"
   ]
  },
  {
   "cell_type": "code",
   "execution_count": 6,
   "id": "3fa40842",
   "metadata": {},
   "outputs": [],
   "source": [
    "#installed kneed seperate"
   ]
  },
  {
   "cell_type": "code",
   "execution_count": 7,
   "id": "e87f67cb",
   "metadata": {},
   "outputs": [
    {
     "name": "stdout",
     "output_type": "stream",
     "text": [
      "Requirement already satisfied: kneed in /Users/christinarandall/opt/anaconda3/lib/python3.9/site-packages (0.8.2)\n",
      "Requirement already satisfied: numpy>=1.14.2 in /Users/christinarandall/opt/anaconda3/lib/python3.9/site-packages (from kneed) (1.21.5)\n",
      "Requirement already satisfied: scipy>=1.0.0 in /Users/christinarandall/opt/anaconda3/lib/python3.9/site-packages (from kneed) (1.9.1)\n",
      "Note: you may need to restart the kernel to use updated packages.\n"
     ]
    }
   ],
   "source": [
    "pip install kneed"
   ]
  },
  {
   "cell_type": "code",
   "execution_count": 8,
   "id": "bcfc15e0",
   "metadata": {},
   "outputs": [],
   "source": [
    "from kneed import KneeLocator"
   ]
  },
  {
   "cell_type": "code",
   "execution_count": 9,
   "id": "ae8f840d",
   "metadata": {},
   "outputs": [],
   "source": [
    "#Seperate Library "
   ]
  },
  {
   "cell_type": "code",
   "execution_count": 10,
   "id": "94bdb04d",
   "metadata": {},
   "outputs": [],
   "source": [
    "import seaborn as sns\n",
    "sns.set()\n",
    "from sklearn.cluster import KMeans"
   ]
  },
  {
   "cell_type": "markdown",
   "id": "744bce42",
   "metadata": {},
   "source": [
    "## Profiling Exploration"
   ]
  },
  {
   "cell_type": "markdown",
   "id": "2a8e2600",
   "metadata": {},
   "source": [
    "### Variables to Profile Options"
   ]
  },
  {
   "cell_type": "code",
   "execution_count": 10,
   "id": "987d923a",
   "metadata": {},
   "outputs": [
    {
     "data": {
      "text/plain": [
       "Index(['order_id', 'user_id', 'order_number', 'order_dow', 'order_hour_of_day',\n",
       "       'days_since_prior_order', 'product_id', 'reordered', 'product_name',\n",
       "       'aisle_id', 'department_id', 'prices', 'price_range_loc', 'busiest_day',\n",
       "       'busiest_days_2', 'order_amount', 'loyalty_flag', 'spend_flag',\n",
       "       'order_freq', 'order_freq_flag', 'first_name', 'last_name', 'gender',\n",
       "       'state', 'age', 'n_dependants', 'martial_status', 'income', 'region'],\n",
       "      dtype='object')"
      ]
     },
     "execution_count": 10,
     "metadata": {},
     "output_type": "execute_result"
    }
   ],
   "source": [
    "poc1.columns"
   ]
  },
  {
   "cell_type": "code",
   "execution_count": 11,
   "id": "5d189b3b",
   "metadata": {},
   "outputs": [],
   "source": [
    "#Specfied from Company\n",
    "\n",
    "#age\n",
    "#income\n",
    "#certain goods in the “department_id” column\n",
    "#number of dependents \n",
    "#orders_day_of_the_week\n",
    "#order_hour_of_day"
   ]
  },
  {
   "cell_type": "code",
   "execution_count": 12,
   "id": "a0333fe9",
   "metadata": {},
   "outputs": [],
   "source": [
    "#Standout to Me\n",
    "\n",
    "#order_dow\n",
    "#order_amount\n",
    "#loyalty_flag\n",
    "#order_freq\n",
    "#martial_status\n"
   ]
  },
  {
   "cell_type": "markdown",
   "id": "eda92013",
   "metadata": {},
   "source": [
    "### Income Histogram Exploration"
   ]
  },
  {
   "cell_type": "code",
   "execution_count": 13,
   "id": "00c82075",
   "metadata": {},
   "outputs": [],
   "source": [
    "#starting with a histogram to determine number of clusters"
   ]
  },
  {
   "cell_type": "code",
   "execution_count": 14,
   "id": "3614cf8d",
   "metadata": {},
   "outputs": [
    {
     "data": {
      "image/png": "[encoded data removed]",
      "text/plain": [
       "<Figure size 640x480 with 1 Axes>"
      ]
     },
     "metadata": {},
     "output_type": "display_data"
    }
   ],
   "source": [
    "poc_histo_income = poc1['income'].plot.hist(bins = 15)"
   ]
  },
  {
   "cell_type": "code",
   "execution_count": 15,
   "id": "cab18a42",
   "metadata": {},
   "outputs": [],
   "source": [
    "#now checking for skewed data"
   ]
  },
  {
   "cell_type": "markdown",
   "id": "1cc37829",
   "metadata": {},
   "source": [
    "Since we have one customer that has a large income with multiple orders; I am going to grouby user_id"
   ]
  },
  {
   "cell_type": "code",
   "execution_count": null,
   "id": "9969133b",
   "metadata": {},
   "outputs": [],
   "source": [
    "grouped = poc1.groupby('user_id').mean('income')"
   ]
  },
  {
   "cell_type": "code",
   "execution_count": null,
   "id": "d8210608",
   "metadata": {},
   "outputs": [],
   "source": [
    "grouped.head(3)"
   ]
  },
  {
   "cell_type": "code",
   "execution_count": null,
   "id": "e788f6ab",
   "metadata": {},
   "outputs": [],
   "source": [
    "#re-doing the histogram with the new grouping"
   ]
  },
  {
   "cell_type": "code",
   "execution_count": null,
   "id": "b2f28c64",
   "metadata": {},
   "outputs": [],
   "source": [
    "income_grouped = grouped['income'].plot.hist(bins = 30)"
   ]
  },
  {
   "cell_type": "code",
   "execution_count": null,
   "id": "6cf88734",
   "metadata": {},
   "outputs": [],
   "source": [
    "grouped.nlargest(5, 'income')"
   ]
  },
  {
   "cell_type": "markdown",
   "id": "af3b3aad",
   "metadata": {},
   "source": [
    "After rechecking income, we still have lots of customers with income far outside the norm. Because of this, I have decided to use K mean clustering to better segment our data."
   ]
  },
  {
   "cell_type": "markdown",
   "id": "2206434f",
   "metadata": {},
   "source": [
    "## Conducting K Mean Clustering"
   ]
  },
  {
   "cell_type": "code",
   "execution_count": 11,
   "id": "e9ef7450",
   "metadata": {},
   "outputs": [],
   "source": [
    "#Conducting K Mean Clustering with age & income"
   ]
  },
  {
   "cell_type": "code",
   "execution_count": 12,
   "id": "4b66751a",
   "metadata": {},
   "outputs": [
    {
     "data": {
      "text/plain": [
       "27"
      ]
     },
     "execution_count": 12,
     "metadata": {},
     "output_type": "execute_result"
    }
   ],
   "source": [
    "poc1.columns.get_loc('income') "
   ]
  },
  {
   "cell_type": "code",
   "execution_count": 13,
   "id": "c65b93dc",
   "metadata": {},
   "outputs": [],
   "source": [
    "x = poc1.iloc[:,[2, 27]]"
   ]
  },
  {
   "cell_type": "code",
   "execution_count": 14,
   "id": "082bcd92",
   "metadata": {},
   "outputs": [],
   "source": [
    "means = KMeans(n_clusters=4)"
   ]
  },
  {
   "cell_type": "code",
   "execution_count": 15,
   "id": "b733f481",
   "metadata": {},
   "outputs": [
    {
     "data": {
      "text/plain": [
       "KMeans(n_clusters=4)"
      ]
     },
     "execution_count": 15,
     "metadata": {},
     "output_type": "execute_result"
    }
   ],
   "source": [
    "kmeans = KMeans(4)\n",
    "means.fit(x)\n"
   ]
  },
  {
   "cell_type": "code",
   "execution_count": 16,
   "id": "9f077679",
   "metadata": {},
   "outputs": [],
   "source": [
    "#part 2"
   ]
  },
  {
   "cell_type": "code",
   "execution_count": 17,
   "id": "59694704",
   "metadata": {},
   "outputs": [
    {
     "data": {
      "text/plain": [
       "array([1, 1, 1, ..., 1, 1, 1], dtype=int32)"
      ]
     },
     "execution_count": 17,
     "metadata": {},
     "output_type": "execute_result"
    }
   ],
   "source": [
    "identified_clusters = kmeans.fit_predict(x)\n",
    "identified_clusters"
   ]
  },
  {
   "cell_type": "code",
   "execution_count": 19,
   "id": "1d559e82",
   "metadata": {},
   "outputs": [],
   "source": [
    "data_with_clusters = poc1.copy()\n",
    "data_with_clusters['Clusters'] = identified_clusters "
   ]
  },
  {
   "cell_type": "code",
   "execution_count": 22,
   "id": "1d7a1463",
   "metadata": {},
   "outputs": [
    {
     "data": {
      "image/png": "[encoded data removed]",
      "text/plain": [
       "<Figure size 640x480 with 1 Axes>"
      ]
     },
     "metadata": {},
     "output_type": "display_data"
    }
   ],
   "source": [
    "#To check shape before running\n",
    "plt.scatter(poc1['income'],poc1['age'])\n",
    "plt.xlim(0,600000)\n",
    "plt.ylim(0,100)\n",
    "plt.show()"
   ]
  },
  {
   "cell_type": "code",
   "execution_count": 23,
   "id": "e9438bb3",
   "metadata": {},
   "outputs": [
    {
     "data": {
      "image/png": "[encoded data removed]",
      "text/plain": [
       "<Figure size 640x480 with 1 Axes>"
      ]
     },
     "metadata": {},
     "output_type": "display_data"
    }
   ],
   "source": [
    "#takes around 15min. to run\n",
    "cluster_chart = plt.scatter(data_with_clusters['income'],data_with_clusters['age'],c=data_with_clusters['Clusters'],cmap='rainbow')"
   ]
  },
  {
   "cell_type": "code",
   "execution_count": 24,
   "id": "2b9dd6d7",
   "metadata": {},
   "outputs": [],
   "source": [
    "#part 3 (Checking if correct # of clusters)"
   ]
  },
  {
   "cell_type": "code",
   "execution_count": 25,
   "id": "e0ab3bc9",
   "metadata": {},
   "outputs": [
    {
     "data": {
      "text/plain": [
       "array([1, 1, 1, ..., 1, 1, 1], dtype=int32)"
      ]
     },
     "execution_count": 25,
     "metadata": {},
     "output_type": "execute_result"
    }
   ],
   "source": [
    "identified_clusters"
   ]
  },
  {
   "cell_type": "code",
   "execution_count": 26,
   "id": "a3807e72",
   "metadata": {},
   "outputs": [
    {
     "data": {
      "text/plain": [
       "Text(0, 0.5, 'WCSS')"
      ]
     },
     "execution_count": 26,
     "metadata": {},
     "output_type": "execute_result"
    },
    {
     "data": {
      "image/png": "[encoded data removed]",
      "text/plain": [
       "<Figure size 640x480 with 1 Axes>"
      ]
     },
     "metadata": {},
     "output_type": "display_data"
    }
   ],
   "source": [
    "wcss=[]\n",
    "for i in range(1,7):\n",
    "    kmeans = KMeans(i)\n",
    "    kmeans.fit(x)\n",
    "    wcss_iter = kmeans.inertia_\n",
    "    wcss.append(wcss_iter)\n",
    "\n",
    "number_clusters = range(1,7)\n",
    "plt.plot(number_clusters,wcss)\n",
    "plt.title('The Elbow title')\n",
    "plt.xlabel('Number of clusters')\n",
    "plt.ylabel('WCSS')\n"
   ]
  },
  {
   "cell_type": "markdown",
   "id": "b3c3b929",
   "metadata": {},
   "source": [
    "## Exploring Clusters"
   ]
  },
  {
   "cell_type": "code",
   "execution_count": 46,
   "id": "4d2b2d80",
   "metadata": {},
   "outputs": [
    {
     "data": {
      "image/png": "[encoded data removed]",
      "text/plain": [
       "<Figure size 640x480 with 1 Axes>"
      ]
     },
     "metadata": {},
     "output_type": "display_data"
    }
   ],
   "source": [
    "for cluster in data_with_clusters['Clusters'].unique():\n",
    "    cluster_data = data_with_clusters[data_with_clusters['Clusters'] == cluster]\n",
    "    cluster_income_mean = cluster_data['income'].mean()\n",
    "    cluster_age_mean = cluster_data['age'].mean()\n",
    "   \n",
    "    pic1 = plt.bar(cluster, [cluster_income_mean, cluster_age_mean], label='Cluster {}'.format(cluster))\n",
    "    plt.text(cluster, cluster_income_mean, round(cluster_income_mean, 2), ha='center', va='bottom')\n",
    "    plt.text(cluster, cluster_age_mean, round(cluster_age_mean, 2), ha='center', va='bottom')\n",
    "plt.title(\"Mean Income and Age by Cluster; Bar Chart\")    \n",
    "plt.xlabel('Cluster')\n",
    "plt.ylabel('Mean Income')\n",
    "plt.legend()\n",
    "plt.savefig(os.path.join('/Users/christinarandall/Documents/Career Foundry Projects/Achievment 4/Data/Prepared Data/PNGs', 'Mean Income and Age by Cluster; Bar Chart.png'))\n",
    "plt.show()"
   ]
  },
  {
   "cell_type": "code",
   "execution_count": 28,
   "id": "53e2b517",
   "metadata": {},
   "outputs": [],
   "source": [
    "#asigning segment to user_id\n",
    "poc1['segment'] = data_with_clusters['Clusters']"
   ]
  },
  {
   "cell_type": "code",
   "execution_count": 29,
   "id": "0f2e176c",
   "metadata": {},
   "outputs": [
    {
     "data": {
      "text/html": [
       "<div>\n",
       "<style scoped>\n",
       "    .dataframe tbody tr th:only-of-type {\n",
       "        vertical-align: middle;\n",
       "    }\n",
       "\n",
       "    .dataframe tbody tr th {\n",
       "        vertical-align: top;\n",
       "    }\n",
       "\n",
       "    .dataframe thead th {\n",
       "        text-align: right;\n",
       "    }\n",
       "</style>\n",
       "<table border=\"1\" class=\"dataframe\">\n",
       "  <thead>\n",
       "    <tr style=\"text-align: right;\">\n",
       "      <th></th>\n",
       "      <th>order_id</th>\n",
       "      <th>user_id</th>\n",
       "      <th>order_number</th>\n",
       "      <th>order_dow</th>\n",
       "      <th>order_hour_of_day</th>\n",
       "      <th>days_since_prior_order</th>\n",
       "      <th>product_id</th>\n",
       "      <th>reordered</th>\n",
       "      <th>product_name</th>\n",
       "      <th>aisle_id</th>\n",
       "      <th>...</th>\n",
       "      <th>first_name</th>\n",
       "      <th>last_name</th>\n",
       "      <th>gender</th>\n",
       "      <th>state</th>\n",
       "      <th>age</th>\n",
       "      <th>n_dependants</th>\n",
       "      <th>martial_status</th>\n",
       "      <th>income</th>\n",
       "      <th>region</th>\n",
       "      <th>Segment</th>\n",
       "    </tr>\n",
       "  </thead>\n",
       "  <tbody>\n",
       "    <tr>\n",
       "      <th>0</th>\n",
       "      <td>2539329</td>\n",
       "      <td>1</td>\n",
       "      <td>1</td>\n",
       "      <td>2</td>\n",
       "      <td>8</td>\n",
       "      <td>NaN</td>\n",
       "      <td>196.0</td>\n",
       "      <td>0.0</td>\n",
       "      <td>Soda</td>\n",
       "      <td>77</td>\n",
       "      <td>...</td>\n",
       "      <td>Linda</td>\n",
       "      <td>Nguyen</td>\n",
       "      <td>Female</td>\n",
       "      <td>Alabama</td>\n",
       "      <td>31</td>\n",
       "      <td>3</td>\n",
       "      <td>married</td>\n",
       "      <td>40423</td>\n",
       "      <td>3</td>\n",
       "      <td>1</td>\n",
       "    </tr>\n",
       "    <tr>\n",
       "      <th>1</th>\n",
       "      <td>2398795</td>\n",
       "      <td>1</td>\n",
       "      <td>2</td>\n",
       "      <td>3</td>\n",
       "      <td>7</td>\n",
       "      <td>15.0</td>\n",
       "      <td>196.0</td>\n",
       "      <td>1.0</td>\n",
       "      <td>Soda</td>\n",
       "      <td>77</td>\n",
       "      <td>...</td>\n",
       "      <td>Linda</td>\n",
       "      <td>Nguyen</td>\n",
       "      <td>Female</td>\n",
       "      <td>Alabama</td>\n",
       "      <td>31</td>\n",
       "      <td>3</td>\n",
       "      <td>married</td>\n",
       "      <td>40423</td>\n",
       "      <td>3</td>\n",
       "      <td>1</td>\n",
       "    </tr>\n",
       "  </tbody>\n",
       "</table>\n",
       "<p>2 rows × 30 columns</p>\n",
       "</div>"
      ],
      "text/plain": [
       "   order_id  user_id  order_number  order_dow  order_hour_of_day  \\\n",
       "0   2539329        1             1          2                  8   \n",
       "1   2398795        1             2          3                  7   \n",
       "\n",
       "   days_since_prior_order  product_id  reordered product_name  aisle_id  ...  \\\n",
       "0                     NaN       196.0        0.0         Soda        77  ...   \n",
       "1                    15.0       196.0        1.0         Soda        77  ...   \n",
       "\n",
       "   first_name  last_name  gender    state age n_dependants martial_status  \\\n",
       "0       Linda     Nguyen  Female  Alabama  31            3        married   \n",
       "1       Linda     Nguyen  Female  Alabama  31            3        married   \n",
       "\n",
       "  income  region Segment  \n",
       "0  40423       3       1  \n",
       "1  40423       3       1  \n",
       "\n",
       "[2 rows x 30 columns]"
      ]
     },
     "execution_count": 29,
     "metadata": {},
     "output_type": "execute_result"
    }
   ],
   "source": [
    "poc1.head(2)"
   ]
  },
  {
   "cell_type": "code",
   "execution_count": 31,
   "id": "40bf79fa",
   "metadata": {},
   "outputs": [
    {
     "data": {
      "text/plain": [
       "3"
      ]
     },
     "execution_count": 31,
     "metadata": {},
     "output_type": "execute_result"
    }
   ],
   "source": [
    "poc1['Segment'].max()"
   ]
  },
  {
   "cell_type": "markdown",
   "id": "282f5209",
   "metadata": {},
   "source": [
    "## Export"
   ]
  },
  {
   "cell_type": "code",
   "execution_count": 32,
   "id": "3ea1f1c2",
   "metadata": {},
   "outputs": [],
   "source": [
    "#POC Df with Segments; pkl\n",
    "poc1.to_pickle('/Users/christinarandall/Documents/Career Foundry Projects/Achievment 4/Data/Prepared Data/POC Df with Segments; pkl.pkl', )"
   ]
  },
  {
   "cell_type": "code",
   "execution_count": null,
   "id": "b88c3df9",
   "metadata": {},
   "outputs": [],
   "source": [
    "#Age and Income Correlation Segment Breakdown; Scatter Chart\n",
    "cluster_chart.figure.savefig(os.path.join('/Users/christinarandall/Documents/Career Foundry Projects/Achievment 4/Data/Prepared Data/PNGs', 'Age and Income Correlation Segment Breakdown; Scatter Chart.png'))"
   ]
  },
  {
   "cell_type": "code",
   "execution_count": 47,
   "id": "4c231827",
   "metadata": {},
   "outputs": [],
   "source": [
    "#Mean Income and Age by Cluster; Bar Chart\n",
    "#see chart code for save"
   ]
  },
  {
   "cell_type": "code",
   "execution_count": null,
   "id": "63444dbf",
   "metadata": {},
   "outputs": [],
   "source": []
  }
 ],
 "metadata": {
  "kernelspec": {
   "display_name": "Python 3 (ipykernel)",
   "language": "python",
   "name": "python3"
  },
  "language_info": {
   "codemirror_mode": {
    "name": "ipython",
    "version": 3
   },
   "file_extension": ".py",
   "mimetype": "text/x-python",
   "name": "python",
   "nbconvert_exporter": "python",
   "pygments_lexer": "ipython3",
   "version": "3.9.13"
  },
  "toc": {
   "base_numbering": 1,
   "nav_menu": {},
   "number_sections": true,
   "sideBar": true,
   "skip_h1_title": false,
   "title_cell": "Table of Contents",
   "title_sidebar": "Contents",
   "toc_cell": false,
   "toc_position": {},
   "toc_section_display": true,
   "toc_window_display": false
  }
 },
 "nbformat": 4,
 "nbformat_minor": 5
}
