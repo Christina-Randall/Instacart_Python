{
 "cells": [
  {
   "cell_type": "markdown",
   "id": "6cecb470",
   "metadata": {},
   "source": [
    "4.10.6 Martial Staus Exploratio Analysis"
   ]
  },
  {
   "cell_type": "markdown",
   "id": "2e86b09c",
   "metadata": {},
   "source": [
    "# Outline"
   ]
  },
  {
   "cell_type": "markdown",
   "id": "072700fc",
   "metadata": {},
   "source": [
    "1. Outline"
   ]
  },
  {
   "cell_type": "markdown",
   "id": "84be0105",
   "metadata": {},
   "source": [
    "2. Import"
   ]
  },
  {
   "cell_type": "markdown",
   "id": "a894a2a1",
   "metadata": {},
   "source": [
    "3. Analysis"
   ]
  },
  {
   "cell_type": "markdown",
   "id": "b1ef5153",
   "metadata": {},
   "source": [
    "    3.1  DF's Overall Analysis"
   ]
  },
  {
   "cell_type": "markdown",
   "id": "73bcda9e",
   "metadata": {},
   "source": [
    "    3.2  Martial Status & Spend Flag"
   ]
  },
  {
   "cell_type": "markdown",
   "id": "402eb38f",
   "metadata": {},
   "source": [
    "    3.3  Martial Status & Mean Income"
   ]
  },
  {
   "cell_type": "markdown",
   "id": "da7eb959",
   "metadata": {},
   "source": [
    "    3.4  Martial Status Count by Region"
   ]
  },
  {
   "cell_type": "markdown",
   "id": "67686fdb",
   "metadata": {},
   "source": [
    "    3.5  Price Range Tag Bar Chart"
   ]
  },
  {
   "cell_type": "markdown",
   "id": "da7a19d7",
   "metadata": {},
   "source": [
    "4. Export"
   ]
  },
  {
   "cell_type": "markdown",
   "id": "4d8dbe5f",
   "metadata": {},
   "source": [
    "    4.1  PNGs"
   ]
  },
  {
   "cell_type": "markdown",
   "id": "f1054782",
   "metadata": {},
   "source": [
    "# Import"
   ]
  },
  {
   "cell_type": "code",
   "execution_count": 1,
   "id": "6d92e947",
   "metadata": {},
   "outputs": [],
   "source": [
    "import pandas as pd\n",
    "import numpy as np\n",
    "import os\n",
    "import matplotlib.pyplot as plt\n",
    "import seaborn as sns\n",
    "import scipy"
   ]
  },
  {
   "cell_type": "code",
   "execution_count": 2,
   "id": "21052e01",
   "metadata": {},
   "outputs": [],
   "source": [
    "#POC DF with Region Asignment\n",
    "df1 = pd.read_pickle ('/Users/christinarandall/Documents/Career Foundry Projects/Achievment 4/Data/Prepared Data/Poc DF with Region.pkl')"
   ]
  },
  {
   "cell_type": "code",
   "execution_count": 3,
   "id": "fc98f053",
   "metadata": {},
   "outputs": [],
   "source": [
    "#POC DF Grouped by UserID\n",
    "df2 = pd.read_pickle ('/Users/christinarandall/Documents/Career Foundry Projects/Achievment 4/Data/Prepared Data/Poc DF Grouped by UserId.pkl')"
   ]
  },
  {
   "cell_type": "markdown",
   "id": "d6c2a952",
   "metadata": {},
   "source": [
    "# Analysis"
   ]
  },
  {
   "cell_type": "markdown",
   "id": "629e6612",
   "metadata": {},
   "source": [
    "## DF's Overall Analysis"
   ]
  },
  {
   "cell_type": "code",
   "execution_count": 4,
   "id": "1e3bb8ef",
   "metadata": {},
   "outputs": [
    {
     "data": {
      "text/plain": [
       "(30629741, 29)"
      ]
     },
     "execution_count": 4,
     "metadata": {},
     "output_type": "execute_result"
    }
   ],
   "source": [
    "df1.shape"
   ]
  },
  {
   "cell_type": "code",
   "execution_count": 5,
   "id": "b8e8bb8d",
   "metadata": {},
   "outputs": [
    {
     "data": {
      "text/plain": [
       "(194950, 14)"
      ]
     },
     "execution_count": 5,
     "metadata": {},
     "output_type": "execute_result"
    }
   ],
   "source": [
    "df2.shape"
   ]
  },
  {
   "cell_type": "code",
   "execution_count": 6,
   "id": "b8f0ce8d",
   "metadata": {},
   "outputs": [
    {
     "data": {
      "text/html": [
       "<div>\n",
       "<style scoped>\n",
       "    .dataframe tbody tr th:only-of-type {\n",
       "        vertical-align: middle;\n",
       "    }\n",
       "\n",
       "    .dataframe tbody tr th {\n",
       "        vertical-align: top;\n",
       "    }\n",
       "\n",
       "    .dataframe thead th {\n",
       "        text-align: right;\n",
       "    }\n",
       "</style>\n",
       "<table border=\"1\" class=\"dataframe\">\n",
       "  <thead>\n",
       "    <tr style=\"text-align: right;\">\n",
       "      <th></th>\n",
       "      <th>order_id</th>\n",
       "      <th>user_id</th>\n",
       "      <th>order_number</th>\n",
       "      <th>order_dow</th>\n",
       "      <th>order_hour_of_day</th>\n",
       "      <th>days_since_prior_order</th>\n",
       "      <th>product_id</th>\n",
       "      <th>reordered</th>\n",
       "      <th>aisle_id</th>\n",
       "      <th>department_id</th>\n",
       "      <th>prices</th>\n",
       "      <th>order_freq</th>\n",
       "      <th>age</th>\n",
       "      <th>n_dependants</th>\n",
       "      <th>income</th>\n",
       "      <th>region</th>\n",
       "    </tr>\n",
       "  </thead>\n",
       "  <tbody>\n",
       "    <tr>\n",
       "      <th>count</th>\n",
       "      <td>3.062974e+07</td>\n",
       "      <td>3.062974e+07</td>\n",
       "      <td>3.062974e+07</td>\n",
       "      <td>3.062974e+07</td>\n",
       "      <td>3.062974e+07</td>\n",
       "      <td>2.866704e+07</td>\n",
       "      <td>3.062974e+07</td>\n",
       "      <td>3.062974e+07</td>\n",
       "      <td>3.062974e+07</td>\n",
       "      <td>3.062974e+07</td>\n",
       "      <td>3.062974e+07</td>\n",
       "      <td>3.062974e+07</td>\n",
       "      <td>3.062974e+07</td>\n",
       "      <td>3.062974e+07</td>\n",
       "      <td>3.062974e+07</td>\n",
       "      <td>3.062974e+07</td>\n",
       "    </tr>\n",
       "    <tr>\n",
       "      <th>mean</th>\n",
       "      <td>1.710742e+06</td>\n",
       "      <td>1.029802e+05</td>\n",
       "      <td>1.712386e+01</td>\n",
       "      <td>2.738079e+00</td>\n",
       "      <td>1.342524e+01</td>\n",
       "      <td>1.111053e+01</td>\n",
       "      <td>2.560183e+04</td>\n",
       "      <td>5.895082e-01</td>\n",
       "      <td>7.119861e+01</td>\n",
       "      <td>9.918011e+00</td>\n",
       "      <td>1.191679e+01</td>\n",
       "      <td>1.040518e+01</td>\n",
       "      <td>4.947348e+01</td>\n",
       "      <td>1.501712e+00</td>\n",
       "      <td>9.945980e+04</td>\n",
       "      <td>2.667344e+00</td>\n",
       "    </tr>\n",
       "    <tr>\n",
       "      <th>std</th>\n",
       "      <td>9.872939e+05</td>\n",
       "      <td>5.941737e+04</td>\n",
       "      <td>1.751541e+01</td>\n",
       "      <td>2.089972e+00</td>\n",
       "      <td>4.244532e+00</td>\n",
       "      <td>8.780116e+00</td>\n",
       "      <td>1.408396e+04</td>\n",
       "      <td>4.919231e-01</td>\n",
       "      <td>3.821150e+01</td>\n",
       "      <td>6.281766e+00</td>\n",
       "      <td>4.913739e+02</td>\n",
       "      <td>7.132235e+00</td>\n",
       "      <td>1.847859e+01</td>\n",
       "      <td>1.118467e+00</td>\n",
       "      <td>4.306626e+04</td>\n",
       "      <td>1.042794e+00</td>\n",
       "    </tr>\n",
       "    <tr>\n",
       "      <th>min</th>\n",
       "      <td>2.000000e+00</td>\n",
       "      <td>1.000000e+00</td>\n",
       "      <td>1.000000e+00</td>\n",
       "      <td>0.000000e+00</td>\n",
       "      <td>0.000000e+00</td>\n",
       "      <td>0.000000e+00</td>\n",
       "      <td>1.000000e+00</td>\n",
       "      <td>0.000000e+00</td>\n",
       "      <td>1.000000e+00</td>\n",
       "      <td>1.000000e+00</td>\n",
       "      <td>1.000000e+00</td>\n",
       "      <td>0.000000e+00</td>\n",
       "      <td>1.800000e+01</td>\n",
       "      <td>0.000000e+00</td>\n",
       "      <td>2.590300e+04</td>\n",
       "      <td>1.000000e+00</td>\n",
       "    </tr>\n",
       "    <tr>\n",
       "      <th>25%</th>\n",
       "      <td>8.559570e+05</td>\n",
       "      <td>5.156600e+04</td>\n",
       "      <td>5.000000e+00</td>\n",
       "      <td>1.000000e+00</td>\n",
       "      <td>1.000000e+01</td>\n",
       "      <td>5.000000e+00</td>\n",
       "      <td>1.354800e+04</td>\n",
       "      <td>0.000000e+00</td>\n",
       "      <td>3.100000e+01</td>\n",
       "      <td>4.000000e+00</td>\n",
       "      <td>4.200000e+00</td>\n",
       "      <td>6.000000e+00</td>\n",
       "      <td>3.300000e+01</td>\n",
       "      <td>1.000000e+00</td>\n",
       "      <td>6.706600e+04</td>\n",
       "      <td>2.000000e+00</td>\n",
       "    </tr>\n",
       "    <tr>\n",
       "      <th>50%</th>\n",
       "      <td>1.711165e+06</td>\n",
       "      <td>1.026010e+05</td>\n",
       "      <td>1.100000e+01</td>\n",
       "      <td>3.000000e+00</td>\n",
       "      <td>1.300000e+01</td>\n",
       "      <td>8.000000e+00</td>\n",
       "      <td>2.531400e+04</td>\n",
       "      <td>1.000000e+00</td>\n",
       "      <td>8.300000e+01</td>\n",
       "      <td>9.000000e+00</td>\n",
       "      <td>7.400000e+00</td>\n",
       "      <td>8.000000e+00</td>\n",
       "      <td>4.900000e+01</td>\n",
       "      <td>2.000000e+00</td>\n",
       "      <td>9.661200e+04</td>\n",
       "      <td>3.000000e+00</td>\n",
       "    </tr>\n",
       "    <tr>\n",
       "      <th>75%</th>\n",
       "      <td>2.565283e+06</td>\n",
       "      <td>1.543850e+05</td>\n",
       "      <td>2.400000e+01</td>\n",
       "      <td>5.000000e+00</td>\n",
       "      <td>1.600000e+01</td>\n",
       "      <td>1.500000e+01</td>\n",
       "      <td>3.794700e+04</td>\n",
       "      <td>1.000000e+00</td>\n",
       "      <td>1.070000e+02</td>\n",
       "      <td>1.600000e+01</td>\n",
       "      <td>1.130000e+01</td>\n",
       "      <td>1.300000e+01</td>\n",
       "      <td>6.500000e+01</td>\n",
       "      <td>3.000000e+00</td>\n",
       "      <td>1.279340e+05</td>\n",
       "      <td>4.000000e+00</td>\n",
       "    </tr>\n",
       "    <tr>\n",
       "      <th>max</th>\n",
       "      <td>3.421082e+06</td>\n",
       "      <td>2.062090e+05</td>\n",
       "      <td>9.900000e+01</td>\n",
       "      <td>6.000000e+00</td>\n",
       "      <td>2.300000e+01</td>\n",
       "      <td>3.000000e+01</td>\n",
       "      <td>4.968800e+04</td>\n",
       "      <td>1.000000e+00</td>\n",
       "      <td>1.340000e+02</td>\n",
       "      <td>2.100000e+01</td>\n",
       "      <td>9.999900e+04</td>\n",
       "      <td>3.000000e+01</td>\n",
       "      <td>8.100000e+01</td>\n",
       "      <td>3.000000e+00</td>\n",
       "      <td>5.939010e+05</td>\n",
       "      <td>4.000000e+00</td>\n",
       "    </tr>\n",
       "  </tbody>\n",
       "</table>\n",
       "</div>"
      ],
      "text/plain": [
       "           order_id       user_id  order_number     order_dow  \\\n",
       "count  3.062974e+07  3.062974e+07  3.062974e+07  3.062974e+07   \n",
       "mean   1.710742e+06  1.029802e+05  1.712386e+01  2.738079e+00   \n",
       "std    9.872939e+05  5.941737e+04  1.751541e+01  2.089972e+00   \n",
       "min    2.000000e+00  1.000000e+00  1.000000e+00  0.000000e+00   \n",
       "25%    8.559570e+05  5.156600e+04  5.000000e+00  1.000000e+00   \n",
       "50%    1.711165e+06  1.026010e+05  1.100000e+01  3.000000e+00   \n",
       "75%    2.565283e+06  1.543850e+05  2.400000e+01  5.000000e+00   \n",
       "max    3.421082e+06  2.062090e+05  9.900000e+01  6.000000e+00   \n",
       "\n",
       "       order_hour_of_day  days_since_prior_order    product_id     reordered  \\\n",
       "count       3.062974e+07            2.866704e+07  3.062974e+07  3.062974e+07   \n",
       "mean        1.342524e+01            1.111053e+01  2.560183e+04  5.895082e-01   \n",
       "std         4.244532e+00            8.780116e+00  1.408396e+04  4.919231e-01   \n",
       "min         0.000000e+00            0.000000e+00  1.000000e+00  0.000000e+00   \n",
       "25%         1.000000e+01            5.000000e+00  1.354800e+04  0.000000e+00   \n",
       "50%         1.300000e+01            8.000000e+00  2.531400e+04  1.000000e+00   \n",
       "75%         1.600000e+01            1.500000e+01  3.794700e+04  1.000000e+00   \n",
       "max         2.300000e+01            3.000000e+01  4.968800e+04  1.000000e+00   \n",
       "\n",
       "           aisle_id  department_id        prices    order_freq           age  \\\n",
       "count  3.062974e+07   3.062974e+07  3.062974e+07  3.062974e+07  3.062974e+07   \n",
       "mean   7.119861e+01   9.918011e+00  1.191679e+01  1.040518e+01  4.947348e+01   \n",
       "std    3.821150e+01   6.281766e+00  4.913739e+02  7.132235e+00  1.847859e+01   \n",
       "min    1.000000e+00   1.000000e+00  1.000000e+00  0.000000e+00  1.800000e+01   \n",
       "25%    3.100000e+01   4.000000e+00  4.200000e+00  6.000000e+00  3.300000e+01   \n",
       "50%    8.300000e+01   9.000000e+00  7.400000e+00  8.000000e+00  4.900000e+01   \n",
       "75%    1.070000e+02   1.600000e+01  1.130000e+01  1.300000e+01  6.500000e+01   \n",
       "max    1.340000e+02   2.100000e+01  9.999900e+04  3.000000e+01  8.100000e+01   \n",
       "\n",
       "       n_dependants        income        region  \n",
       "count  3.062974e+07  3.062974e+07  3.062974e+07  \n",
       "mean   1.501712e+00  9.945980e+04  2.667344e+00  \n",
       "std    1.118467e+00  4.306626e+04  1.042794e+00  \n",
       "min    0.000000e+00  2.590300e+04  1.000000e+00  \n",
       "25%    1.000000e+00  6.706600e+04  2.000000e+00  \n",
       "50%    2.000000e+00  9.661200e+04  3.000000e+00  \n",
       "75%    3.000000e+00  1.279340e+05  4.000000e+00  \n",
       "max    3.000000e+00  5.939010e+05  4.000000e+00  "
      ]
     },
     "execution_count": 6,
     "metadata": {},
     "output_type": "execute_result"
    }
   ],
   "source": [
    "df1.describe()"
   ]
  },
  {
   "cell_type": "code",
   "execution_count": 7,
   "id": "b16359f6",
   "metadata": {},
   "outputs": [
    {
     "data": {
      "text/html": [
       "<div>\n",
       "<style scoped>\n",
       "    .dataframe tbody tr th:only-of-type {\n",
       "        vertical-align: middle;\n",
       "    }\n",
       "\n",
       "    .dataframe tbody tr th {\n",
       "        vertical-align: top;\n",
       "    }\n",
       "\n",
       "    .dataframe thead th {\n",
       "        text-align: right;\n",
       "    }\n",
       "</style>\n",
       "<table border=\"1\" class=\"dataframe\">\n",
       "  <thead>\n",
       "    <tr style=\"text-align: right;\">\n",
       "      <th></th>\n",
       "      <th>order_id</th>\n",
       "      <th>order_number</th>\n",
       "      <th>order_dow</th>\n",
       "      <th>order_hour_of_day</th>\n",
       "      <th>days_since_prior_order</th>\n",
       "      <th>product_id</th>\n",
       "      <th>reordered</th>\n",
       "      <th>aisle_id</th>\n",
       "      <th>department_id</th>\n",
       "      <th>prices</th>\n",
       "      <th>order_freq</th>\n",
       "      <th>age</th>\n",
       "      <th>n_dependants</th>\n",
       "      <th>income</th>\n",
       "    </tr>\n",
       "  </thead>\n",
       "  <tbody>\n",
       "    <tr>\n",
       "      <th>count</th>\n",
       "      <td>1.949500e+05</td>\n",
       "      <td>194950.000000</td>\n",
       "      <td>194950.000000</td>\n",
       "      <td>194950.000000</td>\n",
       "      <td>194949.000000</td>\n",
       "      <td>194950.000000</td>\n",
       "      <td>194950.000000</td>\n",
       "      <td>194950.000000</td>\n",
       "      <td>194950.000000</td>\n",
       "      <td>194950.000000</td>\n",
       "      <td>194949.00000</td>\n",
       "      <td>194950.000000</td>\n",
       "      <td>194950.000000</td>\n",
       "      <td>194950.000000</td>\n",
       "    </tr>\n",
       "    <tr>\n",
       "      <th>mean</th>\n",
       "      <td>1.712107e+06</td>\n",
       "      <td>8.349095</td>\n",
       "      <td>2.749352</td>\n",
       "      <td>13.546284</td>\n",
       "      <td>15.470671</td>\n",
       "      <td>25428.300509</td>\n",
       "      <td>0.432201</td>\n",
       "      <td>70.794421</td>\n",
       "      <td>9.876300</td>\n",
       "      <td>12.496088</td>\n",
       "      <td>15.08947</td>\n",
       "      <td>49.511167</td>\n",
       "      <td>1.499600</td>\n",
       "      <td>94664.811495</td>\n",
       "    </tr>\n",
       "    <tr>\n",
       "      <th>std</th>\n",
       "      <td>3.960306e+05</td>\n",
       "      <td>8.414186</td>\n",
       "      <td>1.014091</td>\n",
       "      <td>2.218273</td>\n",
       "      <td>7.205094</td>\n",
       "      <td>3309.582152</td>\n",
       "      <td>0.212046</td>\n",
       "      <td>10.255275</td>\n",
       "      <td>2.053094</td>\n",
       "      <td>126.359710</td>\n",
       "      <td>9.07328</td>\n",
       "      <td>18.476519</td>\n",
       "      <td>1.117959</td>\n",
       "      <td>42477.262653</td>\n",
       "    </tr>\n",
       "    <tr>\n",
       "      <th>min</th>\n",
       "      <td>6.577603e+04</td>\n",
       "      <td>1.000000</td>\n",
       "      <td>0.000000</td>\n",
       "      <td>0.000000</td>\n",
       "      <td>0.000000</td>\n",
       "      <td>130.000000</td>\n",
       "      <td>0.000000</td>\n",
       "      <td>3.000000</td>\n",
       "      <td>1.000000</td>\n",
       "      <td>1.000000</td>\n",
       "      <td>0.00000</td>\n",
       "      <td>18.000000</td>\n",
       "      <td>0.000000</td>\n",
       "      <td>25903.000000</td>\n",
       "    </tr>\n",
       "    <tr>\n",
       "      <th>25%</th>\n",
       "      <td>1.485627e+06</td>\n",
       "      <td>3.000000</td>\n",
       "      <td>2.111628</td>\n",
       "      <td>12.100000</td>\n",
       "      <td>9.555172</td>\n",
       "      <td>23754.006891</td>\n",
       "      <td>0.268041</td>\n",
       "      <td>65.602585</td>\n",
       "      <td>8.608392</td>\n",
       "      <td>7.229032</td>\n",
       "      <td>7.00000</td>\n",
       "      <td>33.000000</td>\n",
       "      <td>0.000000</td>\n",
       "      <td>59924.000000</td>\n",
       "    </tr>\n",
       "    <tr>\n",
       "      <th>50%</th>\n",
       "      <td>1.711044e+06</td>\n",
       "      <td>5.192308</td>\n",
       "      <td>2.753247</td>\n",
       "      <td>13.522910</td>\n",
       "      <td>14.692308</td>\n",
       "      <td>25563.184659</td>\n",
       "      <td>0.428571</td>\n",
       "      <td>71.187613</td>\n",
       "      <td>9.799628</td>\n",
       "      <td>7.801286</td>\n",
       "      <td>13.00000</td>\n",
       "      <td>49.000000</td>\n",
       "      <td>1.000000</td>\n",
       "      <td>93572.500000</td>\n",
       "    </tr>\n",
       "    <tr>\n",
       "      <th>75%</th>\n",
       "      <td>1.936488e+06</td>\n",
       "      <td>10.226816</td>\n",
       "      <td>3.370370</td>\n",
       "      <td>14.970916</td>\n",
       "      <td>20.726115</td>\n",
       "      <td>27279.193343</td>\n",
       "      <td>0.595588</td>\n",
       "      <td>76.486183</td>\n",
       "      <td>11.044261</td>\n",
       "      <td>8.351613</td>\n",
       "      <td>22.00000</td>\n",
       "      <td>66.000000</td>\n",
       "      <td>2.000000</td>\n",
       "      <td>124261.000000</td>\n",
       "    </tr>\n",
       "    <tr>\n",
       "      <th>max</th>\n",
       "      <td>3.346483e+06</td>\n",
       "      <td>64.576652</td>\n",
       "      <td>6.000000</td>\n",
       "      <td>22.852941</td>\n",
       "      <td>30.000000</td>\n",
       "      <td>49520.000000</td>\n",
       "      <td>0.989529</td>\n",
       "      <td>134.000000</td>\n",
       "      <td>20.000000</td>\n",
       "      <td>25005.425000</td>\n",
       "      <td>30.00000</td>\n",
       "      <td>81.000000</td>\n",
       "      <td>3.000000</td>\n",
       "      <td>593901.000000</td>\n",
       "    </tr>\n",
       "  </tbody>\n",
       "</table>\n",
       "</div>"
      ],
      "text/plain": [
       "           order_id   order_number      order_dow  order_hour_of_day  \\\n",
       "count  1.949500e+05  194950.000000  194950.000000      194950.000000   \n",
       "mean   1.712107e+06       8.349095       2.749352          13.546284   \n",
       "std    3.960306e+05       8.414186       1.014091           2.218273   \n",
       "min    6.577603e+04       1.000000       0.000000           0.000000   \n",
       "25%    1.485627e+06       3.000000       2.111628          12.100000   \n",
       "50%    1.711044e+06       5.192308       2.753247          13.522910   \n",
       "75%    1.936488e+06      10.226816       3.370370          14.970916   \n",
       "max    3.346483e+06      64.576652       6.000000          22.852941   \n",
       "\n",
       "       days_since_prior_order     product_id      reordered       aisle_id  \\\n",
       "count           194949.000000  194950.000000  194950.000000  194950.000000   \n",
       "mean                15.470671   25428.300509       0.432201      70.794421   \n",
       "std                  7.205094    3309.582152       0.212046      10.255275   \n",
       "min                  0.000000     130.000000       0.000000       3.000000   \n",
       "25%                  9.555172   23754.006891       0.268041      65.602585   \n",
       "50%                 14.692308   25563.184659       0.428571      71.187613   \n",
       "75%                 20.726115   27279.193343       0.595588      76.486183   \n",
       "max                 30.000000   49520.000000       0.989529     134.000000   \n",
       "\n",
       "       department_id         prices    order_freq            age  \\\n",
       "count  194950.000000  194950.000000  194949.00000  194950.000000   \n",
       "mean        9.876300      12.496088      15.08947      49.511167   \n",
       "std         2.053094     126.359710       9.07328      18.476519   \n",
       "min         1.000000       1.000000       0.00000      18.000000   \n",
       "25%         8.608392       7.229032       7.00000      33.000000   \n",
       "50%         9.799628       7.801286      13.00000      49.000000   \n",
       "75%        11.044261       8.351613      22.00000      66.000000   \n",
       "max        20.000000   25005.425000      30.00000      81.000000   \n",
       "\n",
       "        n_dependants         income  \n",
       "count  194950.000000  194950.000000  \n",
       "mean        1.499600   94664.811495  \n",
       "std         1.117959   42477.262653  \n",
       "min         0.000000   25903.000000  \n",
       "25%         0.000000   59924.000000  \n",
       "50%         1.000000   93572.500000  \n",
       "75%         2.000000  124261.000000  \n",
       "max         3.000000  593901.000000  "
      ]
     },
     "execution_count": 7,
     "metadata": {},
     "output_type": "execute_result"
    }
   ],
   "source": [
    "df2.describe()"
   ]
  },
  {
   "cell_type": "code",
   "execution_count": 8,
   "id": "f1e6fd75",
   "metadata": {},
   "outputs": [
    {
     "data": {
      "text/html": [
       "<div>\n",
       "<style scoped>\n",
       "    .dataframe tbody tr th:only-of-type {\n",
       "        vertical-align: middle;\n",
       "    }\n",
       "\n",
       "    .dataframe tbody tr th {\n",
       "        vertical-align: top;\n",
       "    }\n",
       "\n",
       "    .dataframe thead th {\n",
       "        text-align: right;\n",
       "    }\n",
       "</style>\n",
       "<table border=\"1\" class=\"dataframe\">\n",
       "  <thead>\n",
       "    <tr style=\"text-align: right;\">\n",
       "      <th></th>\n",
       "      <th>order_id</th>\n",
       "      <th>user_id</th>\n",
       "      <th>order_number</th>\n",
       "      <th>order_dow</th>\n",
       "      <th>order_hour_of_day</th>\n",
       "      <th>days_since_prior_order</th>\n",
       "      <th>product_id</th>\n",
       "      <th>reordered</th>\n",
       "      <th>product_name</th>\n",
       "      <th>aisle_id</th>\n",
       "      <th>...</th>\n",
       "      <th>order_freq_flag</th>\n",
       "      <th>first_name</th>\n",
       "      <th>last_name</th>\n",
       "      <th>gender</th>\n",
       "      <th>state</th>\n",
       "      <th>age</th>\n",
       "      <th>n_dependants</th>\n",
       "      <th>martial_status</th>\n",
       "      <th>income</th>\n",
       "      <th>region</th>\n",
       "    </tr>\n",
       "  </thead>\n",
       "  <tbody>\n",
       "    <tr>\n",
       "      <th>0</th>\n",
       "      <td>2539329</td>\n",
       "      <td>1</td>\n",
       "      <td>1</td>\n",
       "      <td>2</td>\n",
       "      <td>8</td>\n",
       "      <td>NaN</td>\n",
       "      <td>196.0</td>\n",
       "      <td>0.0</td>\n",
       "      <td>Soda</td>\n",
       "      <td>77</td>\n",
       "      <td>...</td>\n",
       "      <td>Non-frequent customer</td>\n",
       "      <td>Linda</td>\n",
       "      <td>Nguyen</td>\n",
       "      <td>Female</td>\n",
       "      <td>Alabama</td>\n",
       "      <td>31</td>\n",
       "      <td>3</td>\n",
       "      <td>married</td>\n",
       "      <td>40423</td>\n",
       "      <td>3</td>\n",
       "    </tr>\n",
       "    <tr>\n",
       "      <th>1</th>\n",
       "      <td>2398795</td>\n",
       "      <td>1</td>\n",
       "      <td>2</td>\n",
       "      <td>3</td>\n",
       "      <td>7</td>\n",
       "      <td>15.0</td>\n",
       "      <td>196.0</td>\n",
       "      <td>1.0</td>\n",
       "      <td>Soda</td>\n",
       "      <td>77</td>\n",
       "      <td>...</td>\n",
       "      <td>Non-frequent customer</td>\n",
       "      <td>Linda</td>\n",
       "      <td>Nguyen</td>\n",
       "      <td>Female</td>\n",
       "      <td>Alabama</td>\n",
       "      <td>31</td>\n",
       "      <td>3</td>\n",
       "      <td>married</td>\n",
       "      <td>40423</td>\n",
       "      <td>3</td>\n",
       "    </tr>\n",
       "    <tr>\n",
       "      <th>2</th>\n",
       "      <td>473747</td>\n",
       "      <td>1</td>\n",
       "      <td>3</td>\n",
       "      <td>3</td>\n",
       "      <td>12</td>\n",
       "      <td>21.0</td>\n",
       "      <td>196.0</td>\n",
       "      <td>1.0</td>\n",
       "      <td>Soda</td>\n",
       "      <td>77</td>\n",
       "      <td>...</td>\n",
       "      <td>Non-frequent customer</td>\n",
       "      <td>Linda</td>\n",
       "      <td>Nguyen</td>\n",
       "      <td>Female</td>\n",
       "      <td>Alabama</td>\n",
       "      <td>31</td>\n",
       "      <td>3</td>\n",
       "      <td>married</td>\n",
       "      <td>40423</td>\n",
       "      <td>3</td>\n",
       "    </tr>\n",
       "  </tbody>\n",
       "</table>\n",
       "<p>3 rows × 29 columns</p>\n",
       "</div>"
      ],
      "text/plain": [
       "   order_id  user_id  order_number  order_dow  order_hour_of_day  \\\n",
       "0   2539329        1             1          2                  8   \n",
       "1   2398795        1             2          3                  7   \n",
       "2    473747        1             3          3                 12   \n",
       "\n",
       "   days_since_prior_order  product_id  reordered product_name  aisle_id  ...  \\\n",
       "0                     NaN       196.0        0.0         Soda        77  ...   \n",
       "1                    15.0       196.0        1.0         Soda        77  ...   \n",
       "2                    21.0       196.0        1.0         Soda        77  ...   \n",
       "\n",
       "         order_freq_flag  first_name last_name  gender    state age  \\\n",
       "0  Non-frequent customer       Linda    Nguyen  Female  Alabama  31   \n",
       "1  Non-frequent customer       Linda    Nguyen  Female  Alabama  31   \n",
       "2  Non-frequent customer       Linda    Nguyen  Female  Alabama  31   \n",
       "\n",
       "  n_dependants martial_status  income region  \n",
       "0            3        married   40423      3  \n",
       "1            3        married   40423      3  \n",
       "2            3        married   40423      3  \n",
       "\n",
       "[3 rows x 29 columns]"
      ]
     },
     "execution_count": 8,
     "metadata": {},
     "output_type": "execute_result"
    }
   ],
   "source": [
    "df1.head(3)"
   ]
  },
  {
   "cell_type": "code",
   "execution_count": 9,
   "id": "2c73a3f8",
   "metadata": {},
   "outputs": [
    {
     "data": {
      "text/plain": [
       "Index(['order_id', 'user_id', 'order_number', 'order_dow', 'order_hour_of_day',\n",
       "       'days_since_prior_order', 'product_id', 'reordered', 'product_name',\n",
       "       'aisle_id', 'department_id', 'prices', 'price_range_loc', 'busiest_day',\n",
       "       'busiest_days_2', 'order_amount', 'loyalty_flag', 'spend_flag',\n",
       "       'order_freq', 'order_freq_flag', 'first_name', 'last_name', 'gender',\n",
       "       'state', 'age', 'n_dependants', 'martial_status', 'income', 'region'],\n",
       "      dtype='object')"
      ]
     },
     "execution_count": 9,
     "metadata": {},
     "output_type": "execute_result"
    }
   ],
   "source": [
    "df1.columns"
   ]
  },
  {
   "cell_type": "code",
   "execution_count": 10,
   "id": "86868a68",
   "metadata": {},
   "outputs": [
    {
     "data": {
      "text/plain": [
       "0    Mid-range product\n",
       "1    Mid-range product\n",
       "Name: price_range_loc, dtype: object"
      ]
     },
     "execution_count": 10,
     "metadata": {},
     "output_type": "execute_result"
    }
   ],
   "source": [
    "df1['price_range_loc'].head(2)"
   ]
  },
  {
   "cell_type": "code",
   "execution_count": 11,
   "id": "1f89e904",
   "metadata": {
    "scrolled": true
   },
   "outputs": [
    {
     "data": {
      "text/html": [
       "<div>\n",
       "<style scoped>\n",
       "    .dataframe tbody tr th:only-of-type {\n",
       "        vertical-align: middle;\n",
       "    }\n",
       "\n",
       "    .dataframe tbody tr th {\n",
       "        vertical-align: top;\n",
       "    }\n",
       "\n",
       "    .dataframe thead th {\n",
       "        text-align: right;\n",
       "    }\n",
       "</style>\n",
       "<table border=\"1\" class=\"dataframe\">\n",
       "  <thead>\n",
       "    <tr style=\"text-align: right;\">\n",
       "      <th></th>\n",
       "      <th>order_id</th>\n",
       "      <th>order_number</th>\n",
       "      <th>order_dow</th>\n",
       "      <th>order_hour_of_day</th>\n",
       "      <th>days_since_prior_order</th>\n",
       "      <th>product_id</th>\n",
       "      <th>reordered</th>\n",
       "      <th>aisle_id</th>\n",
       "      <th>department_id</th>\n",
       "      <th>prices</th>\n",
       "      <th>order_freq</th>\n",
       "      <th>age</th>\n",
       "      <th>n_dependants</th>\n",
       "      <th>income</th>\n",
       "    </tr>\n",
       "    <tr>\n",
       "      <th>user_id</th>\n",
       "      <th></th>\n",
       "      <th></th>\n",
       "      <th></th>\n",
       "      <th></th>\n",
       "      <th></th>\n",
       "      <th></th>\n",
       "      <th></th>\n",
       "      <th></th>\n",
       "      <th></th>\n",
       "      <th></th>\n",
       "      <th></th>\n",
       "      <th></th>\n",
       "      <th></th>\n",
       "      <th></th>\n",
       "    </tr>\n",
       "  </thead>\n",
       "  <tbody>\n",
       "    <tr>\n",
       "      <th>1</th>\n",
       "      <td>1.962396e+06</td>\n",
       "      <td>5.813559</td>\n",
       "      <td>2.644068</td>\n",
       "      <td>10.542373</td>\n",
       "      <td>20.259259</td>\n",
       "      <td>17885.966102</td>\n",
       "      <td>0.694915</td>\n",
       "      <td>61.525424</td>\n",
       "      <td>14.000000</td>\n",
       "      <td>6.367797</td>\n",
       "      <td>20.5</td>\n",
       "      <td>31.0</td>\n",
       "      <td>3.0</td>\n",
       "      <td>40423.0</td>\n",
       "    </tr>\n",
       "    <tr>\n",
       "      <th>2</th>\n",
       "      <td>1.757602e+06</td>\n",
       "      <td>8.035897</td>\n",
       "      <td>2.005128</td>\n",
       "      <td>10.441026</td>\n",
       "      <td>15.967033</td>\n",
       "      <td>25398.015385</td>\n",
       "      <td>0.476923</td>\n",
       "      <td>69.041026</td>\n",
       "      <td>12.600000</td>\n",
       "      <td>7.515897</td>\n",
       "      <td>13.0</td>\n",
       "      <td>68.0</td>\n",
       "      <td>3.0</td>\n",
       "      <td>64940.0</td>\n",
       "    </tr>\n",
       "    <tr>\n",
       "      <th>3</th>\n",
       "      <td>1.872658e+06</td>\n",
       "      <td>6.000000</td>\n",
       "      <td>1.011364</td>\n",
       "      <td>16.352273</td>\n",
       "      <td>11.487179</td>\n",
       "      <td>27459.238636</td>\n",
       "      <td>0.625000</td>\n",
       "      <td>68.340909</td>\n",
       "      <td>9.443182</td>\n",
       "      <td>8.197727</td>\n",
       "      <td>10.0</td>\n",
       "      <td>33.0</td>\n",
       "      <td>3.0</td>\n",
       "      <td>93240.0</td>\n",
       "    </tr>\n",
       "  </tbody>\n",
       "</table>\n",
       "</div>"
      ],
      "text/plain": [
       "             order_id  order_number  order_dow  order_hour_of_day  \\\n",
       "user_id                                                             \n",
       "1        1.962396e+06      5.813559   2.644068          10.542373   \n",
       "2        1.757602e+06      8.035897   2.005128          10.441026   \n",
       "3        1.872658e+06      6.000000   1.011364          16.352273   \n",
       "\n",
       "         days_since_prior_order    product_id  reordered   aisle_id  \\\n",
       "user_id                                                               \n",
       "1                     20.259259  17885.966102   0.694915  61.525424   \n",
       "2                     15.967033  25398.015385   0.476923  69.041026   \n",
       "3                     11.487179  27459.238636   0.625000  68.340909   \n",
       "\n",
       "         department_id    prices  order_freq   age  n_dependants   income  \n",
       "user_id                                                                    \n",
       "1            14.000000  6.367797        20.5  31.0           3.0  40423.0  \n",
       "2            12.600000  7.515897        13.0  68.0           3.0  64940.0  \n",
       "3             9.443182  8.197727        10.0  33.0           3.0  93240.0  "
      ]
     },
     "execution_count": 11,
     "metadata": {},
     "output_type": "execute_result"
    }
   ],
   "source": [
    "df2.head(3)"
   ]
  },
  {
   "cell_type": "markdown",
   "id": "f217e5a4",
   "metadata": {},
   "source": [
    "## Martial Status & Spend Flag"
   ]
  },
  {
   "cell_type": "code",
   "execution_count": 41,
   "id": "3c973776",
   "metadata": {},
   "outputs": [
    {
     "data": {
      "image/png": "[encoded data removed]",
      "text/plain": [
       "<Figure size 640x480 with 1 Axes>"
      ]
     },
     "metadata": {},
     "output_type": "display_data"
    }
   ],
   "source": [
    "pic1 = df1['martial_status'].value_counts().plot.bar()\n",
    "plt.title('Martial Status of DF Grouped by UserId', fontweight='bold')\n",
    "plt.xticks(rotation=45, ha='right')\n",
    "plt.tight_layout()\n",
    "plt.show()"
   ]
  },
  {
   "cell_type": "code",
   "execution_count": 13,
   "id": "d4184d22",
   "metadata": {},
   "outputs": [],
   "source": [
    "poc_spendflag = df1.groupby('martial_status')['spend_flag'].value_counts()"
   ]
  },
  {
   "cell_type": "code",
   "execution_count": 14,
   "id": "5127e6e1",
   "metadata": {},
   "outputs": [
    {
     "data": {
      "text/plain": [
       "martial_status                    spend_flag  \n",
       "divorced/widowed                  Low spender      2579480\n",
       "                                  High spender       50486\n",
       "living with parents and siblings  Low spender      1442723\n",
       "                                  High spender       28109\n",
       "married                           Low spender     21088701\n",
       "                                  High spender      420510\n",
       "single                            Low spender      4923274\n",
       "                                  High spender       96458\n",
       "Name: spend_flag, dtype: int64"
      ]
     },
     "execution_count": 14,
     "metadata": {},
     "output_type": "execute_result"
    }
   ],
   "source": [
    "poc_spendflag"
   ]
  },
  {
   "cell_type": "code",
   "execution_count": 42,
   "id": "6454aecd",
   "metadata": {},
   "outputs": [
    {
     "data": {
      "image/png": "[encoded data removed]",
      "text/plain": [
       "<Figure size 640x480 with 1 Axes>"
      ]
     },
     "metadata": {},
     "output_type": "display_data"
    }
   ],
   "source": [
    "#Spend Flag by Martial Status\n",
    "pic2 = poc_spendflag.sort_index().plot.bar()\n",
    "plt.title('Spend Flag by Martial Status', fontweight='bold')\n",
    "plt.xticks(rotation=45, ha='right')\n",
    "plt.tight_layout()\n",
    "plt.show()"
   ]
  },
  {
   "cell_type": "code",
   "execution_count": 39,
   "id": "48bc4412",
   "metadata": {
    "scrolled": false
   },
   "outputs": [
    {
     "data": {
      "image/png": "[encoded data removed]",
      "text/plain": [
       "<Figure size 640x480 with 1 Axes>"
      ]
     },
     "metadata": {},
     "output_type": "display_data"
    }
   ],
   "source": [
    "# Create a pivot table to aggregate the data\n",
    "pivot_df = pd.pivot_table(df1, index='martial_status', columns='spend_flag', aggfunc='size', fill_value=0)\n",
    "\n",
    "# Create a stacked bar chart\n",
    "stacked_bar = pivot_df.plot(kind='bar', stacked=True)\n",
    "\n",
    "# Set the title and labels for the chart\n",
    "stacked_bar.set_title('Spend Flag by Martial Status', fontweight='bold')\n",
    "stacked_bar.set_xlabel('Martial Status')\n",
    "stacked_bar.set_ylabel('Count')\n",
    "plt.xticks(rotation=45, ha='right')\n",
    "plt.tight_layout()\n",
    "\n",
    "# Show the chart\n",
    "plt.show()"
   ]
  },
  {
   "cell_type": "markdown",
   "id": "1366a103",
   "metadata": {},
   "source": [
    "## Martial Status & Mean Income"
   ]
  },
  {
   "cell_type": "code",
   "execution_count": 17,
   "id": "9897cb3f",
   "metadata": {},
   "outputs": [],
   "source": [
    "poc_income = df1.groupby('martial_status')['income'].mean()"
   ]
  },
  {
   "cell_type": "code",
   "execution_count": 18,
   "id": "abd7c14f",
   "metadata": {},
   "outputs": [
    {
     "data": {
      "text/plain": [
       "martial_status\n",
       "divorced/widowed                    115782.159136\n",
       "living with parents and siblings     70864.677549\n",
       "married                             101304.785392\n",
       "single                               91381.109051\n",
       "Name: income, dtype: float64"
      ]
     },
     "execution_count": 18,
     "metadata": {},
     "output_type": "execute_result"
    }
   ],
   "source": [
    "poc_income"
   ]
  },
  {
   "cell_type": "code",
   "execution_count": 43,
   "id": "3f75ad6c",
   "metadata": {
    "scrolled": true
   },
   "outputs": [
    {
     "data": {
      "image/png": "[encoded data removed]",
      "text/plain": [
       "<Figure size 640x480 with 1 Axes>"
      ]
     },
     "metadata": {},
     "output_type": "display_data"
    }
   ],
   "source": [
    "#Spend Flag by Martial Status\n",
    "pic4 = poc_income.sort_index().plot.bar()\n",
    "plt.title('Mean Income by Martial Status', fontweight='bold')\n",
    "plt.xticks(rotation=45, ha='right')\n",
    "plt.tight_layout()\n",
    "plt.show()"
   ]
  },
  {
   "cell_type": "markdown",
   "id": "f686fec0",
   "metadata": {},
   "source": [
    "## Martial Status Count by Region"
   ]
  },
  {
   "cell_type": "code",
   "execution_count": 20,
   "id": "04444e32",
   "metadata": {},
   "outputs": [
    {
     "data": {
      "text/html": [
       "<div>\n",
       "<style scoped>\n",
       "    .dataframe tbody tr th:only-of-type {\n",
       "        vertical-align: middle;\n",
       "    }\n",
       "\n",
       "    .dataframe tbody tr th {\n",
       "        vertical-align: top;\n",
       "    }\n",
       "\n",
       "    .dataframe thead th {\n",
       "        text-align: right;\n",
       "    }\n",
       "</style>\n",
       "<table border=\"1\" class=\"dataframe\">\n",
       "  <thead>\n",
       "    <tr style=\"text-align: right;\">\n",
       "      <th></th>\n",
       "      <th>order_id</th>\n",
       "      <th>user_id</th>\n",
       "      <th>order_number</th>\n",
       "      <th>order_dow</th>\n",
       "      <th>order_hour_of_day</th>\n",
       "      <th>days_since_prior_order</th>\n",
       "      <th>product_id</th>\n",
       "      <th>reordered</th>\n",
       "      <th>product_name</th>\n",
       "      <th>aisle_id</th>\n",
       "      <th>...</th>\n",
       "      <th>order_freq_flag</th>\n",
       "      <th>first_name</th>\n",
       "      <th>last_name</th>\n",
       "      <th>gender</th>\n",
       "      <th>state</th>\n",
       "      <th>age</th>\n",
       "      <th>n_dependants</th>\n",
       "      <th>martial_status</th>\n",
       "      <th>income</th>\n",
       "      <th>region</th>\n",
       "    </tr>\n",
       "  </thead>\n",
       "  <tbody>\n",
       "    <tr>\n",
       "      <th>0</th>\n",
       "      <td>2539329</td>\n",
       "      <td>1</td>\n",
       "      <td>1</td>\n",
       "      <td>2</td>\n",
       "      <td>8</td>\n",
       "      <td>NaN</td>\n",
       "      <td>196.0</td>\n",
       "      <td>0.0</td>\n",
       "      <td>Soda</td>\n",
       "      <td>77</td>\n",
       "      <td>...</td>\n",
       "      <td>Non-frequent customer</td>\n",
       "      <td>Linda</td>\n",
       "      <td>Nguyen</td>\n",
       "      <td>Female</td>\n",
       "      <td>Alabama</td>\n",
       "      <td>31</td>\n",
       "      <td>3</td>\n",
       "      <td>married</td>\n",
       "      <td>40423</td>\n",
       "      <td>3</td>\n",
       "    </tr>\n",
       "    <tr>\n",
       "      <th>1</th>\n",
       "      <td>2398795</td>\n",
       "      <td>1</td>\n",
       "      <td>2</td>\n",
       "      <td>3</td>\n",
       "      <td>7</td>\n",
       "      <td>15.0</td>\n",
       "      <td>196.0</td>\n",
       "      <td>1.0</td>\n",
       "      <td>Soda</td>\n",
       "      <td>77</td>\n",
       "      <td>...</td>\n",
       "      <td>Non-frequent customer</td>\n",
       "      <td>Linda</td>\n",
       "      <td>Nguyen</td>\n",
       "      <td>Female</td>\n",
       "      <td>Alabama</td>\n",
       "      <td>31</td>\n",
       "      <td>3</td>\n",
       "      <td>married</td>\n",
       "      <td>40423</td>\n",
       "      <td>3</td>\n",
       "    </tr>\n",
       "  </tbody>\n",
       "</table>\n",
       "<p>2 rows × 29 columns</p>\n",
       "</div>"
      ],
      "text/plain": [
       "   order_id  user_id  order_number  order_dow  order_hour_of_day  \\\n",
       "0   2539329        1             1          2                  8   \n",
       "1   2398795        1             2          3                  7   \n",
       "\n",
       "   days_since_prior_order  product_id  reordered product_name  aisle_id  ...  \\\n",
       "0                     NaN       196.0        0.0         Soda        77  ...   \n",
       "1                    15.0       196.0        1.0         Soda        77  ...   \n",
       "\n",
       "         order_freq_flag  first_name last_name  gender    state age  \\\n",
       "0  Non-frequent customer       Linda    Nguyen  Female  Alabama  31   \n",
       "1  Non-frequent customer       Linda    Nguyen  Female  Alabama  31   \n",
       "\n",
       "  n_dependants martial_status  income region  \n",
       "0            3        married   40423      3  \n",
       "1            3        married   40423      3  \n",
       "\n",
       "[2 rows x 29 columns]"
      ]
     },
     "execution_count": 20,
     "metadata": {},
     "output_type": "execute_result"
    }
   ],
   "source": [
    "df1.head(2)"
   ]
  },
  {
   "cell_type": "code",
   "execution_count": 21,
   "id": "44ba1aa4",
   "metadata": {},
   "outputs": [],
   "source": [
    "poc_income = df1.groupby('martial_status')['income'].mean()"
   ]
  },
  {
   "cell_type": "code",
   "execution_count": 22,
   "id": "ef5fa1c5",
   "metadata": {},
   "outputs": [
    {
     "data": {
      "text/plain": [
       "martial_status\n",
       "divorced/widowed                    115782.159136\n",
       "living with parents and siblings     70864.677549\n",
       "married                             101304.785392\n",
       "single                               91381.109051\n",
       "Name: income, dtype: float64"
      ]
     },
     "execution_count": 22,
     "metadata": {},
     "output_type": "execute_result"
    }
   ],
   "source": [
    "poc_income"
   ]
  },
  {
   "cell_type": "code",
   "execution_count": 45,
   "id": "54f9231f",
   "metadata": {
    "scrolled": true
   },
   "outputs": [
    {
     "data": {
      "image/png": "[encoded data removed]",
      "text/plain": [
       "<Figure size 640x480 with 1 Axes>"
      ]
     },
     "metadata": {},
     "output_type": "display_data"
    }
   ],
   "source": [
    "# Create a pivot table to aggregate the data\n",
    "pivot_df2 = pd.pivot_table(df1, index='martial_status', columns='region', aggfunc='size', fill_value=0)\n",
    "\n",
    "# Create a stacked bar chart\n",
    "stacked_bar2 = pivot_df2.plot(kind='bar', stacked=True)\n",
    "\n",
    "# Set the title and labels for the chart\n",
    "stacked_bar2.set_title('Count of Martial Status by Region', fontweight='bold')\n",
    "stacked_bar2.set_xlabel('Martial Status')\n",
    "stacked_bar2.set_ylabel('Count')\n",
    "plt.xticks(rotation=45, ha='right')\n",
    "\n",
    "# Show the chart\n",
    "plt.tight_layout()\n",
    "plt.show()"
   ]
  },
  {
   "cell_type": "markdown",
   "id": "4cad4f00",
   "metadata": {},
   "source": [
    "## Price Range Tag Bar Chart"
   ]
  },
  {
   "cell_type": "code",
   "execution_count": 24,
   "id": "c2529591",
   "metadata": {},
   "outputs": [],
   "source": [
    "poc_count = df1.groupby('price_range_loc')['price_range_loc'].value_counts()"
   ]
  },
  {
   "cell_type": "code",
   "execution_count": 25,
   "id": "5505ba4c",
   "metadata": {},
   "outputs": [
    {
     "data": {
      "text/plain": [
       "price_range_loc     price_range_loc   \n",
       "High-range product  High-range product      395466\n",
       "Low-range product   Low-range product      9570200\n",
       "Mid-range product   Mid-range product     20664075\n",
       "Name: price_range_loc, dtype: int64"
      ]
     },
     "execution_count": 25,
     "metadata": {},
     "output_type": "execute_result"
    }
   ],
   "source": [
    "poc_count"
   ]
  },
  {
   "cell_type": "code",
   "execution_count": 46,
   "id": "eead064d",
   "metadata": {},
   "outputs": [
    {
     "data": {
      "image/png": "[encoded data removed]",
      "text/plain": [
       "<Figure size 640x480 with 1 Axes>"
      ]
     },
     "metadata": {},
     "output_type": "display_data"
    }
   ],
   "source": [
    "#Price Range Count Bar Chart\n",
    "pic6 = poc_count.sort_index(ascending=True).plot.bar(color=['teal', 'seagreen', 'mediumseagreen', ])\n",
    "plt.title('Price Tag Count', fontweight='bold')\n",
    "pic6.set_xlabel('Tags')\n",
    "pic6.set_ylabel('Count')\n",
    "pic6.set_xticklabels(['High-Range', 'Low-Range', 'Mid-Range'])\n",
    "plt.xticks(rotation=45, ha='right')\n",
    "plt.tight_layout()\n",
    "plt.show()"
   ]
  },
  {
   "cell_type": "markdown",
   "id": "92c866fb",
   "metadata": {},
   "source": [
    "# Export"
   ]
  },
  {
   "cell_type": "markdown",
   "id": "9ba1d85e",
   "metadata": {},
   "source": [
    "## PNGs"
   ]
  },
  {
   "cell_type": "code",
   "execution_count": 47,
   "id": "bcb94caa",
   "metadata": {},
   "outputs": [],
   "source": [
    "#Martial Status Grouped by UserId; Bar Chart\n",
    "pic1.figure.savefig(os.path.join('/Users/christinarandall/Documents/Career Foundry Projects/Achievment 4/Data/Prepared Data/PNGs', 'Martial Status Grouped by UserId; Bar Chart.png'))"
   ]
  },
  {
   "cell_type": "code",
   "execution_count": 48,
   "id": "b790a659",
   "metadata": {},
   "outputs": [],
   "source": [
    "#Spend Flag by Martial Status; Bar Chart\n",
    "pic2.figure.savefig(os.path.join('/Users/christinarandall/Documents/Career Foundry Projects/Achievment 4/Data/Prepared Data/PNGs', 'Spend Flag by Martial Status; Bar Chart.png'))"
   ]
  },
  {
   "cell_type": "code",
   "execution_count": 49,
   "id": "009317db",
   "metadata": {},
   "outputs": [],
   "source": [
    "#Spend Flag by Martial Status; Stacked Bar Chart\n",
    "stacked_bar.figure.savefig(os.path.join('/Users/christinarandall/Documents/Career Foundry Projects/Achievment 4/Data/Prepared Data/PNGs', 'Spend Flag by Martial Status; Stacked Bar Chart.png'))"
   ]
  },
  {
   "cell_type": "code",
   "execution_count": 50,
   "id": "ab6e4da0",
   "metadata": {},
   "outputs": [],
   "source": [
    "#Count of Martial Status by Region; Stacked Bar Chart\n",
    "stacked_bar2.figure.savefig(os.path.join('/Users/christinarandall/Documents/Career Foundry Projects/Achievment 4/Data/Prepared Data/PNGs', 'Count of Martial Status by Region; Stacked Bar Chart.png'))"
   ]
  },
  {
   "cell_type": "code",
   "execution_count": 51,
   "id": "03c67838",
   "metadata": {},
   "outputs": [],
   "source": [
    "#Count of Price Tags; Bar Chart\n",
    "pic6.figure.savefig(os.path.join('/Users/christinarandall/Documents/Career Foundry Projects/Achievment 4/Data/Prepared Data/PNGs', 'Count of Price Tags; Bar Chart.png'))"
   ]
  }
 ],
 "metadata": {
  "kernelspec": {
   "display_name": "Python 3 (ipykernel)",
   "language": "python",
   "name": "python3"
  },
  "language_info": {
   "codemirror_mode": {
    "name": "ipython",
    "version": 3
   },
   "file_extension": ".py",
   "mimetype": "text/x-python",
   "name": "python",
   "nbconvert_exporter": "python",
   "pygments_lexer": "ipython3",
   "version": "3.9.13"
  },
  "toc": {
   "base_numbering": 1,
   "nav_menu": {},
   "number_sections": true,
   "sideBar": true,
   "skip_h1_title": false,
   "title_cell": "Table of Contents",
   "title_sidebar": "Contents",
   "toc_cell": false,
   "toc_position": {},
   "toc_section_display": true,
   "toc_window_display": false
  }
 },
 "nbformat": 4,
 "nbformat_minor": 5
}
