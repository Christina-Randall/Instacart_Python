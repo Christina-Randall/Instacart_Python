{
 "cells": [
  {
   "cell_type": "markdown",
   "id": "46116de1",
   "metadata": {},
   "source": [
    "4.8"
   ]
  },
  {
   "cell_type": "markdown",
   "id": "b333c9a1",
   "metadata": {},
   "source": [
    "# Outline"
   ]
  },
  {
   "cell_type": "markdown",
   "id": "844d52c0",
   "metadata": {},
   "source": [
    "1. Import"
   ]
  },
  {
   "cell_type": "markdown",
   "id": "ae13beb9",
   "metadata": {},
   "source": [
    "2. Finding the aggregated mean"
   ]
  },
  {
   "cell_type": "markdown",
   "id": "ab8bb839",
   "metadata": {},
   "source": [
    "3. Creating a Loyalty Flag"
   ]
  },
  {
   "cell_type": "markdown",
   "id": "1a8bc075",
   "metadata": {},
   "source": [
    "4. Finding purchase price diffrences in customers"
   ]
  },
  {
   "cell_type": "markdown",
   "id": "cf1e62ae",
   "metadata": {},
   "source": [
    "5. Creating a Spending Amount Flag"
   ]
  },
  {
   "cell_type": "markdown",
   "id": "c5536b77",
   "metadata": {},
   "source": [
    "6. Creating an Order Frequency Flag"
   ]
  },
  {
   "cell_type": "markdown",
   "id": "4594592d",
   "metadata": {},
   "source": [
    "7. Export"
   ]
  },
  {
   "cell_type": "markdown",
   "id": "441f5ebc",
   "metadata": {},
   "source": [
    "# Import"
   ]
  },
  {
   "cell_type": "code",
   "execution_count": 1,
   "id": "13907593",
   "metadata": {},
   "outputs": [],
   "source": [
    "import pandas as pd\n",
    "import numpy as np\n",
    "import os"
   ]
  },
  {
   "cell_type": "code",
   "execution_count": 2,
   "id": "18c669bd",
   "metadata": {},
   "outputs": [],
   "source": [
    "merged_df = pd.read_pickle('/Users/christinarandall/Documents/Career Foundry Projects/Achievment 4/Data/Prepared Data/merged_df.pickle')"
   ]
  },
  {
   "cell_type": "markdown",
   "id": "dbc7dad1",
   "metadata": {},
   "source": [
    "# Finding the Aggregated Mean"
   ]
  },
  {
   "cell_type": "code",
   "execution_count": 3,
   "id": "08ae16a7",
   "metadata": {
    "scrolled": true
   },
   "outputs": [
    {
     "data": {
      "text/html": [
       "<div>\n",
       "<style scoped>\n",
       "    .dataframe tbody tr th:only-of-type {\n",
       "        vertical-align: middle;\n",
       "    }\n",
       "\n",
       "    .dataframe tbody tr th {\n",
       "        vertical-align: top;\n",
       "    }\n",
       "\n",
       "    .dataframe thead th {\n",
       "        text-align: right;\n",
       "    }\n",
       "</style>\n",
       "<table border=\"1\" class=\"dataframe\">\n",
       "  <thead>\n",
       "    <tr style=\"text-align: right;\">\n",
       "      <th></th>\n",
       "      <th>Unnamed: 0_x</th>\n",
       "      <th>order_id</th>\n",
       "      <th>user_id</th>\n",
       "      <th>eval_set</th>\n",
       "      <th>order_number</th>\n",
       "      <th>order_dow</th>\n",
       "      <th>order_hour_of_day</th>\n",
       "      <th>days_since_prior_order</th>\n",
       "      <th>product_id</th>\n",
       "      <th>add_to_cart_order</th>\n",
       "      <th>...</th>\n",
       "      <th>product_name</th>\n",
       "      <th>aisle_id</th>\n",
       "      <th>department_id</th>\n",
       "      <th>prices</th>\n",
       "      <th>_merge</th>\n",
       "      <th>price_range_loc</th>\n",
       "      <th>busiest_day</th>\n",
       "      <th>busiest_days_2</th>\n",
       "      <th>hour</th>\n",
       "      <th>order_amount</th>\n",
       "    </tr>\n",
       "  </thead>\n",
       "  <tbody>\n",
       "    <tr>\n",
       "      <th>0</th>\n",
       "      <td>0</td>\n",
       "      <td>2539329</td>\n",
       "      <td>1</td>\n",
       "      <td>prior</td>\n",
       "      <td>1</td>\n",
       "      <td>2</td>\n",
       "      <td>8</td>\n",
       "      <td>NaN</td>\n",
       "      <td>196.0</td>\n",
       "      <td>1.0</td>\n",
       "      <td>...</td>\n",
       "      <td>Soda</td>\n",
       "      <td>77</td>\n",
       "      <td>7</td>\n",
       "      <td>9.0</td>\n",
       "      <td>both</td>\n",
       "      <td>Mid-range product</td>\n",
       "      <td>Regularly busy</td>\n",
       "      <td>Regularly busy</td>\n",
       "      <td>8</td>\n",
       "      <td>Average Orders</td>\n",
       "    </tr>\n",
       "    <tr>\n",
       "      <th>1</th>\n",
       "      <td>1</td>\n",
       "      <td>2398795</td>\n",
       "      <td>1</td>\n",
       "      <td>prior</td>\n",
       "      <td>2</td>\n",
       "      <td>3</td>\n",
       "      <td>7</td>\n",
       "      <td>15.0</td>\n",
       "      <td>196.0</td>\n",
       "      <td>1.0</td>\n",
       "      <td>...</td>\n",
       "      <td>Soda</td>\n",
       "      <td>77</td>\n",
       "      <td>7</td>\n",
       "      <td>9.0</td>\n",
       "      <td>both</td>\n",
       "      <td>Mid-range product</td>\n",
       "      <td>Regularly busy</td>\n",
       "      <td>Least busy</td>\n",
       "      <td>7</td>\n",
       "      <td>Average Orders</td>\n",
       "    </tr>\n",
       "    <tr>\n",
       "      <th>2</th>\n",
       "      <td>2</td>\n",
       "      <td>473747</td>\n",
       "      <td>1</td>\n",
       "      <td>prior</td>\n",
       "      <td>3</td>\n",
       "      <td>3</td>\n",
       "      <td>12</td>\n",
       "      <td>21.0</td>\n",
       "      <td>196.0</td>\n",
       "      <td>1.0</td>\n",
       "      <td>...</td>\n",
       "      <td>Soda</td>\n",
       "      <td>77</td>\n",
       "      <td>7</td>\n",
       "      <td>9.0</td>\n",
       "      <td>both</td>\n",
       "      <td>Mid-range product</td>\n",
       "      <td>Regularly busy</td>\n",
       "      <td>Least busy</td>\n",
       "      <td>12</td>\n",
       "      <td>Most Orders</td>\n",
       "    </tr>\n",
       "    <tr>\n",
       "      <th>3</th>\n",
       "      <td>3</td>\n",
       "      <td>2254736</td>\n",
       "      <td>1</td>\n",
       "      <td>prior</td>\n",
       "      <td>4</td>\n",
       "      <td>4</td>\n",
       "      <td>7</td>\n",
       "      <td>29.0</td>\n",
       "      <td>196.0</td>\n",
       "      <td>1.0</td>\n",
       "      <td>...</td>\n",
       "      <td>Soda</td>\n",
       "      <td>77</td>\n",
       "      <td>7</td>\n",
       "      <td>9.0</td>\n",
       "      <td>both</td>\n",
       "      <td>Mid-range product</td>\n",
       "      <td>Least busy</td>\n",
       "      <td>Least busy</td>\n",
       "      <td>7</td>\n",
       "      <td>Average Orders</td>\n",
       "    </tr>\n",
       "    <tr>\n",
       "      <th>4</th>\n",
       "      <td>4</td>\n",
       "      <td>431534</td>\n",
       "      <td>1</td>\n",
       "      <td>prior</td>\n",
       "      <td>5</td>\n",
       "      <td>4</td>\n",
       "      <td>15</td>\n",
       "      <td>28.0</td>\n",
       "      <td>196.0</td>\n",
       "      <td>1.0</td>\n",
       "      <td>...</td>\n",
       "      <td>Soda</td>\n",
       "      <td>77</td>\n",
       "      <td>7</td>\n",
       "      <td>9.0</td>\n",
       "      <td>both</td>\n",
       "      <td>Mid-range product</td>\n",
       "      <td>Least busy</td>\n",
       "      <td>Least busy</td>\n",
       "      <td>15</td>\n",
       "      <td>Most Orders</td>\n",
       "    </tr>\n",
       "  </tbody>\n",
       "</table>\n",
       "<p>5 rows × 22 columns</p>\n",
       "</div>"
      ],
      "text/plain": [
       "   Unnamed: 0_x  order_id  user_id eval_set  order_number  order_dow  \\\n",
       "0             0   2539329        1    prior             1          2   \n",
       "1             1   2398795        1    prior             2          3   \n",
       "2             2    473747        1    prior             3          3   \n",
       "3             3   2254736        1    prior             4          4   \n",
       "4             4    431534        1    prior             5          4   \n",
       "\n",
       "   order_hour_of_day  days_since_prior_order  product_id  add_to_cart_order  \\\n",
       "0                  8                     NaN       196.0                1.0   \n",
       "1                  7                    15.0       196.0                1.0   \n",
       "2                 12                    21.0       196.0                1.0   \n",
       "3                  7                    29.0       196.0                1.0   \n",
       "4                 15                    28.0       196.0                1.0   \n",
       "\n",
       "   ...  product_name  aisle_id department_id  prices  _merge  \\\n",
       "0  ...          Soda        77             7     9.0    both   \n",
       "1  ...          Soda        77             7     9.0    both   \n",
       "2  ...          Soda        77             7     9.0    both   \n",
       "3  ...          Soda        77             7     9.0    both   \n",
       "4  ...          Soda        77             7     9.0    both   \n",
       "\n",
       "     price_range_loc     busiest_day  busiest_days_2 hour    order_amount  \n",
       "0  Mid-range product  Regularly busy  Regularly busy    8  Average Orders  \n",
       "1  Mid-range product  Regularly busy      Least busy    7  Average Orders  \n",
       "2  Mid-range product  Regularly busy      Least busy   12     Most Orders  \n",
       "3  Mid-range product      Least busy      Least busy    7  Average Orders  \n",
       "4  Mid-range product      Least busy      Least busy   15     Most Orders  \n",
       "\n",
       "[5 rows x 22 columns]"
      ]
     },
     "execution_count": 3,
     "metadata": {},
     "output_type": "execute_result"
    }
   ],
   "source": [
    "merged_df.head(5)"
   ]
  },
  {
   "cell_type": "code",
   "execution_count": 4,
   "id": "24155763",
   "metadata": {},
   "outputs": [
    {
     "data": {
      "text/plain": [
       "(32404859, 22)"
      ]
     },
     "execution_count": 4,
     "metadata": {},
     "output_type": "execute_result"
    }
   ],
   "source": [
    "merged_df.shape"
   ]
  },
  {
   "cell_type": "code",
   "execution_count": 5,
   "id": "3514d0ae",
   "metadata": {},
   "outputs": [],
   "source": [
    "df_1 = merged_df"
   ]
  },
  {
   "cell_type": "code",
   "execution_count": 6,
   "id": "5bd4c216",
   "metadata": {},
   "outputs": [
    {
     "data": {
      "text/plain": [
       "(32404859, 22)"
      ]
     },
     "execution_count": 6,
     "metadata": {},
     "output_type": "execute_result"
    }
   ],
   "source": [
    "df_1.shape"
   ]
  },
  {
   "cell_type": "code",
   "execution_count": 7,
   "id": "e10bcf2c",
   "metadata": {},
   "outputs": [],
   "source": [
    "df_1 = df_1.groupby('department_id').agg({'order_number': ['mean']})"
   ]
  },
  {
   "cell_type": "code",
   "execution_count": 8,
   "id": "8dc16f2c",
   "metadata": {},
   "outputs": [
    {
     "data": {
      "text/html": [
       "<div>\n",
       "<style scoped>\n",
       "    .dataframe tbody tr th:only-of-type {\n",
       "        vertical-align: middle;\n",
       "    }\n",
       "\n",
       "    .dataframe tbody tr th {\n",
       "        vertical-align: top;\n",
       "    }\n",
       "\n",
       "    .dataframe thead tr th {\n",
       "        text-align: left;\n",
       "    }\n",
       "\n",
       "    .dataframe thead tr:last-of-type th {\n",
       "        text-align: right;\n",
       "    }\n",
       "</style>\n",
       "<table border=\"1\" class=\"dataframe\">\n",
       "  <thead>\n",
       "    <tr>\n",
       "      <th></th>\n",
       "      <th>order_number</th>\n",
       "    </tr>\n",
       "    <tr>\n",
       "      <th></th>\n",
       "      <th>mean</th>\n",
       "    </tr>\n",
       "    <tr>\n",
       "      <th>department_id</th>\n",
       "      <th></th>\n",
       "    </tr>\n",
       "  </thead>\n",
       "  <tbody>\n",
       "    <tr>\n",
       "      <th>1</th>\n",
       "      <td>15.457838</td>\n",
       "    </tr>\n",
       "    <tr>\n",
       "      <th>2</th>\n",
       "      <td>17.277920</td>\n",
       "    </tr>\n",
       "    <tr>\n",
       "      <th>3</th>\n",
       "      <td>17.170395</td>\n",
       "    </tr>\n",
       "    <tr>\n",
       "      <th>4</th>\n",
       "      <td>17.811403</td>\n",
       "    </tr>\n",
       "    <tr>\n",
       "      <th>5</th>\n",
       "      <td>15.215751</td>\n",
       "    </tr>\n",
       "    <tr>\n",
       "      <th>6</th>\n",
       "      <td>16.439806</td>\n",
       "    </tr>\n",
       "    <tr>\n",
       "      <th>7</th>\n",
       "      <td>17.225802</td>\n",
       "    </tr>\n",
       "    <tr>\n",
       "      <th>8</th>\n",
       "      <td>15.340650</td>\n",
       "    </tr>\n",
       "    <tr>\n",
       "      <th>9</th>\n",
       "      <td>15.895474</td>\n",
       "    </tr>\n",
       "    <tr>\n",
       "      <th>10</th>\n",
       "      <td>20.197148</td>\n",
       "    </tr>\n",
       "    <tr>\n",
       "      <th>11</th>\n",
       "      <td>16.170638</td>\n",
       "    </tr>\n",
       "    <tr>\n",
       "      <th>12</th>\n",
       "      <td>15.887671</td>\n",
       "    </tr>\n",
       "    <tr>\n",
       "      <th>13</th>\n",
       "      <td>16.583536</td>\n",
       "    </tr>\n",
       "    <tr>\n",
       "      <th>14</th>\n",
       "      <td>16.773669</td>\n",
       "    </tr>\n",
       "    <tr>\n",
       "      <th>15</th>\n",
       "      <td>16.165037</td>\n",
       "    </tr>\n",
       "  </tbody>\n",
       "</table>\n",
       "</div>"
      ],
      "text/plain": [
       "              order_number\n",
       "                      mean\n",
       "department_id             \n",
       "1                15.457838\n",
       "2                17.277920\n",
       "3                17.170395\n",
       "4                17.811403\n",
       "5                15.215751\n",
       "6                16.439806\n",
       "7                17.225802\n",
       "8                15.340650\n",
       "9                15.895474\n",
       "10               20.197148\n",
       "11               16.170638\n",
       "12               15.887671\n",
       "13               16.583536\n",
       "14               16.773669\n",
       "15               16.165037"
      ]
     },
     "execution_count": 8,
     "metadata": {},
     "output_type": "execute_result"
    }
   ],
   "source": [
    "df_1.head(15)"
   ]
  },
  {
   "cell_type": "markdown",
   "id": "eb1a3fa2",
   "metadata": {},
   "source": [
    "It seems that as we increased our data sest, the average went down among the departments."
   ]
  },
  {
   "cell_type": "markdown",
   "id": "5b88fc3d",
   "metadata": {},
   "source": [
    "# Creating a Loyalty Flag"
   ]
  },
  {
   "cell_type": "code",
   "execution_count": 9,
   "id": "ba87522a",
   "metadata": {},
   "outputs": [],
   "source": [
    "df_2 = merged_df"
   ]
  },
  {
   "cell_type": "code",
   "execution_count": 10,
   "id": "53828a21",
   "metadata": {},
   "outputs": [],
   "source": [
    "order_count = df_2.groupby(['user_id'])['order_number'].transform(max)"
   ]
  },
  {
   "cell_type": "code",
   "execution_count": 11,
   "id": "f81dc860",
   "metadata": {},
   "outputs": [],
   "source": [
    "df_2.loc[order_count <= 10, 'loyalty_flag'] = 'New Customer'\n",
    "df_2.loc[(order_count > 10) & (order_count <= 40), 'loyalty_flag'] = 'Regular Customer'\n",
    "df_2.loc[order_count > 40, 'loyalty_flag'] = 'Loyal Customer'"
   ]
  },
  {
   "cell_type": "code",
   "execution_count": 12,
   "id": "fbc1eedb",
   "metadata": {},
   "outputs": [
    {
     "data": {
      "text/html": [
       "<div>\n",
       "<style scoped>\n",
       "    .dataframe tbody tr th:only-of-type {\n",
       "        vertical-align: middle;\n",
       "    }\n",
       "\n",
       "    .dataframe tbody tr th {\n",
       "        vertical-align: top;\n",
       "    }\n",
       "\n",
       "    .dataframe thead th {\n",
       "        text-align: right;\n",
       "    }\n",
       "</style>\n",
       "<table border=\"1\" class=\"dataframe\">\n",
       "  <thead>\n",
       "    <tr style=\"text-align: right;\">\n",
       "      <th></th>\n",
       "      <th>Unnamed: 0_x</th>\n",
       "      <th>order_id</th>\n",
       "      <th>user_id</th>\n",
       "      <th>eval_set</th>\n",
       "      <th>order_number</th>\n",
       "      <th>order_dow</th>\n",
       "      <th>order_hour_of_day</th>\n",
       "      <th>days_since_prior_order</th>\n",
       "      <th>product_id</th>\n",
       "      <th>add_to_cart_order</th>\n",
       "      <th>...</th>\n",
       "      <th>aisle_id</th>\n",
       "      <th>department_id</th>\n",
       "      <th>prices</th>\n",
       "      <th>_merge</th>\n",
       "      <th>price_range_loc</th>\n",
       "      <th>busiest_day</th>\n",
       "      <th>busiest_days_2</th>\n",
       "      <th>hour</th>\n",
       "      <th>order_amount</th>\n",
       "      <th>loyalty_flag</th>\n",
       "    </tr>\n",
       "  </thead>\n",
       "  <tbody>\n",
       "    <tr>\n",
       "      <th>0</th>\n",
       "      <td>0</td>\n",
       "      <td>2539329</td>\n",
       "      <td>1</td>\n",
       "      <td>prior</td>\n",
       "      <td>1</td>\n",
       "      <td>2</td>\n",
       "      <td>8</td>\n",
       "      <td>NaN</td>\n",
       "      <td>196.0</td>\n",
       "      <td>1.0</td>\n",
       "      <td>...</td>\n",
       "      <td>77</td>\n",
       "      <td>7</td>\n",
       "      <td>9.0</td>\n",
       "      <td>both</td>\n",
       "      <td>Mid-range product</td>\n",
       "      <td>Regularly busy</td>\n",
       "      <td>Regularly busy</td>\n",
       "      <td>8</td>\n",
       "      <td>Average Orders</td>\n",
       "      <td>New Customer</td>\n",
       "    </tr>\n",
       "    <tr>\n",
       "      <th>1</th>\n",
       "      <td>1</td>\n",
       "      <td>2398795</td>\n",
       "      <td>1</td>\n",
       "      <td>prior</td>\n",
       "      <td>2</td>\n",
       "      <td>3</td>\n",
       "      <td>7</td>\n",
       "      <td>15.0</td>\n",
       "      <td>196.0</td>\n",
       "      <td>1.0</td>\n",
       "      <td>...</td>\n",
       "      <td>77</td>\n",
       "      <td>7</td>\n",
       "      <td>9.0</td>\n",
       "      <td>both</td>\n",
       "      <td>Mid-range product</td>\n",
       "      <td>Regularly busy</td>\n",
       "      <td>Least busy</td>\n",
       "      <td>7</td>\n",
       "      <td>Average Orders</td>\n",
       "      <td>New Customer</td>\n",
       "    </tr>\n",
       "    <tr>\n",
       "      <th>2</th>\n",
       "      <td>2</td>\n",
       "      <td>473747</td>\n",
       "      <td>1</td>\n",
       "      <td>prior</td>\n",
       "      <td>3</td>\n",
       "      <td>3</td>\n",
       "      <td>12</td>\n",
       "      <td>21.0</td>\n",
       "      <td>196.0</td>\n",
       "      <td>1.0</td>\n",
       "      <td>...</td>\n",
       "      <td>77</td>\n",
       "      <td>7</td>\n",
       "      <td>9.0</td>\n",
       "      <td>both</td>\n",
       "      <td>Mid-range product</td>\n",
       "      <td>Regularly busy</td>\n",
       "      <td>Least busy</td>\n",
       "      <td>12</td>\n",
       "      <td>Most Orders</td>\n",
       "      <td>New Customer</td>\n",
       "    </tr>\n",
       "    <tr>\n",
       "      <th>3</th>\n",
       "      <td>3</td>\n",
       "      <td>2254736</td>\n",
       "      <td>1</td>\n",
       "      <td>prior</td>\n",
       "      <td>4</td>\n",
       "      <td>4</td>\n",
       "      <td>7</td>\n",
       "      <td>29.0</td>\n",
       "      <td>196.0</td>\n",
       "      <td>1.0</td>\n",
       "      <td>...</td>\n",
       "      <td>77</td>\n",
       "      <td>7</td>\n",
       "      <td>9.0</td>\n",
       "      <td>both</td>\n",
       "      <td>Mid-range product</td>\n",
       "      <td>Least busy</td>\n",
       "      <td>Least busy</td>\n",
       "      <td>7</td>\n",
       "      <td>Average Orders</td>\n",
       "      <td>New Customer</td>\n",
       "    </tr>\n",
       "    <tr>\n",
       "      <th>4</th>\n",
       "      <td>4</td>\n",
       "      <td>431534</td>\n",
       "      <td>1</td>\n",
       "      <td>prior</td>\n",
       "      <td>5</td>\n",
       "      <td>4</td>\n",
       "      <td>15</td>\n",
       "      <td>28.0</td>\n",
       "      <td>196.0</td>\n",
       "      <td>1.0</td>\n",
       "      <td>...</td>\n",
       "      <td>77</td>\n",
       "      <td>7</td>\n",
       "      <td>9.0</td>\n",
       "      <td>both</td>\n",
       "      <td>Mid-range product</td>\n",
       "      <td>Least busy</td>\n",
       "      <td>Least busy</td>\n",
       "      <td>15</td>\n",
       "      <td>Most Orders</td>\n",
       "      <td>New Customer</td>\n",
       "    </tr>\n",
       "  </tbody>\n",
       "</table>\n",
       "<p>5 rows × 23 columns</p>\n",
       "</div>"
      ],
      "text/plain": [
       "   Unnamed: 0_x  order_id  user_id eval_set  order_number  order_dow  \\\n",
       "0             0   2539329        1    prior             1          2   \n",
       "1             1   2398795        1    prior             2          3   \n",
       "2             2    473747        1    prior             3          3   \n",
       "3             3   2254736        1    prior             4          4   \n",
       "4             4    431534        1    prior             5          4   \n",
       "\n",
       "   order_hour_of_day  days_since_prior_order  product_id  add_to_cart_order  \\\n",
       "0                  8                     NaN       196.0                1.0   \n",
       "1                  7                    15.0       196.0                1.0   \n",
       "2                 12                    21.0       196.0                1.0   \n",
       "3                  7                    29.0       196.0                1.0   \n",
       "4                 15                    28.0       196.0                1.0   \n",
       "\n",
       "   ...  aisle_id  department_id prices  _merge    price_range_loc  \\\n",
       "0  ...        77              7    9.0    both  Mid-range product   \n",
       "1  ...        77              7    9.0    both  Mid-range product   \n",
       "2  ...        77              7    9.0    both  Mid-range product   \n",
       "3  ...        77              7    9.0    both  Mid-range product   \n",
       "4  ...        77              7    9.0    both  Mid-range product   \n",
       "\n",
       "      busiest_day  busiest_days_2 hour    order_amount  loyalty_flag  \n",
       "0  Regularly busy  Regularly busy    8  Average Orders  New Customer  \n",
       "1  Regularly busy      Least busy    7  Average Orders  New Customer  \n",
       "2  Regularly busy      Least busy   12     Most Orders  New Customer  \n",
       "3      Least busy      Least busy    7  Average Orders  New Customer  \n",
       "4      Least busy      Least busy   15     Most Orders  New Customer  \n",
       "\n",
       "[5 rows x 23 columns]"
      ]
     },
     "execution_count": 12,
     "metadata": {},
     "output_type": "execute_result"
    }
   ],
   "source": [
    "df_2.head()"
   ]
  },
  {
   "cell_type": "markdown",
   "id": "155cc810",
   "metadata": {},
   "source": [
    "#  Finding Purchase Price Diffrences in Customers"
   ]
  },
  {
   "cell_type": "code",
   "execution_count": 13,
   "id": "dc344e09",
   "metadata": {},
   "outputs": [],
   "source": [
    "loyal_customer_stats = df_2.loc[df_2['loyalty_flag'] == 'Loyal Customer', 'prices'].describe()\n",
    "regular_customer_stats = df_2.loc[df_2['loyalty_flag'] == 'Regular Customer', 'prices'].describe()\n",
    "new_customer_stats = df_2.loc[df_2['loyalty_flag'] == 'New Customer', 'prices'].describe()"
   ]
  },
  {
   "cell_type": "code",
   "execution_count": 14,
   "id": "f779eb8f",
   "metadata": {},
   "outputs": [
    {
     "data": {
      "text/plain": [
       "count    1.028409e+07\n",
       "mean     1.038634e+01\n",
       "std      3.280178e+02\n",
       "min      1.000000e+00\n",
       "25%      4.200000e+00\n",
       "50%      7.400000e+00\n",
       "75%      1.120000e+01\n",
       "max      9.999900e+04\n",
       "Name: prices, dtype: float64"
      ]
     },
     "execution_count": 14,
     "metadata": {},
     "output_type": "execute_result"
    }
   ],
   "source": [
    "loyal_customer_stats"
   ]
  },
  {
   "cell_type": "code",
   "execution_count": 15,
   "id": "d6e4fada",
   "metadata": {},
   "outputs": [
    {
     "data": {
      "text/plain": [
       "count    1.587678e+07\n",
       "mean     1.249572e+01\n",
       "std      5.397209e+02\n",
       "min      1.000000e+00\n",
       "25%      4.200000e+00\n",
       "50%      7.400000e+00\n",
       "75%      1.130000e+01\n",
       "max      9.999900e+04\n",
       "Name: prices, dtype: float64"
      ]
     },
     "execution_count": 15,
     "metadata": {},
     "output_type": "execute_result"
    }
   ],
   "source": [
    "regular_customer_stats"
   ]
  },
  {
   "cell_type": "code",
   "execution_count": 16,
   "id": "602b8e08",
   "metadata": {},
   "outputs": [
    {
     "data": {
      "text/plain": [
       "count    6.243990e+06\n",
       "mean     1.329467e+01\n",
       "std      5.975603e+02\n",
       "min      1.000000e+00\n",
       "25%      4.200000e+00\n",
       "50%      7.400000e+00\n",
       "75%      1.130000e+01\n",
       "max      9.999900e+04\n",
       "Name: prices, dtype: float64"
      ]
     },
     "execution_count": 16,
     "metadata": {},
     "output_type": "execute_result"
    }
   ],
   "source": [
    "new_customer_stats"
   ]
  },
  {
   "cell_type": "markdown",
   "id": "8517315a",
   "metadata": {},
   "source": [
    "# Creating a Spending Amount Flag"
   ]
  },
  {
   "cell_type": "code",
   "execution_count": 17,
   "id": "223d4ba7",
   "metadata": {},
   "outputs": [],
   "source": [
    "df_3 = merged_df"
   ]
  },
  {
   "cell_type": "code",
   "execution_count": 18,
   "id": "a1e6a937",
   "metadata": {},
   "outputs": [],
   "source": [
    "user_mean_price = df_2.groupby('user_id')['prices'].transform(np.mean)"
   ]
  },
  {
   "cell_type": "code",
   "execution_count": 19,
   "id": "8f22eac7",
   "metadata": {},
   "outputs": [
    {
     "data": {
      "text/plain": [
       "0    6.367797\n",
       "1    6.367797\n",
       "2    6.367797\n",
       "3    6.367797\n",
       "4    6.367797\n",
       "Name: prices, dtype: float64"
      ]
     },
     "execution_count": 19,
     "metadata": {},
     "output_type": "execute_result"
    }
   ],
   "source": [
    "user_mean_price.head(5)"
   ]
  },
  {
   "cell_type": "code",
   "execution_count": 20,
   "id": "8606c979",
   "metadata": {},
   "outputs": [],
   "source": [
    "df_3.loc[user_mean_price < 10, 'spend_flag'] = 'Low spender'\n",
    "df_3.loc[user_mean_price >= 10, 'spend_flag'] = 'High spender'"
   ]
  },
  {
   "cell_type": "code",
   "execution_count": 21,
   "id": "f01f021d",
   "metadata": {},
   "outputs": [
    {
     "data": {
      "text/html": [
       "<div>\n",
       "<style scoped>\n",
       "    .dataframe tbody tr th:only-of-type {\n",
       "        vertical-align: middle;\n",
       "    }\n",
       "\n",
       "    .dataframe tbody tr th {\n",
       "        vertical-align: top;\n",
       "    }\n",
       "\n",
       "    .dataframe thead th {\n",
       "        text-align: right;\n",
       "    }\n",
       "</style>\n",
       "<table border=\"1\" class=\"dataframe\">\n",
       "  <thead>\n",
       "    <tr style=\"text-align: right;\">\n",
       "      <th></th>\n",
       "      <th>Unnamed: 0_x</th>\n",
       "      <th>order_id</th>\n",
       "      <th>user_id</th>\n",
       "      <th>eval_set</th>\n",
       "      <th>order_number</th>\n",
       "      <th>order_dow</th>\n",
       "      <th>order_hour_of_day</th>\n",
       "      <th>days_since_prior_order</th>\n",
       "      <th>product_id</th>\n",
       "      <th>add_to_cart_order</th>\n",
       "      <th>...</th>\n",
       "      <th>department_id</th>\n",
       "      <th>prices</th>\n",
       "      <th>_merge</th>\n",
       "      <th>price_range_loc</th>\n",
       "      <th>busiest_day</th>\n",
       "      <th>busiest_days_2</th>\n",
       "      <th>hour</th>\n",
       "      <th>order_amount</th>\n",
       "      <th>loyalty_flag</th>\n",
       "      <th>spend_flag</th>\n",
       "    </tr>\n",
       "  </thead>\n",
       "  <tbody>\n",
       "    <tr>\n",
       "      <th>14475604</th>\n",
       "      <td>3326</td>\n",
       "      <td>1041306</td>\n",
       "      <td>216</td>\n",
       "      <td>prior</td>\n",
       "      <td>4</td>\n",
       "      <td>2</td>\n",
       "      <td>21</td>\n",
       "      <td>7.0</td>\n",
       "      <td>23233.0</td>\n",
       "      <td>14.0</td>\n",
       "      <td>...</td>\n",
       "      <td>3</td>\n",
       "      <td>10.6</td>\n",
       "      <td>both</td>\n",
       "      <td>Mid-range product</td>\n",
       "      <td>Regularly busy</td>\n",
       "      <td>Regularly busy</td>\n",
       "      <td>21</td>\n",
       "      <td>Average Orders</td>\n",
       "      <td>Regular Customer</td>\n",
       "      <td>Low spender</td>\n",
       "    </tr>\n",
       "    <tr>\n",
       "      <th>15434770</th>\n",
       "      <td>1138218</td>\n",
       "      <td>751487</td>\n",
       "      <td>68392</td>\n",
       "      <td>prior</td>\n",
       "      <td>37</td>\n",
       "      <td>6</td>\n",
       "      <td>12</td>\n",
       "      <td>6.0</td>\n",
       "      <td>44560.0</td>\n",
       "      <td>40.0</td>\n",
       "      <td>...</td>\n",
       "      <td>19</td>\n",
       "      <td>5.6</td>\n",
       "      <td>both</td>\n",
       "      <td>Mid-range product</td>\n",
       "      <td>Regularly busy</td>\n",
       "      <td>Regularly busy</td>\n",
       "      <td>12</td>\n",
       "      <td>Most Orders</td>\n",
       "      <td>Loyal Customer</td>\n",
       "      <td>Low spender</td>\n",
       "    </tr>\n",
       "  </tbody>\n",
       "</table>\n",
       "<p>2 rows × 24 columns</p>\n",
       "</div>"
      ],
      "text/plain": [
       "          Unnamed: 0_x  order_id  user_id eval_set  order_number  order_dow  \\\n",
       "14475604          3326   1041306      216    prior             4          2   \n",
       "15434770       1138218    751487    68392    prior            37          6   \n",
       "\n",
       "          order_hour_of_day  days_since_prior_order  product_id  \\\n",
       "14475604                 21                     7.0     23233.0   \n",
       "15434770                 12                     6.0     44560.0   \n",
       "\n",
       "          add_to_cart_order  ...  department_id  prices _merge  \\\n",
       "14475604               14.0  ...              3    10.6   both   \n",
       "15434770               40.0  ...             19     5.6   both   \n",
       "\n",
       "            price_range_loc     busiest_day  busiest_days_2 hour  \\\n",
       "14475604  Mid-range product  Regularly busy  Regularly busy   21   \n",
       "15434770  Mid-range product  Regularly busy  Regularly busy   12   \n",
       "\n",
       "            order_amount      loyalty_flag   spend_flag  \n",
       "14475604  Average Orders  Regular Customer  Low spender  \n",
       "15434770     Most Orders    Loyal Customer  Low spender  \n",
       "\n",
       "[2 rows x 24 columns]"
      ]
     },
     "execution_count": 21,
     "metadata": {},
     "output_type": "execute_result"
    }
   ],
   "source": [
    "df_3.sample(2)"
   ]
  },
  {
   "cell_type": "code",
   "execution_count": 22,
   "id": "def62ae3",
   "metadata": {},
   "outputs": [
    {
     "data": {
      "text/plain": [
       "(32404859, 24)"
      ]
     },
     "execution_count": 22,
     "metadata": {},
     "output_type": "execute_result"
    }
   ],
   "source": [
    "df_3.shape"
   ]
  },
  {
   "cell_type": "markdown",
   "id": "86d3c119",
   "metadata": {},
   "source": [
    "# Creating an Order Frequency Flag"
   ]
  },
  {
   "cell_type": "code",
   "execution_count": 23,
   "id": "b220400c",
   "metadata": {},
   "outputs": [],
   "source": [
    "df_4 = merged_df"
   ]
  },
  {
   "cell_type": "code",
   "execution_count": 24,
   "id": "43e6f553",
   "metadata": {},
   "outputs": [],
   "source": [
    "df_4['order_freq'] = df_4.groupby(['user_id'])['days_since_prior_order'].transform(np.median)"
   ]
  },
  {
   "cell_type": "code",
   "execution_count": 25,
   "id": "762d44a3",
   "metadata": {},
   "outputs": [],
   "source": [
    "df_4.loc[df_4['order_freq'] > 20, 'order_freq_flag'] = 'Non-frequent customer'"
   ]
  },
  {
   "cell_type": "code",
   "execution_count": 26,
   "id": "06b887a4",
   "metadata": {},
   "outputs": [],
   "source": [
    "df_4.loc[(df_4['order_freq'] < 20) & (df_4['order_freq'] > 10), 'order_freq_flag'] = 'Regular customer'"
   ]
  },
  {
   "cell_type": "code",
   "execution_count": 27,
   "id": "fc302100",
   "metadata": {},
   "outputs": [],
   "source": [
    "df_4.loc[df_4['order_freq']<= 10, 'order_freq_flag'] = 'Frequent customer'"
   ]
  },
  {
   "cell_type": "code",
   "execution_count": 28,
   "id": "93399e0c",
   "metadata": {
    "scrolled": true
   },
   "outputs": [
    {
     "data": {
      "text/html": [
       "<div>\n",
       "<style scoped>\n",
       "    .dataframe tbody tr th:only-of-type {\n",
       "        vertical-align: middle;\n",
       "    }\n",
       "\n",
       "    .dataframe tbody tr th {\n",
       "        vertical-align: top;\n",
       "    }\n",
       "\n",
       "    .dataframe thead th {\n",
       "        text-align: right;\n",
       "    }\n",
       "</style>\n",
       "<table border=\"1\" class=\"dataframe\">\n",
       "  <thead>\n",
       "    <tr style=\"text-align: right;\">\n",
       "      <th></th>\n",
       "      <th>Unnamed: 0_x</th>\n",
       "      <th>order_id</th>\n",
       "      <th>user_id</th>\n",
       "      <th>eval_set</th>\n",
       "      <th>order_number</th>\n",
       "      <th>order_dow</th>\n",
       "      <th>order_hour_of_day</th>\n",
       "      <th>days_since_prior_order</th>\n",
       "      <th>product_id</th>\n",
       "      <th>add_to_cart_order</th>\n",
       "      <th>...</th>\n",
       "      <th>_merge</th>\n",
       "      <th>price_range_loc</th>\n",
       "      <th>busiest_day</th>\n",
       "      <th>busiest_days_2</th>\n",
       "      <th>hour</th>\n",
       "      <th>order_amount</th>\n",
       "      <th>loyalty_flag</th>\n",
       "      <th>spend_flag</th>\n",
       "      <th>order_freq</th>\n",
       "      <th>order_freq_flag</th>\n",
       "    </tr>\n",
       "  </thead>\n",
       "  <tbody>\n",
       "    <tr>\n",
       "      <th>0</th>\n",
       "      <td>0</td>\n",
       "      <td>2539329</td>\n",
       "      <td>1</td>\n",
       "      <td>prior</td>\n",
       "      <td>1</td>\n",
       "      <td>2</td>\n",
       "      <td>8</td>\n",
       "      <td>NaN</td>\n",
       "      <td>196.0</td>\n",
       "      <td>1.0</td>\n",
       "      <td>...</td>\n",
       "      <td>both</td>\n",
       "      <td>Mid-range product</td>\n",
       "      <td>Regularly busy</td>\n",
       "      <td>Regularly busy</td>\n",
       "      <td>8</td>\n",
       "      <td>Average Orders</td>\n",
       "      <td>New Customer</td>\n",
       "      <td>Low spender</td>\n",
       "      <td>20.5</td>\n",
       "      <td>Non-frequent customer</td>\n",
       "    </tr>\n",
       "    <tr>\n",
       "      <th>1</th>\n",
       "      <td>1</td>\n",
       "      <td>2398795</td>\n",
       "      <td>1</td>\n",
       "      <td>prior</td>\n",
       "      <td>2</td>\n",
       "      <td>3</td>\n",
       "      <td>7</td>\n",
       "      <td>15.0</td>\n",
       "      <td>196.0</td>\n",
       "      <td>1.0</td>\n",
       "      <td>...</td>\n",
       "      <td>both</td>\n",
       "      <td>Mid-range product</td>\n",
       "      <td>Regularly busy</td>\n",
       "      <td>Least busy</td>\n",
       "      <td>7</td>\n",
       "      <td>Average Orders</td>\n",
       "      <td>New Customer</td>\n",
       "      <td>Low spender</td>\n",
       "      <td>20.5</td>\n",
       "      <td>Non-frequent customer</td>\n",
       "    </tr>\n",
       "    <tr>\n",
       "      <th>2</th>\n",
       "      <td>2</td>\n",
       "      <td>473747</td>\n",
       "      <td>1</td>\n",
       "      <td>prior</td>\n",
       "      <td>3</td>\n",
       "      <td>3</td>\n",
       "      <td>12</td>\n",
       "      <td>21.0</td>\n",
       "      <td>196.0</td>\n",
       "      <td>1.0</td>\n",
       "      <td>...</td>\n",
       "      <td>both</td>\n",
       "      <td>Mid-range product</td>\n",
       "      <td>Regularly busy</td>\n",
       "      <td>Least busy</td>\n",
       "      <td>12</td>\n",
       "      <td>Most Orders</td>\n",
       "      <td>New Customer</td>\n",
       "      <td>Low spender</td>\n",
       "      <td>20.5</td>\n",
       "      <td>Non-frequent customer</td>\n",
       "    </tr>\n",
       "    <tr>\n",
       "      <th>3</th>\n",
       "      <td>3</td>\n",
       "      <td>2254736</td>\n",
       "      <td>1</td>\n",
       "      <td>prior</td>\n",
       "      <td>4</td>\n",
       "      <td>4</td>\n",
       "      <td>7</td>\n",
       "      <td>29.0</td>\n",
       "      <td>196.0</td>\n",
       "      <td>1.0</td>\n",
       "      <td>...</td>\n",
       "      <td>both</td>\n",
       "      <td>Mid-range product</td>\n",
       "      <td>Least busy</td>\n",
       "      <td>Least busy</td>\n",
       "      <td>7</td>\n",
       "      <td>Average Orders</td>\n",
       "      <td>New Customer</td>\n",
       "      <td>Low spender</td>\n",
       "      <td>20.5</td>\n",
       "      <td>Non-frequent customer</td>\n",
       "    </tr>\n",
       "    <tr>\n",
       "      <th>4</th>\n",
       "      <td>4</td>\n",
       "      <td>431534</td>\n",
       "      <td>1</td>\n",
       "      <td>prior</td>\n",
       "      <td>5</td>\n",
       "      <td>4</td>\n",
       "      <td>15</td>\n",
       "      <td>28.0</td>\n",
       "      <td>196.0</td>\n",
       "      <td>1.0</td>\n",
       "      <td>...</td>\n",
       "      <td>both</td>\n",
       "      <td>Mid-range product</td>\n",
       "      <td>Least busy</td>\n",
       "      <td>Least busy</td>\n",
       "      <td>15</td>\n",
       "      <td>Most Orders</td>\n",
       "      <td>New Customer</td>\n",
       "      <td>Low spender</td>\n",
       "      <td>20.5</td>\n",
       "      <td>Non-frequent customer</td>\n",
       "    </tr>\n",
       "  </tbody>\n",
       "</table>\n",
       "<p>5 rows × 26 columns</p>\n",
       "</div>"
      ],
      "text/plain": [
       "   Unnamed: 0_x  order_id  user_id eval_set  order_number  order_dow  \\\n",
       "0             0   2539329        1    prior             1          2   \n",
       "1             1   2398795        1    prior             2          3   \n",
       "2             2    473747        1    prior             3          3   \n",
       "3             3   2254736        1    prior             4          4   \n",
       "4             4    431534        1    prior             5          4   \n",
       "\n",
       "   order_hour_of_day  days_since_prior_order  product_id  add_to_cart_order  \\\n",
       "0                  8                     NaN       196.0                1.0   \n",
       "1                  7                    15.0       196.0                1.0   \n",
       "2                 12                    21.0       196.0                1.0   \n",
       "3                  7                    29.0       196.0                1.0   \n",
       "4                 15                    28.0       196.0                1.0   \n",
       "\n",
       "   ...  _merge    price_range_loc     busiest_day  busiest_days_2  hour  \\\n",
       "0  ...    both  Mid-range product  Regularly busy  Regularly busy     8   \n",
       "1  ...    both  Mid-range product  Regularly busy      Least busy     7   \n",
       "2  ...    both  Mid-range product  Regularly busy      Least busy    12   \n",
       "3  ...    both  Mid-range product      Least busy      Least busy     7   \n",
       "4  ...    both  Mid-range product      Least busy      Least busy    15   \n",
       "\n",
       "     order_amount  loyalty_flag   spend_flag order_freq        order_freq_flag  \n",
       "0  Average Orders  New Customer  Low spender       20.5  Non-frequent customer  \n",
       "1  Average Orders  New Customer  Low spender       20.5  Non-frequent customer  \n",
       "2     Most Orders  New Customer  Low spender       20.5  Non-frequent customer  \n",
       "3  Average Orders  New Customer  Low spender       20.5  Non-frequent customer  \n",
       "4     Most Orders  New Customer  Low spender       20.5  Non-frequent customer  \n",
       "\n",
       "[5 rows x 26 columns]"
      ]
     },
     "execution_count": 28,
     "metadata": {},
     "output_type": "execute_result"
    }
   ],
   "source": [
    "df_4.head()"
   ]
  },
  {
   "cell_type": "markdown",
   "id": "0a857585",
   "metadata": {},
   "source": [
    "#  Export"
   ]
  },
  {
   "cell_type": "code",
   "execution_count": 29,
   "id": "e4544e9b",
   "metadata": {},
   "outputs": [],
   "source": [
    "flagged_data = df_4"
   ]
  },
  {
   "cell_type": "code",
   "execution_count": 38,
   "id": "d979e664",
   "metadata": {},
   "outputs": [],
   "source": [
    "flagged_data.to_pickle('/Users/christinarandall/Documents/Career Foundry Projects/Achievment 4/Data/Prepared Data/flagged_data.pkl')\n"
   ]
  },
  {
   "cell_type": "code",
   "execution_count": null,
   "id": "182c055e",
   "metadata": {},
   "outputs": [],
   "source": []
  }
 ],
 "metadata": {
  "kernelspec": {
   "display_name": "Python 3 (ipykernel)",
   "language": "python",
   "name": "python3"
  },
  "language_info": {
   "codemirror_mode": {
    "name": "ipython",
    "version": 3
   },
   "file_extension": ".py",
   "mimetype": "text/x-python",
   "name": "python",
   "nbconvert_exporter": "python",
   "pygments_lexer": "ipython3",
   "version": "3.9.13"
  },
  "toc": {
   "base_numbering": 1,
   "nav_menu": {},
   "number_sections": true,
   "sideBar": true,
   "skip_h1_title": false,
   "title_cell": "Table of Contents",
   "title_sidebar": "Contents",
   "toc_cell": false,
   "toc_position": {},
   "toc_section_display": true,
   "toc_window_display": false
  }
 },
 "nbformat": 4,
 "nbformat_minor": 5
}
